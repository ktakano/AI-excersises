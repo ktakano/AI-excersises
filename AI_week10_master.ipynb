{
  "cells": [
    {
      "cell_type": "markdown",
      "metadata": {
        "id": "6BGXi2WF0Hpl"
      },
      "source": [
        "# AI演習 第10回\n",
        "### ディープラーニングによる自然言語処理と時系列データ処理 (4)"
      ]
    },
    {
      "cell_type": "markdown",
      "metadata": {
        "id": "4WyrJRoHzjQM"
      },
      "source": [
        "[実行環境]\n",
        "Colaboratoryの実行環境は更新されるので確認しておきます。\n",
        "\n",
        "Python: 3.10.12<br>\n",
        "TensorFlow: 2.14.0<br>\n",
        "\n",
        "ランタイムのタイプは、GPUを指定するように注意してください。"
      ]
    },
    {
      "cell_type": "code",
      "source": [
        "!python -V"
      ],
      "metadata": {
        "id": "rOTii9FkJk3T"
      },
      "execution_count": null,
      "outputs": []
    },
    {
      "cell_type": "code",
      "execution_count": null,
      "metadata": {
        "id": "O5jmSQp1zngl"
      },
      "outputs": [],
      "source": [
        "import tensorflow as tf\n",
        "\n",
        "print(tf.__version__)"
      ]
    },
    {
      "cell_type": "markdown",
      "source": [
        "# ニューラル機械翻訳\n",
        "\n",
        "* ニューラルネットワークを用いて実現する翻訳機能\n",
        "* 2014年にRNNを利用した系列変換モデル(sequence-to-sequence model)が考案され、実用化された。\n",
        "* 2017年にTransformerが考案され、機械翻訳の性能向上に貢献している。\n",
        "\n"
      ],
      "metadata": {
        "id": "5xYMARaF5KR-"
      }
    },
    {
      "cell_type": "markdown",
      "source": [
        "# RNNを利用した系列変換モデルによる機械翻訳\n",
        "\n",
        "* 翻訳の対象となる文章を系列データとして入力し、翻訳結果の文章を系列データとして出力する。\n",
        "\n",
        "<img src='https://drive.google.com/uc?export=view&id=1U4jwaSgp2akrDfTv3aKvNQ4DPXLXK2GE' width='70%'>\n",
        "\n",
        "* 系列変換モデルは、(1)入力となる系列データをエンコードし、(2)エンコードした結果をデコードして系列データを出力するため、エンコード・デコードモデルと呼ばれることがある。\n",
        "* エンコードした結果を、意味ベクトルと呼ぶ。\n",
        "* 意味ベクトルは固定長であるため、入力系列データの長さが大きくなると、学習が困難となる。\n",
        "\n",
        "<img src='https://drive.google.com/uc?export=view&id=1ssHPPADGjdM7xcsvJF5dFy6yuI6iQVEo' width='70%'>"
      ],
      "metadata": {
        "id": "NImfWVfbx9sE"
      }
    },
    {
      "cell_type": "markdown",
      "metadata": {
        "id": "dNMvPOBP_H6Q"
      },
      "source": [
        "# Attention (注視機構)\n",
        "* Bahdanau, Cho, Bengioらが、ニューラル機械翻訳に導入(2014年)\n",
        "* 入力データに対して着目したい特徴に注視(attention)して強調する仕組み\n",
        "* Sequence to sequenceモデルの性能改善に貢献\n",
        "* Transformerでも重要な役割として機能\n"
      ]
    },
    {
      "cell_type": "markdown",
      "source": [
        "## Self-attention\n",
        "\n",
        "* 系列データ内で着目したい情報を強調するように、元の系列データを調整する"
      ],
      "metadata": {
        "id": "EFFEbG8cCe-g"
      }
    },
    {
      "cell_type": "code",
      "execution_count": null,
      "metadata": {
        "id": "9fXwiiks3RLw"
      },
      "outputs": [],
      "source": [
        "!wget http://mattmahoney.net/dc/text8.zip\n",
        "!unzip text8.zip"
      ]
    },
    {
      "cell_type": "code",
      "execution_count": null,
      "metadata": {
        "id": "uTqrq3lG3Zs-"
      },
      "outputs": [],
      "source": [
        "from gensim.models.word2vec import Word2Vec, Text8Corpus\n",
        "\n",
        "sentences = Text8Corpus('text8')\n",
        "model = Word2Vec(sentences, vector_size=100)\n",
        "\n",
        "model.save('model.bin')"
      ]
    },
    {
      "cell_type": "code",
      "execution_count": null,
      "metadata": {
        "id": "5k0iJ8Jh3cCK"
      },
      "outputs": [],
      "source": [
        "model = Word2Vec.load('model.bin')"
      ]
    },
    {
      "cell_type": "code",
      "execution_count": null,
      "metadata": {
        "id": "w1v0lS-H4Ti-"
      },
      "outputs": [],
      "source": [
        "text = \"I book a room at the hotel.\""
      ]
    },
    {
      "cell_type": "code",
      "execution_count": null,
      "metadata": {
        "id": "wGbaS7xY8kML"
      },
      "outputs": [],
      "source": [
        "text = text.lower() # 小文字にする\n",
        "text = text.replace('.', ' .') # ピリオドを分割\n",
        "words = text.split(' ') # 空白を区切りにして単語を分割"
      ]
    },
    {
      "cell_type": "code",
      "execution_count": null,
      "metadata": {
        "id": "vNyDgAY78uyA"
      },
      "outputs": [],
      "source": [
        "import numpy as np\n",
        "\n",
        "# Self-attentionの重み行列の作成\n",
        "a = np.array([])\n",
        "for w1 in words:\n",
        "  for w2 in words:\n",
        "    try:\n",
        "      score = model.wv.similarity(w1, w2)\n",
        "    except:\n",
        "      score = 0\n",
        "\n",
        "    #print(w1, w2, score)\n",
        "    a = np.append(a, score)"
      ]
    },
    {
      "cell_type": "code",
      "execution_count": null,
      "metadata": {
        "id": "sVUflJoB6fFa",
        "colab": {
          "base_uri": "https://localhost:8080/",
          "height": 435
        },
        "outputId": "a07e383c-423e-4e0f-da33-6de556336ff8"
      },
      "outputs": [
        {
          "output_type": "display_data",
          "data": {
            "text/plain": [
              "<Figure size 640x480 with 2 Axes>"
            ],
            "image/png": "[encoded data removed]"
          },
          "metadata": {}
        }
      ],
      "source": [
        "from matplotlib import pyplot as plt\n",
        "import seaborn as sns\n",
        "\n",
        "length = len(words)\n",
        "\n",
        "attention_matrix = a.reshape(length, length)\n",
        "#feature_names = [\"0\", \"1\", \"2\", \"3\"]\n",
        "feature_names = words\n",
        "# Self-attentionの重みのヒートマップを描く\n",
        "sns.heatmap(attention_matrix, annot=True,\n",
        "            xticklabels=feature_names,\n",
        "            yticklabels=feature_names)\n",
        "\n",
        "# グラフを表示する\n",
        "plt.show()"
      ]
    },
    {
      "cell_type": "markdown",
      "source": [
        "### 確認例題 3-1\n",
        "次の英文について、self-attentionの重みのヒートマップを描画してみましょう。\n",
        "\n",
        "I cut orages with a knife."
      ],
      "metadata": {
        "id": "2eHJhoY4HOi8"
      }
    },
    {
      "cell_type": "markdown",
      "source": [
        "## Self-attentionによるベクトル生成の例\n",
        "\n",
        "まず、\"I book a room at the hotel.\"の各単語ベクトルを足し合わせて、文書ベクトルを生成します。"
      ],
      "metadata": {
        "id": "Z356BgeTGS2Y"
      }
    },
    {
      "cell_type": "code",
      "source": [
        "sentence_vec = np.zeros(model.wv[\"book\"].size)\n",
        "\n",
        "for i, t in enumerate(words):\n",
        "  try:\n",
        "    sentence_vec += model.wv[t]\n",
        "  except:\n",
        "    sentence_vec += 0\n",
        "\n",
        "print (\"元の文章ベクトル:\", sentence_vec)"
      ],
      "metadata": {
        "id": "fEbTOKKBJpJ7"
      },
      "execution_count": null,
      "outputs": []
    },
    {
      "cell_type": "markdown",
      "source": [
        "### 確認例題 3-2\n",
        "確認例題3-1と同じ英文を用いて、文書ベクトルを生成してみましょう。\n",
        "\n",
        "I cut orages with a knife."
      ],
      "metadata": {
        "id": "tvuJeDoJMxlQ"
      }
    },
    {
      "cell_type": "markdown",
      "source": [
        "次に\"book\"のSelf-attentionの重みを利用して、\"I book a room at the hotel.\"の文書ベクトルを重み付きで生成してみます。"
      ],
      "metadata": {
        "id": "91ImF8UYKR1u"
      }
    },
    {
      "cell_type": "code",
      "source": [
        "attention_weight = attention_matrix[1] # bookのself-attentionの重み\n",
        "print(attention_weight)"
      ],
      "metadata": {
        "id": "arB3x0o6GIId"
      },
      "execution_count": null,
      "outputs": []
    },
    {
      "cell_type": "code",
      "source": [
        "book_attention_vec = np.zeros(model.wv[\"book\"].size)\n",
        "\n",
        "for i, t in enumerate(words):\n",
        "  try:\n",
        "    book_attention_vec += attention_weight[i] * model.wv[t]\n",
        "  except:\n",
        "    book_attention_vec += 0\n",
        "\n",
        "print (\"bookのSelf-attentionの重みで調整した文書ベクトル\", book_attention_vec)"
      ],
      "metadata": {
        "id": "NCoPdFViG9UY"
      },
      "execution_count": null,
      "outputs": []
    },
    {
      "cell_type": "markdown",
      "source": [
        "### 確認例題 3-3\n",
        "\"oranges\"と\"knife\"の単語ベクトルについて、self-attentionによる重みを用いて調整した文書ベクトルを生成してみましょう。\n",
        "\n"
      ],
      "metadata": {
        "id": "IBw2e8sOPbnK"
      }
    },
    {
      "cell_type": "markdown",
      "source": [
        "# RNN機械翻訳におけるattention\n",
        "\n",
        "* 入力系列データの各セルの出力を結合したものを意味ベクトル列とする。\n",
        "* デコーダのセルの入力に対して、意味ベクトルのどの部分に着目（注視）しているかを考慮して、コンテキストベクトルを生成する。\n",
        "* 入力系列データが長くなっても、精度が良い。\n",
        "\n",
        "<img src='https://drive.google.com/uc?export=view&id=1U4zc0A0bt3-7po1QS4aa5Eum5nvUfqOa' width='70%'>"
      ],
      "metadata": {
        "id": "IyMmiHN2CU8g"
      }
    },
    {
      "cell_type": "markdown",
      "source": [
        "## コンテキストベクトルの計算方法\n",
        "\n",
        "* デコーダのセルiの出力h'iに対して、意味ベクトル列の各意味ベクトル[h1, h2, …, hn]との内積を計算 → [a1, a2, …, an]\n",
        "*[a1, a2, …, an]を合計が1となるように正規化 (softmaxを計算) → [a’1, a’2, …, a’n]\n",
        "*意味ベクトル列の各意味ベクトルの重み付き和を計算 → コンテキストベクトルci\n",
        "\n",
        "\n",
        "<img src='https://drive.google.com/uc?export=view&id=1ibCk1eq0k8LVp_Bx_Z0GEGHn2MSM-Alx' width='70%'>"
      ],
      "metadata": {
        "id": "B9CBxDkzKod0"
      }
    },
    {
      "cell_type": "markdown",
      "source": [
        "## Attentionを用いたRNN系列変換モデルの構成\n",
        "\n",
        "<img src='https://drive.google.com/uc?export=view&id=1SCu2_Ni9A4OK1E7UYW8BKx2tew0C2Igi' width='70%'>"
      ],
      "metadata": {
        "id": "vASNKAomMBeR"
      }
    },
    {
      "cell_type": "markdown",
      "source": [
        "左側のエンコーダの各出力を擬似的に算出してみます。"
      ],
      "metadata": {
        "id": "vF7i7dgaR5md"
      }
    },
    {
      "cell_type": "code",
      "source": [
        "wordvec_size = 100\n",
        "hidden_size = 5\n",
        "\n",
        "Wx = np.random.randn(wordvec_size, hidden_size)\n",
        "Wo = np.random.randn(hidden_size, hidden_size)\n",
        "b = np.zeros(hidden_size)"
      ],
      "metadata": {
        "id": "LXJDOWP_Ot0s"
      },
      "execution_count": null,
      "outputs": []
    },
    {
      "cell_type": "code",
      "source": [
        "def RNN_cell0(x, Wx, b):\n",
        "\n",
        "  _o = np.dot(x, Wx) + b\n",
        "  o = np.tanh(_o)\n",
        "\n",
        "  return o"
      ],
      "metadata": {
        "id": "s9FgN-z3OoPL"
      },
      "execution_count": null,
      "outputs": []
    },
    {
      "cell_type": "code",
      "source": [
        "def RNN_cell(x, o, Wx, Wo, b):\n",
        "\n",
        "  o_out = np.dot(o, Wo) + np.dot(x, Wx) + b\n",
        "\n",
        "  return o_out"
      ],
      "metadata": {
        "id": "35I7X-L1OsyF"
      },
      "execution_count": null,
      "outputs": []
    },
    {
      "cell_type": "code",
      "source": [
        "x1 = model.wv[\"i\"]\n",
        "x2 = model.wv[\"book\"]\n",
        "x3 = model.wv[\"room\"]\n",
        "x4 = model.wv[\"at\"]\n",
        "x5 = model.wv[\"the\"]\n",
        "x6 = model.wv[\"hotel\"]"
      ],
      "metadata": {
        "id": "SkjZfEhoPS6Y"
      },
      "execution_count": null,
      "outputs": []
    },
    {
      "cell_type": "code",
      "source": [
        "h1 = RNN_cell0(x1, Wx, b)\n",
        "h2 = RNN_cell(x2, h1, Wx, Wo, b)\n",
        "h3 = RNN_cell(x3, h2, Wx, Wo, b)\n",
        "h4 = RNN_cell(x4, h3, Wx, Wo, b)\n",
        "h5 = RNN_cell(x5, h4, Wx, Wo, b)\n",
        "h6 = RNN_cell(x6, h5, Wx, Wo, b)"
      ],
      "metadata": {
        "id": "s9e7DvR2QEqw"
      },
      "execution_count": null,
      "outputs": []
    },
    {
      "cell_type": "markdown",
      "source": [
        "右側のデコーダの最初のセルについて、擬似的に出力してみます。"
      ],
      "metadata": {
        "id": "n_oPZw7cSC7H"
      }
    },
    {
      "cell_type": "code",
      "source": [
        "# \"Dinner at the restaurant is my favorite.\"\n",
        "\n",
        "y1 = model.wv[\"dinner\"]\n",
        "hh1 = RNN_cell0(y1, Wx, b)"
      ],
      "metadata": {
        "id": "WIP0jWgIQyDR"
      },
      "execution_count": null,
      "outputs": []
    },
    {
      "cell_type": "markdown",
      "source": [
        "\"dinner\"を注視するコンテキストベクトルを生成します。はじめに重みを計算します。"
      ],
      "metadata": {
        "id": "X4sMjvhrSLey"
      }
    },
    {
      "cell_type": "code",
      "source": [
        "a1 = np.dot(h1, hh1)\n",
        "a2 = np.dot(h2, hh1)\n",
        "a3 = np.dot(h3, hh1)\n",
        "a4 = np.dot(h4, hh1)\n",
        "a5 = np.dot(h5, hh1)\n",
        "a6 = np.dot(h6, hh1)"
      ],
      "metadata": {
        "id": "b4ykSNVPRMg7"
      },
      "execution_count": null,
      "outputs": []
    },
    {
      "cell_type": "markdown",
      "source": [
        "重み付き和を計算することで、\"dinner\"に対するコンテキストベクトルを生成します。"
      ],
      "metadata": {
        "id": "4-KuSgLgSrL8"
      }
    },
    {
      "cell_type": "code",
      "source": [
        "c1 = a1 * h1 + a2 * h2 + a3 * h3 + a4 * h4 + a5 * h5 + a6 * h6"
      ],
      "metadata": {
        "id": "MR4V4jeBS2sg"
      },
      "execution_count": null,
      "outputs": []
    },
    {
      "cell_type": "markdown",
      "source": [
        "### 確認例題 3-4\n",
        "\"restaurant\"に対するコンテキストベクトルを生成してみましょう。hh2, hh3, ...などの出力には、RNN_cell(x, o, Wx, Wo, b)を用いてください。"
      ],
      "metadata": {
        "id": "Mm6IwtUITRYo"
      }
    },
    {
      "cell_type": "markdown",
      "metadata": {
        "id": "s49voOvohoc4"
      },
      "source": [
        "# Transformer\n",
        "\n",
        "* Vaswaniらが、2017年に提案\n",
        "* 機械翻訳モデルとして提案されたが、広く自然言語処理や画像処理にも利用されている\n",
        "* 英-独翻訳で28.4のBLEUスコア\n",
        " * BLEUスコア: 機械翻訳の精度を評価するためのスコア\n",
        "* RNNのような系列構造を持たず、並列計算による高速化が可能\n",
        "* BERTやGPT-nなどの深層学習モデルもとになっている\n",
        "* 画像処理への適用例としては、Vision Transformer (ViT)がある。\n"
      ]
    },
    {
      "cell_type": "markdown",
      "source": [
        "## Transformerの構成\n",
        "\n",
        "<img src='https://drive.google.com/uc?export=view&id=1UoTp8e9Y1NCCsr7-m7QlvQBwWRCFgfNt' width='50%'>\n",
        "\n",
        "* Multi-head attention: query, key, valueを入力としたアテンション機構。入力データを分割して、複数の構成にしたものをMulti-headと呼んでいる。\n",
        "* Masked multi-head attention: 後続の単語を参照しないようにするアテンション機構\n",
        "* Positional encoding: 単語の出現位置についての埋め込み情報 (Vaswaniらは、sin関数、cos関数を用いた計算方法を提案)"
      ],
      "metadata": {
        "id": "aahUXhlGMvpX"
      }
    },
    {
      "cell_type": "markdown",
      "source": [
        "## Scaled Dot-Product Attention\n",
        "\n",
        "* Query、Key、ValueによるAttention機構\n",
        "* ベクトルの大きさで正規化される（scaledされる）\n",
        "* Positional Encodeingを用いて、単語の位置情報を加算する\n",
        "\n",
        "<img src='https://drive.google.com/uc?export=view&id=1w1Wqzmli6PkzPBXR3tpc02pT5WF3LpxZ' width='50%'>"
      ],
      "metadata": {
        "id": "mcZ6_A-AgDBD"
      }
    },
    {
      "cell_type": "markdown",
      "source": [
        "## Multi-head attention\n",
        "\n",
        "* 入力データを分割して、複数のscaled dot-product attentionで並列処理\n",
        "* 出力は、各attentionの出力(ベクトル形式)を横方向に連結(concat)\n",
        "\n",
        "<img src='https://drive.google.com/uc?export=view&id=1cpMJTclA31kwMsLZN_Jv19cvXjp8ETEN' width='30%'>\n",
        "\n",
        "\n"
      ],
      "metadata": {
        "id": "wkfVKpgBhKxJ"
      }
    },
    {
      "cell_type": "markdown",
      "source": [
        "## ポジショナルエンコーディング\n",
        "* 文章中の各単語(トークン)に位置情報を与える処理"
      ],
      "metadata": {
        "id": "OV1tvf7GVHgc"
      }
    },
    {
      "cell_type": "code",
      "source": [
        "import numpy as np\n",
        "\n",
        "def positional_encoding(pos, i, dim):\n",
        "  if i//2 == 0:\n",
        "    return np.sin(pos/10000**(1/dim))\n",
        "  else:\n",
        "    return np.cos(pos/10000**((i-1)/dim))"
      ],
      "metadata": {
        "id": "h3vA0IUmVGrk"
      },
      "execution_count": null,
      "outputs": []
    },
    {
      "cell_type": "markdown",
      "source": [
        "1番目の(単語の)位置情報を100次元ベクトルで生成してみます。"
      ],
      "metadata": {
        "id": "zhw_6dC0VgP9"
      }
    },
    {
      "cell_type": "code",
      "source": [
        "for i in range(0, 100):\n",
        "  print(positional_encoding(1, i, 100))"
      ],
      "metadata": {
        "id": "f9ruldImVosv"
      },
      "execution_count": null,
      "outputs": []
    },
    {
      "cell_type": "markdown",
      "source": [
        "### 確認例題 3-5\n",
        "2番目と3番目の位置情報を100次元ベクトルで生成してみましょう。"
      ],
      "metadata": {
        "id": "vdmQczfGWoYU"
      }
    },
    {
      "cell_type": "markdown",
      "source": [
        "30番目までの位置情報を配列(30個 x 100次元ベクトル)に格納します。その後可視化します。"
      ],
      "metadata": {
        "id": "gRqoStonV1cf"
      }
    },
    {
      "cell_type": "code",
      "source": [
        "pe = np.zeros((30, 100))\n",
        "for i in range(0,30):\n",
        "  for j in range(0, 100):\n",
        "    pe[i][j] = positional_encoding(i, j, 100)\n",
        "\n",
        "print(pe)"
      ],
      "metadata": {
        "colab": {
          "base_uri": "https://localhost:8080/"
        },
        "id": "fEBMnfDMVrvy",
        "outputId": "3b2d84d0-bcf7-4a42-e823-ef23eb7f52e4"
      },
      "execution_count": null,
      "outputs": [
        {
          "output_type": "stream",
          "name": "stdout",
          "text": [
            "[[ 0.          0.          1.         ...  1.          1.\n",
            "   1.        ]\n",
            " [ 0.79073629  0.79073629  0.61215694 ...  0.99999999  0.99999999\n",
            "   0.99999999]\n",
            " [ 0.96810942  0.96810942 -0.25052775 ...  0.99999996  0.99999997\n",
            "   0.99999997]\n",
            " ...\n",
            " [-0.48682265 -0.48682265  0.87350083 ...  0.99999238  0.99999367\n",
            "   0.99999473]\n",
            " [ 0.39269694  0.39269694  0.91966794 ...  0.99999181  0.99999319\n",
            "   0.99999433]\n",
            " [ 0.96760697  0.96760697  0.2524614  ...  0.99999121  0.99999269\n",
            "   0.99999392]]\n"
          ]
        }
      ]
    },
    {
      "cell_type": "code",
      "source": [
        "import seaborn as sns\n",
        "import matplotlib.pyplot as plt\n",
        "\n",
        "sns.heatmap(pe)\n",
        "plt.show()"
      ],
      "metadata": {
        "colab": {
          "base_uri": "https://localhost:8080/",
          "height": 439
        },
        "id": "8dIcaTn0WDVw",
        "outputId": "a1bfdeb9-af6c-42b4-c5ac-59d8e693d65b"
      },
      "execution_count": null,
      "outputs": [
        {
          "output_type": "display_data",
          "data": {
            "text/plain": [
              "<Figure size 640x480 with 2 Axes>"
            ],
            "image/png": "[encoded data removed]"
          },
          "metadata": {}
        }
      ]
    },
    {
      "cell_type": "markdown",
      "source": [
        "\"I book room at the hotel.\"の各単語にPositional Encodingを埋め込んでみます。"
      ],
      "metadata": {
        "id": "y08t_uwoXYK0"
      }
    },
    {
      "cell_type": "code",
      "source": [
        "xe1 = x1 + pe[0] # I\n",
        "xe2 = x2 + pe[1] # book\n",
        "\n",
        "print(xe1.shape)\n",
        "print(xe2.shape)"
      ],
      "metadata": {
        "id": "Z2YK8ihnXxcQ"
      },
      "execution_count": null,
      "outputs": []
    },
    {
      "cell_type": "markdown",
      "source": [
        "### 確認例題 3-6\n",
        "残りの単語\"room\"、\"at\"、\"the\"、\"hotel\"についても、Posisional Encodingを埋め込んだベクトルを生成してみましょう。"
      ],
      "metadata": {
        "id": "6j3wNMizYRRo"
      }
    },
    {
      "cell_type": "markdown",
      "source": [
        "## Transformerエンコーダによる文章分類\n",
        "\n",
        "Transformerエンコーダを用いて、IMDBデータセットの映画レビュー文章を分類します。"
      ],
      "metadata": {
        "id": "r2HfScUYN6IM"
      }
    },
    {
      "cell_type": "code",
      "execution_count": null,
      "metadata": {
        "id": "hHtrgk4khoBe"
      },
      "outputs": [],
      "source": [
        "import tensorflow as tf\n",
        "from tensorflow import keras\n",
        "from tensorflow.keras import layers\n",
        "\n",
        "class TransformerEncoder(layers.Layer):\n",
        "    def __init__(self, embed_dim, dense_dim, num_heads, **kwargs):\n",
        "        super().__init__(**kwargs)\n",
        "        self.embed_dim = embed_dim\n",
        "        self.dense_dim = dense_dim\n",
        "        self.num_heads = num_heads\n",
        "        self.attention = layers.MultiHeadAttention(\n",
        "            num_heads=num_heads, key_dim=embed_dim)\n",
        "        self.dense_proj = keras.Sequential(\n",
        "            [layers.Dense(dense_dim, activation=\"relu\"),\n",
        "             layers.Dense(embed_dim),]\n",
        "        )\n",
        "        self.layernorm_1 = layers.LayerNormalization()\n",
        "        self.layernorm_2 = layers.LayerNormalization()\n",
        "\n",
        "    def call(self, inputs, mask=None):\n",
        "        if mask is not None:\n",
        "            mask = mask[:, tf.newaxis, :]\n",
        "        attention_output = self.attention(\n",
        "            inputs, inputs, attention_mask=mask)\n",
        "        proj_input = self.layernorm_1(inputs + attention_output)\n",
        "        proj_output = self.dense_proj(proj_input)\n",
        "        return self.layernorm_2(proj_input + proj_output)\n",
        "\n",
        "    def get_config(self):\n",
        "        config = super().get_config()\n",
        "        config.update({\n",
        "            \"embed_dim\": self.embed_dim,\n",
        "            \"num_heads\": self.num_heads,\n",
        "            \"dense_dim\": self.dense_dim,\n",
        "        })\n",
        "        return config"
      ]
    },
    {
      "cell_type": "code",
      "execution_count": null,
      "metadata": {
        "id": "4DRm4E2Whufo",
        "colab": {
          "base_uri": "https://localhost:8080/"
        },
        "outputId": "01a8b8cd-c450-4704-f6b9-d5247b4239d3"
      },
      "outputs": [
        {
          "output_type": "stream",
          "name": "stdout",
          "text": [
            "Model: \"model\"\n",
            "_________________________________________________________________\n",
            " Layer (type)                Output Shape              Param #   \n",
            "=================================================================\n",
            " input_1 (InputLayer)        [(None, None)]            0         \n",
            "                                                                 \n",
            " embedding (Embedding)       (None, None, 256)         5120000   \n",
            "                                                                 \n",
            " transformer_encoder (Trans  (None, None, 256)         543776    \n",
            " formerEncoder)                                                  \n",
            "                                                                 \n",
            " global_max_pooling1d (Glob  (None, 256)               0         \n",
            " alMaxPooling1D)                                                 \n",
            "                                                                 \n",
            " dropout (Dropout)           (None, 256)               0         \n",
            "                                                                 \n",
            " dense_2 (Dense)             (None, 1)                 257       \n",
            "                                                                 \n",
            "=================================================================\n",
            "Total params: 5664033 (21.61 MB)\n",
            "Trainable params: 5664033 (21.61 MB)\n",
            "Non-trainable params: 0 (0.00 Byte)\n",
            "_________________________________________________________________\n"
          ]
        }
      ],
      "source": [
        "vocab_size = 20000 # 単語数\n",
        "embed_dim = 256 # 単語埋め込み層の次元\n",
        "num_heads = 2\n",
        "dense_dim = 32\n",
        "\n",
        "inputs = keras.Input(shape=(None,), dtype=\"int64\")\n",
        "x = layers.Embedding(vocab_size, embed_dim)(inputs)\n",
        "x = TransformerEncoder(embed_dim, dense_dim, num_heads)(x)\n",
        "x = layers.GlobalMaxPooling1D()(x)\n",
        "x = layers.Dropout(0.5)(x)\n",
        "outputs = layers.Dense(1, activation=\"sigmoid\")(x)\n",
        "model = keras.Model(inputs, outputs)\n",
        "model.compile(optimizer=\"rmsprop\",\n",
        "              loss=\"binary_crossentropy\",\n",
        "              metrics=[\"accuracy\"])\n",
        "model.summary()"
      ]
    },
    {
      "cell_type": "code",
      "execution_count": null,
      "metadata": {
        "id": "Y-nTFpZwnLwm"
      },
      "outputs": [],
      "source": [
        "!curl -O https://ai.stanford.edu/~amaas/data/sentiment/aclImdb_v1.tar.gz\n",
        "!tar -xf aclImdb_v1.tar.gz\n",
        "!rm -r aclImdb/train/unsup"
      ]
    },
    {
      "cell_type": "code",
      "execution_count": null,
      "metadata": {
        "id": "DkicmeUYncJM"
      },
      "outputs": [],
      "source": [
        "import os, pathlib, shutil, random\n",
        "from tensorflow import keras\n",
        "batch_size = 32\n",
        "base_dir = pathlib.Path(\"aclImdb\")\n",
        "val_dir = base_dir / \"val\"\n",
        "train_dir = base_dir / \"train\"\n",
        "for category in (\"neg\", \"pos\"):\n",
        "    os.makedirs(val_dir / category)\n",
        "    files = os.listdir(train_dir / category)\n",
        "    random.Random(1337).shuffle(files)\n",
        "    num_val_samples = int(0.2 * len(files))\n",
        "    val_files = files[-num_val_samples:]\n",
        "    for fname in val_files:\n",
        "        shutil.move(train_dir / category / fname,\n",
        "                    val_dir / category / fname)\n",
        "\n",
        "train_ds = keras.utils.text_dataset_from_directory(\n",
        "    \"aclImdb/train\", batch_size=batch_size\n",
        ")\n",
        "val_ds = keras.utils.text_dataset_from_directory(\n",
        "    \"aclImdb/val\", batch_size=batch_size\n",
        ")\n",
        "test_ds = keras.utils.text_dataset_from_directory(\n",
        "    \"aclImdb/test\", batch_size=batch_size\n",
        ")\n",
        "text_only_train_ds = train_ds.map(lambda x, y: x)"
      ]
    },
    {
      "cell_type": "code",
      "execution_count": null,
      "metadata": {
        "id": "rv2efUOInXUI"
      },
      "outputs": [],
      "source": [
        "from tensorflow.keras import layers\n",
        "\n",
        "max_length = 600\n",
        "max_tokens = 20000\n",
        "text_vectorization = layers.TextVectorization(\n",
        "    max_tokens=max_tokens,\n",
        "    output_mode=\"int\",\n",
        "    output_sequence_length=max_length,\n",
        ")\n",
        "text_vectorization.adapt(text_only_train_ds)\n",
        "\n",
        "int_train_ds = train_ds.map(\n",
        "    lambda x, y: (text_vectorization(x), y),\n",
        "    num_parallel_calls=4)\n",
        "int_val_ds = val_ds.map(\n",
        "    lambda x, y: (text_vectorization(x), y),\n",
        "    num_parallel_calls=4)\n",
        "int_test_ds = test_ds.map(\n",
        "    lambda x, y: (text_vectorization(x), y),\n",
        "    num_parallel_calls=4)"
      ]
    },
    {
      "cell_type": "code",
      "source": [
        "for item in int_train_ds:\n",
        "  print(item)"
      ],
      "metadata": {
        "id": "BZcDANRrv-YB"
      },
      "execution_count": null,
      "outputs": []
    },
    {
      "cell_type": "code",
      "execution_count": null,
      "metadata": {
        "id": "Wi0b9CcYkNDA"
      },
      "outputs": [],
      "source": [
        "model.fit(int_train_ds, validation_data=int_val_ds, epochs=3)"
      ]
    },
    {
      "cell_type": "code",
      "source": [
        "print(f\"Test acc: {model.evaluate(int_test_ds)[1]:.3f}\")"
      ],
      "metadata": {
        "colab": {
          "base_uri": "https://localhost:8080/"
        },
        "id": "i1DFeFymapZm",
        "outputId": "b52f791c-dfcd-46d3-b5a9-ea924c4306b9"
      },
      "execution_count": null,
      "outputs": [
        {
          "output_type": "stream",
          "name": "stdout",
          "text": [
            "782/782 [==============================] - 20s 25ms/step - loss: 0.3079 - accuracy: 0.8704\n",
            "Test acc: 0.870\n"
          ]
        }
      ]
    },
    {
      "cell_type": "markdown",
      "source": [
        "#### 確認例題 3-7\n",
        "* Epoch数を増やして分類精度が向上するか確認しましょう。\n",
        "* さらに、前回までの確認例題で確認した一次元CNN、SimpleRNN、LSTM、GRUに加えて、TransformerEncoderを含めた5つのモデルについて、分類精度を比較し、考察してみましょう。また、各モデルのパラメータ数についても比較してみましょう。"
      ],
      "metadata": {
        "id": "q2UJKn_ALzUZ"
      }
    },
    {
      "cell_type": "markdown",
      "metadata": {
        "id": "XuFp2jhKzWSM"
      },
      "source": [
        "# BERT (Bidirectional Encoder Representations from Transformers)\n",
        "\n",
        "* 双方向のエンコード表現学習を実現する深層ニューラルネットワーク\n",
        "\n",
        "* 文脈理解の向上\n",
        " * 2019 brazil traveler to usa need a visa <br>\n",
        "   ブラジルへのアメリカ人旅行者 x <br>\n",
        "   アメリカへのブラジル人旅行者 o <br>\n",
        "\n",
        "* 他のモデルへの転移学習が容易\n",
        " * 転移学習: 学習済のNNモデルを，他のNNモデルに埋め込んで利用する学習方法．少ない学習データで，認識精度の高いNNモデルが実現できる．\n",
        "* ラベルが付与されていないデータセットからも学習可能（教師なし学習）\n",
        "\n",
        "* Transformer: Attentionを用いて時系列データを処理する深層学習モデル\n",
        "* Attention: 出力シーケンスの生成時に入力シーケンスのどこに注視（attention）するかを判断する仕組み\n",
        "\n",
        "<br>\n",
        "<img src='https://drive.google.com/uc?export=view&id=1J-JGdA0-yJsEbfF35goLmJSsKPCUUS-E' width='100%'>"
      ]
    },
    {
      "cell_type": "markdown",
      "metadata": {
        "id": "78gR8mrPzMNI"
      },
      "source": [
        "### BERTの事前学習\n",
        "* BERTは事前学習により構築したモデルを、さらに転移学習（ファインチューニング）することで様々自然言語処理タスクに適用することができる。\n",
        "* 事前学習は、単語のマスクによる単語推定学習と2つの文章に対する隣接推定学習により実施される。\n",
        "\n",
        "[例]\n",
        "初期の学習による推定:<br>\n",
        "{'input_text': 'i have watched this [mask] and it was awesome',<br>\n",
        " 'predicted mask token': 'this',<br>\n",
        " 'prediction': 'i have watched this this and it was awesome',<br>\n",
        " 'probability': 0.086307295}\n",
        "\n",
        "\n",
        "中盤の学習による推定:<br>\n",
        "{'input_text': 'i have watched this [mask] and it was awesome',<br>\n",
        " 'predicted mask token': 'movie',<br>\n",
        " 'prediction': 'i have watched this movie and it was awesome',<br>\n",
        " 'probability': 0.4759983}"
      ]
    },
    {
      "cell_type": "markdown",
      "metadata": {
        "id": "q1y3Tqky4wLw"
      },
      "source": [
        "### BERTによる文書ベクトルの出力例\n",
        "* BERTを用いて、単語の分散表現を抽出することができます。文書を単語の集合とみなすと、文書の分散表現も得ることができます。\n",
        "* ここでは、文書の分散表現を文書ベクトルと呼ぶことにします。\n",
        "* 文書ベクトル間の類似度を計算することで、似ている文書同士を分類したり、単語ベクトルと文書ベクトルの類似度の計算による文書検索が実現できるようになります。（第6回講義のベクトル空間モデルも参照して下さい。）\n",
        "\n",
        "\n",
        "<br>\n",
        "<img src='https://drive.google.com/uc?export=view&id=1HgE6BVMiPAks6J88iYPtcnIk4Uk5kJ5a' width='70%'>"
      ]
    },
    {
      "cell_type": "markdown",
      "metadata": {
        "id": "J6i5nPnOTWHa"
      },
      "source": [
        "### BERT日本語事前学習モデルの利用\n",
        "上記の文書ベクトルの出力例をコードで動かしてみます。\n",
        "BERT日本語事前学習モデルを利用しています。\n",
        "\n",
        "ここでは、BERT日本語事前学習モデルとして、京都大学で構築した 「Japanese_L-12_H-768_A-12_E-30_BPE_WWM_transformers」を利用します。\n",
        "このモデルは、入力テキストを形態素解析し、形態素をsubwordに分割したものを基本単位とし、日本語テキストのみ(Wikipediaを利用)で事前学習ししています。\n",
        "\n",
        "[京都大学のウェブサイト]<br>\n",
        "http://nlp.ist.i.kyoto-u.ac.jp/index.php?BERT%E6%97%A5%E6%9C%AC%E8%AA%9EPretrained%E3%83%A2%E3%83%87%E3%83%AB"
      ]
    },
    {
      "cell_type": "markdown",
      "metadata": {
        "id": "EBoi7y_kaV8w"
      },
      "source": [
        "#### BERT事前学習モデルなどの準備\n",
        "京都大学のウェブサイトからファイルをダウンロードします。"
      ]
    },
    {
      "cell_type": "code",
      "execution_count": null,
      "metadata": {
        "id": "G_wwUZk8Sw3C"
      },
      "outputs": [],
      "source": [
        "!wget -O Japanese_L-12_H-768_A-12_E-30_BPE_WWM_transformers.zip http://nlp.ist.i.kyoto-u.ac.jp/DLcounter/lime.cgi?down=http://nlp.ist.i.kyoto-u.ac.jp/nl-resource/JapaneseBertPretrainedModel/Japanese_L-12_H-768_A-12_E-30_BPE_WWM_transformers.zip&name=Japanese_L-12_H-768_A-12_E-30_BPE_WWM_transformers.zip\n",
        "!unzip Japanese_L-12_H-768_A-12_E-30_BPE_WWM_transformers.zip"
      ]
    },
    {
      "cell_type": "code",
      "execution_count": null,
      "metadata": {
        "id": "0wUQOwGxXkPQ"
      },
      "outputs": [],
      "source": [
        "#!pip install transformers==2.5.1\n",
        "#!pip install transformers==3.4.0\n",
        "!pip install transformers"
      ]
    },
    {
      "cell_type": "markdown",
      "metadata": {
        "id": "T-20atE-auB2"
      },
      "source": [
        "#### BERT事前モデルの読み込み"
      ]
    },
    {
      "cell_type": "code",
      "execution_count": null,
      "metadata": {
        "id": "ElvDBynRRixC"
      },
      "outputs": [],
      "source": [
        "# -*- coding: utf-8 -*-\n",
        "import torch\n",
        "# from pyknp import Juman\n",
        "from transformers import BertTokenizer, BertModel\n",
        "\n",
        "text = \"今日の授業は大変役に立った。\"\n",
        "bert_model_path = \"./Japanese_L-12_H-768_A-12_E-30_BPE_WWM_transformers\"\n",
        "\n",
        "# BERT pre_trained model load\n",
        "bert_model = BertModel.from_pretrained(bert_model_path)\n",
        "\n",
        "# for Tokenizer\n",
        "vocab_file_path = bert_model_path + \"/vocab.txt\"\n",
        "bert_tokenizer = BertTokenizer(vocab_file_path, do_lower_case=False, do_basic_tokenize=False)"
      ]
    },
    {
      "cell_type": "markdown",
      "metadata": {
        "id": "kKaFv5FCanCw"
      },
      "source": [
        "#### 単語のID化\n",
        "形態素分解した単語リストから、トークンIDの列を取得します。以下、トークンIDの列をBERTに入力し、文書ベクトルを生成していきます。"
      ]
    },
    {
      "cell_type": "code",
      "source": [
        "tokens = ['今日', 'の', '授業', 'は', '大変', '役', 'に', '立った', '。']"
      ],
      "metadata": {
        "id": "J02PHMVvKHsa"
      },
      "execution_count": null,
      "outputs": []
    },
    {
      "cell_type": "markdown",
      "source": [
        "参考として、以前使用したjanomeによる形態素解解析の結果は下記のようになります。今回は、上記の単語リストを使います。"
      ],
      "metadata": {
        "id": "UDx22ML9WE3k"
      }
    },
    {
      "cell_type": "code",
      "source": [
        "!pip install janome"
      ],
      "metadata": {
        "colab": {
          "base_uri": "https://localhost:8080/"
        },
        "id": "3ZmjFC8kV8W8",
        "outputId": "0ddc3bc5-db0e-4520-defc-c52b470575ce"
      },
      "execution_count": null,
      "outputs": [
        {
          "output_type": "stream",
          "name": "stdout",
          "text": [
            "Requirement already satisfied: janome in /usr/local/lib/python3.10/dist-packages (0.5.0)\n"
          ]
        }
      ]
    },
    {
      "cell_type": "code",
      "source": [
        "from janome.tokenizer import Tokenizer\n",
        "\n",
        "jt = Tokenizer()\n",
        "test_tokens = []\n",
        "for token in jt.tokenize(text, wakati=True):\n",
        "  test_tokens.append(token)\n",
        "\n",
        "print(test_tokens)"
      ],
      "metadata": {
        "id": "_ur58PKKVcT8"
      },
      "execution_count": null,
      "outputs": []
    },
    {
      "cell_type": "markdown",
      "source": [
        "#### 単語ベクトルの出力\n",
        "BERTモデルを利用して、トークンIDから、対応する単語ベクトルを出力します。"
      ],
      "metadata": {
        "id": "s4-uXrPgWedN"
      }
    },
    {
      "cell_type": "code",
      "execution_count": null,
      "metadata": {
        "id": "KzNU8vDiRvaw"
      },
      "outputs": [],
      "source": [
        "bert_tokens = bert_tokenizer.tokenize(\" \".join([\"[CLS]\"] + tokens + [\"[SEP]\"]))\n",
        "print(\"BERT tokens: \", bert_tokens)\n",
        "\n",
        "token_ids = bert_tokenizer.convert_tokens_to_ids(bert_tokens)\n",
        "print(\"BERT token IDs: \", token_ids)\n",
        "\n",
        "print(\"\\n\")\n",
        "print(\"[Document vector]\")\n",
        "tokens_tensor = torch.tensor(token_ids).unsqueeze(0)\n",
        "outputs = bert_model(tokens_tensor)\n",
        "print(outputs[0])\n",
        "print(\"\\n (size: \", outputs[0].size(), \")\")"
      ]
    },
    {
      "cell_type": "markdown",
      "source": [
        "#### 文書ベクトルの生成\n",
        "単語ベクトルを足し合わせることで、文書ベクトルを生成します。"
      ],
      "metadata": {
        "id": "hQDyGAaFWuLf"
      }
    },
    {
      "cell_type": "code",
      "source": [
        "import numpy as np\n",
        "\n",
        "vectors = outputs[0].to('cpu').detach().numpy().copy()\n",
        "\n",
        "print(vectors[0][0].shape)\n",
        "\n",
        "doc_vectors = np.zeros(vectors[0][0].shape, dtype='float64')\n",
        "print(doc_vectors.dtype)\n",
        "\n",
        "for id in range(vectors.shape[1]):\n",
        "  doc_vectors = doc_vectors + vectors[0][id]\n",
        "\n",
        "print(doc_vectors)"
      ],
      "metadata": {
        "id": "z4CPCBp6Rimi"
      },
      "execution_count": null,
      "outputs": []
    },
    {
      "cell_type": "markdown",
      "metadata": {
        "id": "FDeJQVfrwpmf"
      },
      "source": [
        "### 確認例題 3-8\n",
        "\n",
        "3個の文章を用意し、文書ベクトルを生成してみましょう。\n",
        "\n",
        "\n"
      ]
    },
    {
      "cell_type": "markdown",
      "source": [
        "### 確認例題 3-9\n",
        "さらに、各文章間の類似度をベクトル空間モデルを適用して計算してみましょう。（やり方は確認例題1-10などを復習してみてください。）"
      ],
      "metadata": {
        "id": "ZJp1w-nVcS-w"
      }
    },
    {
      "cell_type": "markdown",
      "metadata": {
        "id": "rMK1SPj4zebm"
      },
      "source": [
        "# 参考文献\n",
        "* Jacob Devlin, Ming-Wei Chang, Kenton Lee, Kristina Toutanova, BERT: Pre-training of Deep Bidirectional Transformers for Language Understanding, https://arxiv.org/abs/1810.04805v1, 2018.\n",
        "* Keras公式サイト, https://keras.io/examples/"
      ]
    }
  ],
  "metadata": {
    "accelerator": "GPU",
    "colab": {
      "provenance": []
    },
    "kernelspec": {
      "display_name": "Python 3",
      "name": "python3"
    }
  },
  "nbformat": 4,
  "nbformat_minor": 0
}