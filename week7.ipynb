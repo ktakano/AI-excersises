{
  "nbformat": 4,
  "nbformat_minor": 0,
  "metadata": {
    "colab": {
      "name": "week7.ipynb",
      "provenance": [],
      "collapsed_sections": [],
      "toc_visible": true,
      "authorship_tag": "ABX9TyPWkHiv9cjP7WJtww0koWrb",
      "include_colab_link": true
    },
    "kernelspec": {
      "name": "python3",
      "display_name": "Python 3"
    }
  },
  "cells": [
    {
      "cell_type": "markdown",
      "metadata": {
        "id": "view-in-github",
        "colab_type": "text"
      },
      "source": [
        "<a href=\"https://colab.research.google.com/github/ktakano/lecture/blob/main/week7.ipynb\" target=\"_parent\"><img src=\"https://colab.research.google.com/assets/colab-badge.svg\" alt=\"Open In Colab\"/></a>"
      ]
    },
    {
      "cell_type": "markdown",
      "metadata": {
        "id": "lfKkr0Hbin3I"
      },
      "source": [
        "# AI演習 第7回\n",
        "### ディープラーニングによる自然言語処理 (2)"
      ]
    },
    {
      "cell_type": "markdown",
      "metadata": {
        "id": "T5YzHj636Vhb"
      },
      "source": [
        "### RNN (Recurrent Neural Network)\n",
        "\n",
        "*   再帰型のニューラルネットワークです。\n",
        "*   自然後処理などの分野で利用されます。\n",
        " * 文書分類、感情分析、機械翻訳、文章生成\n",
        "* LSTM (Long short-term memory) や GRU (Gated recurrent units) などの応用モデルがあります。\n",
        "<br>\n",
        "<img src='https://drive.google.com/uc?export=view&id=1yPrN0u3icVHxT_OykvU4QqYgjcBUdRFj' width='70%'>\n",
        "\n",
        "\n"
      ]
    },
    {
      "cell_type": "markdown",
      "metadata": {
        "id": "m7K7RT43uv1v"
      },
      "source": [
        "### RNNによる文書分類\n",
        "* 前回の1次元CNNの例題と同じように、IMDBデータセットを用いて、レビューのポジ・ネガ分類をします。"
      ]
    },
    {
      "cell_type": "code",
      "metadata": {
        "id": "5nOtjxJ-6zUn",
        "outputId": "5d42181e-7a16-4c6d-e1ad-0bbcca7d312e",
        "colab": {
          "base_uri": "https://localhost:8080/"
        }
      },
      "source": [
        "from keras.datasets import imdb\n",
        "from keras.preprocessing import sequence\n",
        "\n",
        "max_words = 10000  # 単語数\n",
        "max_len = 500  # 入力する単語列の長さ\n",
        "embedding_dim = 128 # 単語埋め込み層の次元\n",
        "\n",
        "print('データのロード中...')\n",
        "(x_train, y_train), (x_test, y_test) = imdb.load_data(num_words=max_words)\n",
        "print(len(x_train), 'train 列 (sequence)')\n",
        "print(len(x_test), 'test 列 (sequence)')\n",
        "\n",
        "# パディング処理\n",
        "x_train = sequence.pad_sequences(x_train, maxlen=max_len)\n",
        "x_test = sequence.pad_sequences(x_test, maxlen=max_len)\n",
        "print('x_train shape:', x_train.shape)\n",
        "print('x_test shape:', x_test.shape)"
      ],
      "execution_count": 6,
      "outputs": [
        {
          "output_type": "stream",
          "text": [
            "データのロード中...\n",
            "25000 train 列 (sequence)\n",
            "25000 test 列 (sequence)\n",
            "x_train shape: (25000, 500)\n",
            "x_test shape: (25000, 500)\n"
          ],
          "name": "stdout"
        }
      ]
    },
    {
      "cell_type": "markdown",
      "metadata": {
        "id": "yjHgkhTzvkUw"
      },
      "source": [
        "### RNNモデルの構築\n",
        "* SimpleRNNを用いてRNNモデルを構築します。"
      ]
    },
    {
      "cell_type": "code",
      "metadata": {
        "id": "7bO5CiS28D5O",
        "outputId": "75aeb5a6-eb61-4ed0-e97f-3051e094090e",
        "colab": {
          "base_uri": "https://localhost:8080/"
        }
      },
      "source": [
        "from keras.layers import SimpleRNN, Embedding, Dense\n",
        "from keras.models import Sequential\n",
        "\n",
        "embedding_dim=128\n",
        "model_rnn=Sequential()\n",
        "model_rnn.add(Embedding(max_words, embedding_dim, input_length=max_len))\n",
        "model_rnn.add(SimpleRNN(100))\n",
        "model_rnn.add(Dense(1, activation='sigmoid'))\n",
        "print(model_rnn.summary())"
      ],
      "execution_count": 9,
      "outputs": [
        {
          "output_type": "stream",
          "text": [
            "Model: \"sequential_1\"\n",
            "_________________________________________________________________\n",
            "Layer (type)                 Output Shape              Param #   \n",
            "=================================================================\n",
            "embedding (Embedding)        (None, 500, 128)          1280000   \n",
            "_________________________________________________________________\n",
            "simple_rnn (SimpleRNN)       (None, 100)               22900     \n",
            "_________________________________________________________________\n",
            "dense (Dense)                (None, 1)                 101       \n",
            "=================================================================\n",
            "Total params: 1,303,001\n",
            "Trainable params: 1,303,001\n",
            "Non-trainable params: 0\n",
            "_________________________________________________________________\n",
            "None\n"
          ],
          "name": "stdout"
        }
      ]
    },
    {
      "cell_type": "code",
      "metadata": {
        "id": "PdOj2aK99zur",
        "outputId": "7efa3fa1-1383-492d-86d6-8156904331b5",
        "colab": {
          "base_uri": "https://localhost:8080/"
        }
      },
      "source": [
        "model_rnn.compile(loss='binary_crossentropy', \n",
        "             optimizer='adam', \n",
        "             metrics=['acc'])\n",
        "\n",
        "batch_size = 128\n",
        "num_epochs = 5\n",
        "\n",
        "history = model_rnn.fit(x_train, y_train, \n",
        "              validation_split=0.2, \n",
        "              batch_size=batch_size, epochs=num_epochs)"
      ],
      "execution_count": 13,
      "outputs": [
        {
          "output_type": "stream",
          "text": [
            "Epoch 1/5\n",
            "157/157 [==============================] - 66s 418ms/step - loss: 0.1499 - acc: 0.9355 - val_loss: 0.6964 - val_acc: 0.6376\n",
            "Epoch 2/5\n",
            "157/157 [==============================] - 66s 422ms/step - loss: 0.3322 - acc: 0.8515 - val_loss: 0.6049 - val_acc: 0.6750\n",
            "Epoch 3/5\n",
            "157/157 [==============================] - 67s 424ms/step - loss: 0.2652 - acc: 0.8942 - val_loss: 0.5194 - val_acc: 0.8232\n",
            "Epoch 4/5\n",
            "157/157 [==============================] - 66s 423ms/step - loss: 0.0507 - acc: 0.9822 - val_loss: 0.6341 - val_acc: 0.7972\n",
            "Epoch 5/5\n",
            "157/157 [==============================] - 67s 424ms/step - loss: 0.0177 - acc: 0.9951 - val_loss: 0.6791 - val_acc: 0.8044\n"
          ],
          "name": "stdout"
        }
      ]
    },
    {
      "cell_type": "code",
      "metadata": {
        "id": "6zIyhYR9ythO",
        "outputId": "2768599a-aacd-4ee1-c52d-76de53bb19ab",
        "colab": {
          "base_uri": "https://localhost:8080/",
          "height": 545
        }
      },
      "source": [
        "import matplotlib.pyplot as plt\n",
        "\n",
        "acc = history.history['acc']\n",
        "val_acc = history.history['val_acc']\n",
        "loss = history.history['loss']\n",
        "val_loss = history.history['val_loss']\n",
        "\n",
        "epochs = range(len(acc))\n",
        "\n",
        "plt.plot(epochs, acc, 'bo', label='Training acc')\n",
        "plt.plot(epochs, val_acc, 'b', label='Validation acc')\n",
        "plt.title('Training and validation accuracy')\n",
        "plt.legend()\n",
        "\n",
        "plt.figure()\n",
        "\n",
        "plt.plot(epochs, loss, 'bo', label='Training loss')\n",
        "plt.plot(epochs, val_loss, 'b', label='Validation loss')\n",
        "plt.title('Training and validation loss')\n",
        "plt.legend()\n",
        "\n",
        "plt.show()"
      ],
      "execution_count": 16,
      "outputs": [
        {
          "output_type": "display_data",
          "data": {
            "image/png": "[encoded data removed]",
            "text/plain": [
              "<Figure size 432x288 with 1 Axes>"
            ]
          },
          "metadata": {
            "tags": [],
            "needs_background": "light"
          }
        },
        {
          "output_type": "display_data",
          "data": {
            "image/png": "[encoded data removed]",
            "text/plain": [
              "<Figure size 432x288 with 1 Axes>"
            ]
          },
          "metadata": {
            "tags": [],
            "needs_background": "light"
          }
        }
      ]
    },
    {
      "cell_type": "code",
      "metadata": {
        "id": "uhCThjUh-FdZ",
        "outputId": "be845204-ab9e-49e2-f176-d83d75436104",
        "colab": {
          "base_uri": "https://localhost:8080/"
        }
      },
      "source": [
        "scores = model_rnn.evaluate(x_test, y_test, verbose=0)\n",
        "print('Test accuracy:', scores[1])"
      ],
      "execution_count": 15,
      "outputs": [
        {
          "output_type": "stream",
          "text": [
            "Test accuracy: 0.7974799871444702\n"
          ],
          "name": "stdout"
        }
      ]
    },
    {
      "cell_type": "markdown",
      "metadata": {
        "id": "6kh_QDcXMtmO"
      },
      "source": [
        "### LSTM (Long short-term memory )\n",
        "* RNNの一種のニューラルネットワークです。\n",
        "* RNNでは、学習時に勾配消失が起きるため、うまく学習できないという問題があります。\n",
        "* LSTMでは、次のLSTMレイヤへ記憶を伝達するための記憶セルを別途設けることで、学習時の勾配消失の問題を防ぎます。"
      ]
    },
    {
      "cell_type": "markdown",
      "metadata": {
        "id": "iL7_mX_s07If"
      },
      "source": [
        "### LSTMモデルの構築\n",
        "* LSTMを用いてモデルを構築します。"
      ]
    },
    {
      "cell_type": "code",
      "metadata": {
        "id": "vn_MA3r569Tc",
        "outputId": "3cabc027-0b0f-4dc5-c8b7-a80fe50bb139",
        "colab": {
          "base_uri": "https://localhost:8080/"
        }
      },
      "source": [
        "from keras import Sequential\n",
        "from keras.layers import Embedding, LSTM, Dense, Dropout\n",
        "\n",
        "embedding_dim=128\n",
        "model_lstm=Sequential()\n",
        "model_lstm.add(Embedding(max_words, embedding_dim, input_length=max_len))\n",
        "model_lstm.add(LSTM(100))\n",
        "model_lstm.add(Dense(1, activation='sigmoid'))\n",
        "print(model_lstm.summary())"
      ],
      "execution_count": 18,
      "outputs": [
        {
          "output_type": "stream",
          "text": [
            "Model: \"sequential_3\"\n",
            "_________________________________________________________________\n",
            "Layer (type)                 Output Shape              Param #   \n",
            "=================================================================\n",
            "embedding_2 (Embedding)      (None, 500, 128)          1280000   \n",
            "_________________________________________________________________\n",
            "lstm_1 (LSTM)                (None, 100)               91600     \n",
            "_________________________________________________________________\n",
            "dense_2 (Dense)              (None, 1)                 101       \n",
            "=================================================================\n",
            "Total params: 1,371,701\n",
            "Trainable params: 1,371,701\n",
            "Non-trainable params: 0\n",
            "_________________________________________________________________\n",
            "None\n"
          ],
          "name": "stdout"
        }
      ]
    },
    {
      "cell_type": "code",
      "metadata": {
        "id": "J0JsU5S17Gqj",
        "outputId": "f8129b89-42b6-4ad3-fb95-1ee42a643775",
        "colab": {
          "base_uri": "https://localhost:8080/"
        }
      },
      "source": [
        "model_lstm.compile(loss='binary_crossentropy', \n",
        "             optimizer='adam', \n",
        "             metrics=['acc'])\n",
        "\n",
        "batch_size = 128\n",
        "num_epochs = 5\n",
        "\n",
        "history = model_lstm.fit(x_train, y_train, \n",
        "              validation_split=0.2, \n",
        "              batch_size=batch_size, epochs=num_epochs)"
      ],
      "execution_count": 20,
      "outputs": [
        {
          "output_type": "stream",
          "text": [
            "Epoch 1/5\n",
            "157/157 [==============================] - 231s 1s/step - loss: 0.5352 - acc: 0.7308 - val_loss: 0.3781 - val_acc: 0.8352\n",
            "Epoch 2/5\n",
            "157/157 [==============================] - 228s 1s/step - loss: 0.3049 - acc: 0.8755 - val_loss: 0.3310 - val_acc: 0.8730\n",
            "Epoch 3/5\n",
            "157/157 [==============================] - 227s 1s/step - loss: 0.2052 - acc: 0.9234 - val_loss: 0.3559 - val_acc: 0.8568\n",
            "Epoch 4/5\n",
            "157/157 [==============================] - 232s 1s/step - loss: 0.1523 - acc: 0.9477 - val_loss: 0.3626 - val_acc: 0.8578\n",
            "Epoch 5/5\n",
            "157/157 [==============================] - 228s 1s/step - loss: 0.1106 - acc: 0.9634 - val_loss: 0.4381 - val_acc: 0.8666\n"
          ],
          "name": "stdout"
        }
      ]
    },
    {
      "cell_type": "code",
      "metadata": {
        "id": "IRPJnwYl4Is0",
        "outputId": "e87ac3f7-f402-4d48-afe7-c63c72120d6d",
        "colab": {
          "base_uri": "https://localhost:8080/",
          "height": 545
        }
      },
      "source": [
        "import matplotlib.pyplot as plt\n",
        "\n",
        "acc = history.history['acc']\n",
        "val_acc = history.history['val_acc']\n",
        "loss = history.history['loss']\n",
        "val_loss = history.history['val_loss']\n",
        "\n",
        "epochs = range(len(acc))\n",
        "\n",
        "plt.plot(epochs, acc, 'bo', label='Training acc')\n",
        "plt.plot(epochs, val_acc, 'b', label='Validation acc')\n",
        "plt.title('Training and validation accuracy')\n",
        "plt.legend()\n",
        "\n",
        "plt.figure()\n",
        "\n",
        "plt.plot(epochs, loss, 'bo', label='Training loss')\n",
        "plt.plot(epochs, val_loss, 'b', label='Validation loss')\n",
        "plt.title('Training and validation loss')\n",
        "plt.legend()\n",
        "\n",
        "plt.show()"
      ],
      "execution_count": 21,
      "outputs": [
        {
          "output_type": "display_data",
          "data": {
            "image/png": "[encoded data removed]",
            "text/plain": [
              "<Figure size 432x288 with 1 Axes>"
            ]
          },
          "metadata": {
            "tags": [],
            "needs_background": "light"
          }
        },
        {
          "output_type": "display_data",
          "data": {
            "image/png": "[encoded data removed]",
            "text/plain": [
              "<Figure size 432x288 with 1 Axes>"
            ]
          },
          "metadata": {
            "tags": [],
            "needs_background": "light"
          }
        }
      ]
    },
    {
      "cell_type": "code",
      "metadata": {
        "id": "CIClYP847NZc",
        "outputId": "6be9bf92-5383-4244-8a03-03070bd34c4c",
        "colab": {
          "base_uri": "https://localhost:8080/"
        }
      },
      "source": [
        "scores = model_lstm.evaluate(x_test, y_test, verbose=0)\n",
        "print('Test accuracy:', scores[1])"
      ],
      "execution_count": 23,
      "outputs": [
        {
          "output_type": "stream",
          "text": [
            "Test accuracy: 0.85944002866745\n"
          ],
          "name": "stdout"
        }
      ]
    },
    {
      "cell_type": "markdown",
      "metadata": {
        "id": "p4kulnLA8GUP"
      },
      "source": [
        "### GRU\n",
        "* LSTMと同様に、RNNの一種のニューラルネットワークです。\n",
        "* LSTMよりもパラメータ数を少なくし、計算コストを抑えたモデルになっています。"
      ]
    },
    {
      "cell_type": "markdown",
      "metadata": {
        "id": "g32B24np9YgD"
      },
      "source": [
        "#### 確認例題\n",
        "* GRUモデルは、次のように構築できます。同様にIMDBデータセットを学習させて、ポジ・ネガの分類精度の評価をしてみましょう。\n",
        "* さらに、一次元CNN、SimpleRNN、LSTM、GRUの4つのモデルについて、分類精度を比較し、考察してみましょう。\n"
      ]
    },
    {
      "cell_type": "code",
      "metadata": {
        "id": "Tc5waCVp8cOv",
        "outputId": "17fa9f1b-836b-4fa5-b3af-f2021ed5d380",
        "colab": {
          "base_uri": "https://localhost:8080/"
        }
      },
      "source": [
        "from keras.layers import GRU\n",
        "embedding_dim=128\n",
        "model_gru=Sequential()\n",
        "model_gru.add(Embedding(max_words, embedding_dim, input_length=max_len))\n",
        "model_gru.add(GRU(100))\n",
        "model_gru.add(Dense(1, activation='sigmoid'))\n",
        "print(model_gru.summary())"
      ],
      "execution_count": 24,
      "outputs": [
        {
          "output_type": "stream",
          "text": [
            "Model: \"sequential_4\"\n",
            "_________________________________________________________________\n",
            "Layer (type)                 Output Shape              Param #   \n",
            "=================================================================\n",
            "embedding_3 (Embedding)      (None, 500, 128)          1280000   \n",
            "_________________________________________________________________\n",
            "gru (GRU)                    (None, 100)               69000     \n",
            "_________________________________________________________________\n",
            "dense_3 (Dense)              (None, 1)                 101       \n",
            "=================================================================\n",
            "Total params: 1,349,101\n",
            "Trainable params: 1,349,101\n",
            "Non-trainable params: 0\n",
            "_________________________________________________________________\n",
            "None\n"
          ],
          "name": "stdout"
        }
      ]
    },
    {
      "cell_type": "code",
      "metadata": {
        "id": "fFPPmOEP96t0",
        "outputId": "802a7e3f-769c-4d51-ca24-b34e099aae92",
        "colab": {
          "base_uri": "https://localhost:8080/"
        }
      },
      "source": [
        "model_gru.compile(loss='binary_crossentropy', \n",
        "             optimizer='adam', \n",
        "             metrics=['acc'])\n",
        "\n",
        "batch_size = 128\n",
        "num_epochs = 5\n",
        "\n",
        "history = model_gru.fit(x_train, y_train, \n",
        "              validation_split=0.2, \n",
        "              batch_size=batch_size, epochs=num_epochs)"
      ],
      "execution_count": 26,
      "outputs": [
        {
          "output_type": "stream",
          "text": [
            "Epoch 1/5\n",
            "157/157 [==============================] - 199s 1s/step - loss: 0.5038 - acc: 0.7384 - val_loss: 0.3511 - val_acc: 0.8510\n",
            "Epoch 2/5\n",
            "157/157 [==============================] - 201s 1s/step - loss: 0.2650 - acc: 0.8943 - val_loss: 0.3424 - val_acc: 0.8562\n",
            "Epoch 3/5\n",
            "157/157 [==============================] - 209s 1s/step - loss: 0.1881 - acc: 0.9289 - val_loss: 0.3168 - val_acc: 0.8652\n",
            "Epoch 4/5\n",
            "157/157 [==============================] - 205s 1s/step - loss: 0.1515 - acc: 0.9462 - val_loss: 0.4041 - val_acc: 0.8634\n",
            "Epoch 5/5\n",
            "157/157 [==============================] - 201s 1s/step - loss: 0.1409 - acc: 0.9477 - val_loss: 0.3745 - val_acc: 0.8712\n"
          ],
          "name": "stdout"
        }
      ]
    },
    {
      "cell_type": "code",
      "metadata": {
        "id": "fTcdRLpv4hz6",
        "outputId": "f5c123d8-df4f-4cd6-9715-63c3c346647f",
        "colab": {
          "base_uri": "https://localhost:8080/",
          "height": 545
        }
      },
      "source": [
        "import matplotlib.pyplot as plt\n",
        "\n",
        "acc = history.history['acc']\n",
        "val_acc = history.history['val_acc']\n",
        "loss = history.history['loss']\n",
        "val_loss = history.history['val_loss']\n",
        "\n",
        "epochs = range(len(acc))\n",
        "\n",
        "plt.plot(epochs, acc, 'bo', label='Training acc')\n",
        "plt.plot(epochs, val_acc, 'b', label='Validation acc')\n",
        "plt.title('Training and validation accuracy')\n",
        "plt.legend()\n",
        "\n",
        "plt.figure()\n",
        "\n",
        "plt.plot(epochs, loss, 'bo', label='Training loss')\n",
        "plt.plot(epochs, val_loss, 'b', label='Validation loss')\n",
        "plt.title('Training and validation loss')\n",
        "plt.legend()\n",
        "\n",
        "plt.show()"
      ],
      "execution_count": 27,
      "outputs": [
        {
          "output_type": "display_data",
          "data": {
            "image/png": "[encoded data removed]",
            "text/plain": [
              "<Figure size 432x288 with 1 Axes>"
            ]
          },
          "metadata": {
            "tags": [],
            "needs_background": "light"
          }
        },
        {
          "output_type": "display_data",
          "data": {
            "image/png": "[encoded data removed]",
            "text/plain": [
              "<Figure size 432x288 with 1 Axes>"
            ]
          },
          "metadata": {
            "tags": [],
            "needs_background": "light"
          }
        }
      ]
    },
    {
      "cell_type": "code",
      "metadata": {
        "id": "AXE_rLsK-JwK",
        "outputId": "c4c1814a-7cf8-4c6a-89af-278f817be494",
        "colab": {
          "base_uri": "https://localhost:8080/"
        }
      },
      "source": [
        "scores = model_gru.evaluate(x_test, y_test, verbose=0)\n",
        "print('Test accuracy:', scores[1])"
      ],
      "execution_count": 28,
      "outputs": [
        {
          "output_type": "stream",
          "text": [
            "Test accuracy: 0.8577600121498108\n"
          ],
          "name": "stdout"
        }
      ]
    },
    {
      "cell_type": "markdown",
      "metadata": {
        "id": "QANFdYqQW4ri"
      },
      "source": [
        "### 言語モデルと文脈\n",
        "* 単語が文書中に出現する過程を確率過程と見なし、単語がある位置に出現する確率を計算するモデルを言語モデルといいます。また言語モデルにおいて，ある単語の出現確率を計算する際に用いる周囲の単語を文脈といいます。"
      ]
    },
    {
      "cell_type": "markdown",
      "metadata": {
        "id": "HSzc9VcQ6SIi"
      },
      "source": [
        "### 言語モデルとしてのLSTM\n",
        "* LSTMを学習させることにより、言語モデルを構築することができます。\n",
        "* 単語の列を文脈として、次の単語を予測します。\n",
        "* 応用すると、文書を生成することができます。\n",
        "\n",
        "<br>\n",
        "<img src='https://drive.google.com/uc?export=view&id=1HJZfDr6x4crlpaUKbWJ1RKi94aeNzBqg' width='60%'>"
      ]
    },
    {
      "cell_type": "markdown",
      "metadata": {
        "id": "S26y3aSl8sUa"
      },
      "source": [
        "### LSTMによる文書生成\n",
        "* Reutersニュースのデータセットをコーパスとして学習したモデルを用いて、文書生成をします。"
      ]
    },
    {
      "cell_type": "code",
      "metadata": {
        "id": "lkaHB0MpBCLv"
      },
      "source": [
        "# keras module for building LSTM \n",
        "from keras.preprocessing.sequence import pad_sequences\n",
        "from keras.layers import Embedding, LSTM, Dense, Dropout\n",
        "from keras.preprocessing.text import Tokenizer\n",
        "from keras.callbacks import EarlyStopping\n",
        "from keras.models import Sequential\n",
        "import keras.utils as ku \n",
        "\n",
        "# set seeds for reproducability\n",
        "from tensorflow import set_random_seed\n",
        "from numpy.random import seed\n",
        "set_random_seed(2)\n",
        "seed(1)\n",
        "\n",
        "import pandas as pd\n",
        "import numpy as np\n",
        "import string, os "
      ],
      "execution_count": null,
      "outputs": []
    },
    {
      "cell_type": "code",
      "metadata": {
        "id": "_fJn2q0zBHeG"
      },
      "source": [
        "curr_dir = '../input/'\n",
        "all_headlines = []\n",
        "for filename in os.listdir(curr_dir):\n",
        "    if 'Articles' in filename:\n",
        "        article_df = pd.read_csv(curr_dir + filename)\n",
        "        all_headlines.extend(list(article_df.headline.values))\n",
        "        break\n",
        "\n",
        "all_headlines = [h for h in all_headlines if h != \"Unknown\"]\n",
        "len(all_headlines)\n",
        "\n",
        "def clean_text(txt):\n",
        "    txt = \"\".join(v for v in txt if v not in string.punctuation).lower()\n",
        "    txt = txt.encode(\"utf8\").decode(\"ascii\",'ignore')\n",
        "    return txt \n",
        "\n",
        "corpus = [clean_text(x) for x in all_headlines]\n",
        "corpus[:10]"
      ],
      "execution_count": null,
      "outputs": []
    },
    {
      "cell_type": "code",
      "metadata": {
        "id": "tiGYiZN1BPmh"
      },
      "source": [
        "tokenizer = Tokenizer()\n",
        "\n",
        "def get_sequence_of_tokens(corpus):\n",
        "    ## tokenization\n",
        "    tokenizer.fit_on_texts(corpus)\n",
        "    total_words = len(tokenizer.word_index) + 1\n",
        "    \n",
        "    ## convert data to sequence of tokens \n",
        "    input_sequences = []\n",
        "    for line in corpus:\n",
        "        token_list = tokenizer.texts_to_sequences([line])[0]\n",
        "        for i in range(1, len(token_list)):\n",
        "            n_gram_sequence = token_list[:i+1]\n",
        "            input_sequences.append(n_gram_sequence)\n",
        "    return input_sequences, total_words\n",
        "\n",
        "inp_sequences, total_words = get_sequence_of_tokens(corpus)\n",
        "inp_sequences[:10]"
      ],
      "execution_count": null,
      "outputs": []
    },
    {
      "cell_type": "code",
      "metadata": {
        "id": "Y_Mp7KXZBTUf"
      },
      "source": [
        "def generate_padded_sequences(input_sequences):\n",
        "    max_sequence_len = max([len(x) for x in input_sequences])\n",
        "    input_sequences = np.array(pad_sequences(input_sequences, maxlen=max_sequence_len, padding='pre'))\n",
        "    \n",
        "    predictors, label = input_sequences[:,:-1],input_sequences[:,-1]\n",
        "    label = ku.to_categorical(label, num_classes=total_words)\n",
        "    return predictors, label, max_sequence_len\n",
        "\n",
        "predictors, label, max_sequence_len = generate_padded_sequences(inp_sequences)"
      ],
      "execution_count": null,
      "outputs": []
    },
    {
      "cell_type": "code",
      "metadata": {
        "id": "zFlfq2y_BV6Q"
      },
      "source": [
        "def create_model(max_sequence_len, total_words):\n",
        "    input_len = max_sequence_len - 1\n",
        "    model = Sequential()\n",
        "    \n",
        "    # Add Input Embedding Layer\n",
        "    model.add(Embedding(total_words, 10, input_length=input_len))\n",
        "    \n",
        "    # Add Hidden Layer 1 - LSTM Layer\n",
        "    model.add(LSTM(100))\n",
        "    model.add(Dropout(0.1))\n",
        "    \n",
        "    # Add Output Layer\n",
        "    model.add(Dense(total_words, activation='softmax'))\n",
        "\n",
        "    model.compile(loss='categorical_crossentropy', optimizer='adam')\n",
        "    \n",
        "    return model\n",
        "\n",
        "model = create_model(max_sequence_len, total_words)\n",
        "model.summary()"
      ],
      "execution_count": null,
      "outputs": []
    },
    {
      "cell_type": "code",
      "metadata": {
        "id": "MmYnfOx9BZQB"
      },
      "source": [
        "model.fit(predictors, label, epochs=100, verbose=5)"
      ],
      "execution_count": null,
      "outputs": []
    },
    {
      "cell_type": "code",
      "metadata": {
        "id": "ijgPhPX3BcZ1"
      },
      "source": [
        "def generate_text(seed_text, next_words, model, max_sequence_len):\n",
        "    for _ in range(next_words):\n",
        "        token_list = tokenizer.texts_to_sequences([seed_text])[0]\n",
        "        token_list = pad_sequences([token_list], maxlen=max_sequence_len-1, padding='pre')\n",
        "        predicted = model.predict_classes(token_list, verbose=0)\n",
        "        \n",
        "        output_word = \"\"\n",
        "        for word,index in tokenizer.word_index.items():\n",
        "            if index == predicted:\n",
        "                output_word = word\n",
        "                break\n",
        "        seed_text += \" \"+output_word\n",
        "    return seed_text.title()"
      ],
      "execution_count": null,
      "outputs": []
    },
    {
      "cell_type": "markdown",
      "metadata": {
        "id": "1vR8IXuYBicq"
      },
      "source": [
        "#### 確認例題\n",
        "* IMDBデータセットをコーパスとして学習したモデルを構築し、そのモデルを用いて文書生成をしてみましょう。"
      ]
    },
    {
      "cell_type": "markdown",
      "metadata": {
        "id": "gFnnFH5MfnXC"
      },
      "source": [
        "### 参考文献\n",
        "* https://www.kaggle.com/shivamb/beginners-guide-to-text-generation-using-lstms"
      ]
    }
  ]
}