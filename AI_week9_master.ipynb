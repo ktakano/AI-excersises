{
  "nbformat": 4,
  "nbformat_minor": 0,
  "metadata": {
    "colab": {
      "provenance": []
    },
    "kernelspec": {
      "name": "python3",
      "display_name": "Python 3"
    }
  },
  "cells": [
    {
      "cell_type": "markdown",
      "metadata": {
        "id": "lfKkr0Hbin3I"
      },
      "source": [
        "# AI演習 第9回\n",
        "### ディープラーニングによる自然言語処理 (3)"
      ]
    },
    {
      "cell_type": "markdown",
      "metadata": {
        "id": "qrkZlKGLojT-"
      },
      "source": [
        "[実行環境]<br>\n",
        "Python: 3.10.2<br>\n",
        "TensorFlow: 2.14.0<br>\n",
        "\n",
        "ランタイムのタイプは、GPUを指定するように注意してください。"
      ]
    },
    {
      "cell_type": "code",
      "source": [
        "!python --version"
      ],
      "metadata": {
        "colab": {
          "base_uri": "https://localhost:8080/"
        },
        "id": "GYiJ7Ou2BETI",
        "outputId": "b04d733d-3122-408c-daed-2699dc2df259"
      },
      "execution_count": null,
      "outputs": [
        {
          "output_type": "stream",
          "name": "stdout",
          "text": [
            "Python 3.10.12\n"
          ]
        }
      ]
    },
    {
      "cell_type": "code",
      "source": [
        "import tensorflow as tf\n",
        "\n",
        "print(tf.__version__)"
      ],
      "metadata": {
        "colab": {
          "base_uri": "https://localhost:8080/"
        },
        "id": "UOtGkP4UBBkw",
        "outputId": "03f7631b-6cd4-438f-fe7c-f7f6c84043b3"
      },
      "execution_count": null,
      "outputs": [
        {
          "output_type": "stream",
          "name": "stdout",
          "text": [
            "2.14.0\n"
          ]
        }
      ]
    },
    {
      "cell_type": "markdown",
      "metadata": {
        "id": "T5YzHj636Vhb"
      },
      "source": [
        "### RNN (Recurrent Neural Network)\n",
        "\n",
        "*   再帰型のニューラルネットワークです。\n",
        "*   自然言語処理などの分野で利用されます。\n",
        " * 文書分類、感情分析、機械翻訳、文章生成\n",
        "* LSTM (Long short-term memory) や GRU (Gated recurrent units) などの応用モデルがあります。\n",
        "<br>\n",
        "<img src='https://drive.google.com/uc?export=view&id=1yPrN0u3icVHxT_OykvU4QqYgjcBUdRFj' width='70%'>\n",
        "\n",
        "\n"
      ]
    },
    {
      "cell_type": "markdown",
      "metadata": {
        "id": "vIADM_yMfh0V"
      },
      "source": [
        "### RNNレイヤの詳細\n",
        "+ 上図でで「*H*」の部分を、RNNレイヤと呼ぶことにします。\n",
        "* RNNレイヤの入力xtと出力otの関係は、ot = tanh(ot-1 + xt Wx +b)のように計算されます。\n",
        "* xtのWxは重み係数、bはバイアス値です。\n",
        "* tanhは、双曲線正接関数という関数で、活性化関数として用いられています。\n",
        "\n",
        "<br>\n",
        "<img src='https://drive.google.com/uc?export=view&id=1oVMjqV76C-9dmaGROLXGnJTm6lIJftcY' width='65%'>\n",
        "\n",
        "<br><br>\n",
        "* RNNの構成は下図のようになります。ot-1にも重み係数Woをかけています。\n",
        "\n",
        "<br>\n",
        "<img src='https://drive.google.com/uc?export=view&id=11bUUhdqGXo_B5yOxU_JY1KRW0nq5txK0' width='65%'>"
      ]
    },
    {
      "cell_type": "markdown",
      "source": [
        "### RNNセルの基本計算\n",
        "\n",
        "左端のセルを考えてみます。左端のセルは、otの入力がないため、\n",
        "\n",
        "o2 = tanh(x1 Wx +b)\n",
        "\n",
        "となります。"
      ],
      "metadata": {
        "id": "HSzmjtt0CedA"
      }
    },
    {
      "cell_type": "markdown",
      "source": [
        "ここで、xとして単語ベクトルなどが入力されます。単語ベクトルの次元数を100、セル内部での次元数(隠れ層の次元数)を5として、上記の計算式をコーディングします。"
      ],
      "metadata": {
        "id": "CA-en-3VDkWp"
      }
    },
    {
      "cell_type": "code",
      "source": [
        "import numpy as np\n",
        "\n",
        "wordvec_size = 100\n",
        "hidden_size = 5\n",
        "\n",
        "Wx = np.random.randn(wordvec_size, hidden_size)\n",
        "b = np.zeros(hidden_size)\n",
        "print(Wx.shape)\n",
        "print(b.shape)"
      ],
      "metadata": {
        "colab": {
          "base_uri": "https://localhost:8080/"
        },
        "id": "aEi3xNNVCd9A",
        "outputId": "797e88ba-6dba-40bf-c9e5-09b1d479c598"
      },
      "execution_count": null,
      "outputs": [
        {
          "output_type": "stream",
          "name": "stdout",
          "text": [
            "(100, 5)\n",
            "(5,)\n"
          ]
        }
      ]
    },
    {
      "cell_type": "markdown",
      "source": [
        "word2vecで学習される単語分散行列のベクトルを利用します。以前のコードを実行し、単語分散行列を生成します。"
      ],
      "metadata": {
        "id": "6QLvSn3lFV3l"
      }
    },
    {
      "cell_type": "code",
      "source": [
        "!wget http://mattmahoney.net/dc/text8.zip"
      ],
      "metadata": {
        "id": "bX2anqhrEy-G"
      },
      "execution_count": null,
      "outputs": []
    },
    {
      "cell_type": "code",
      "source": [
        "!unzip text8.zip"
      ],
      "metadata": {
        "id": "RSJeNikAE1eZ"
      },
      "execution_count": null,
      "outputs": []
    },
    {
      "cell_type": "code",
      "source": [
        "import logging\n",
        "from gensim.models.word2vec import Word2Vec, Text8Corpus\n",
        "\n",
        "logging.basicConfig(format='%(asctime)s : %(levelname)s : %(message)s', level=logging.INFO)\n",
        "\n",
        "sentences = Text8Corpus('text8')\n",
        "model = Word2Vec(sentences, vector_size=100)\n",
        "\n",
        "model.save('model.bin')"
      ],
      "metadata": {
        "id": "oXpmJEVaE6j9"
      },
      "execution_count": null,
      "outputs": []
    },
    {
      "cell_type": "code",
      "source": [
        "model = Word2Vec.load('model.bin')\n",
        "\n",
        "x = model.wv['dog']"
      ],
      "metadata": {
        "id": "jH4fkLeJE-ol"
      },
      "execution_count": null,
      "outputs": []
    },
    {
      "cell_type": "markdown",
      "source": [
        "先ほどの計算をしてみます。"
      ],
      "metadata": {
        "id": "Ku-xd3HWGTZc"
      }
    },
    {
      "cell_type": "code",
      "source": [
        "_o = np.dot(x, Wx) + b\n",
        "print(_o)"
      ],
      "metadata": {
        "colab": {
          "base_uri": "https://localhost:8080/"
        },
        "id": "DkwEwDRoGN6G",
        "outputId": "c83194f4-1496-41ae-d286-284bb09302d5"
      },
      "execution_count": null,
      "outputs": [
        {
          "output_type": "stream",
          "name": "stdout",
          "text": [
            "[ -2.17544915   1.02002346  -4.9382929  -13.28689538   9.09094012]\n"
          ]
        }
      ]
    },
    {
      "cell_type": "markdown",
      "source": [
        "次に活性化関数tanh()に入力します。"
      ],
      "metadata": {
        "id": "bbhI90dZKAyg"
      }
    },
    {
      "cell_type": "code",
      "source": [
        "o = np.tanh(_o)\n",
        "print(o)"
      ],
      "metadata": {
        "colab": {
          "base_uri": "https://localhost:8080/"
        },
        "id": "NHXsGah-KG7j",
        "outputId": "09c87c23-3c97-41ba-92c4-223fa2f5d8b2"
      },
      "execution_count": null,
      "outputs": [
        {
          "output_type": "stream",
          "name": "stdout",
          "text": [
            "[-0.97453789  0.76987609 -0.99989728 -1.          0.99999997]\n"
          ]
        }
      ]
    },
    {
      "cell_type": "markdown",
      "source": [
        "#### 確認例題 3-1\n",
        "左端のRNNセルの計算をする関数RNN_cell0(x)を作成しましょう。"
      ],
      "metadata": {
        "id": "d-uOw8S7GrUd"
      }
    },
    {
      "cell_type": "markdown",
      "source": [
        "2つ目以降のRNNセルでは、左側のRNNセルの出力絵あるotも入力して計算します。2つめのRNNセルの計算式は下記のようになりまｓ。\n",
        "\n",
        "o2 = tanh(o1 Wo + x1 Wx +b)\n",
        "\n"
      ],
      "metadata": {
        "id": "JGsJPWRgHRsf"
      }
    },
    {
      "cell_type": "markdown",
      "source": [
        "\"I like dog\"という文章について、1番目と2番目のそれぞれのRNNセルの計算をしてみます。"
      ],
      "metadata": {
        "id": "Yr_qrE4rIFdL"
      }
    },
    {
      "cell_type": "code",
      "source": [
        "x1 = model.wv['i']\n",
        "x2 = model.wv['like']"
      ],
      "metadata": {
        "id": "NBWTI9tlIDww"
      },
      "execution_count": null,
      "outputs": []
    },
    {
      "cell_type": "markdown",
      "source": [
        "先ほど同様に重み行列とバイアスを設定します。Woが新たに加わっています。"
      ],
      "metadata": {
        "id": "FCGPbKZVIuTB"
      }
    },
    {
      "cell_type": "code",
      "source": [
        "wordvec_size = 100\n",
        "hidden_size = 5\n",
        "\n",
        "Wx = np.random.randn(wordvec_size, hidden_size)\n",
        "Wo = np.random.randn(hidden_size, hidden_size)\n",
        "b = np.zeros(hidden_size)"
      ],
      "metadata": {
        "id": "UtGFHZafImcq"
      },
      "execution_count": null,
      "outputs": []
    },
    {
      "cell_type": "code",
      "source": [
        "o1 = np.dot(x1, Wx) + b\n",
        "o2 = np.dot(o1, Wo) + np.dot(x1, Wx) + b\n",
        "\n",
        "print(o1)\n",
        "print(o2)"
      ],
      "metadata": {
        "colab": {
          "base_uri": "https://localhost:8080/"
        },
        "id": "b2nSa4NLI9Hx",
        "outputId": "0b3e8b06-ce8c-45c5-ca17-07c0975b4533"
      },
      "execution_count": null,
      "outputs": [
        {
          "output_type": "stream",
          "name": "stdout",
          "text": [
            "[-19.99489897  18.764167    16.10273764 -10.18887622 -10.09910226]\n",
            "[  4.46060758 -20.90103787  28.6925767  -36.59006838   4.0405989 ]\n"
          ]
        }
      ]
    },
    {
      "cell_type": "markdown",
      "source": [
        "#### 確認例題 3-2\n",
        "3番目のRNNセルの計算をしましょう。"
      ],
      "metadata": {
        "id": "EUnLjNsCJMRb"
      }
    },
    {
      "cell_type": "markdown",
      "source": [
        "#### 確認例題 3-3\n",
        "2番目のRNNセルを計算する関数RNN_cell(x, o)を作成しましょう。"
      ],
      "metadata": {
        "id": "IaoGH_t-JUxn"
      }
    },
    {
      "cell_type": "markdown",
      "metadata": {
        "id": "m7K7RT43uv1v"
      },
      "source": [
        "### RNNによる文書分類\n",
        "* 前回の1次元CNNの例題と同じように、IMDBデータセットを用いて、レビューのポジ・ネガ分類をします。\n",
        "\n",
        "<br>\n",
        "<img src='https://drive.google.com/uc?export=view&id=1sablSx9th6stHu8ML4oQnEWbIM2wp_On' width='60%'>\n"
      ]
    },
    {
      "cell_type": "code",
      "metadata": {
        "id": "5nOtjxJ-6zUn",
        "colab": {
          "base_uri": "https://localhost:8080/"
        },
        "outputId": "8dbb3f3d-36fa-4e7b-9923-1c3c5acd87bf"
      },
      "source": [
        "# from keras.datasets import imdb\n",
        "# from keras.preprocessing import sequence\n",
        "import tensorflow as tf\n",
        "\n",
        "max_words = 10000  # 単語数\n",
        "max_len = 500  # 入力する単語列の長さ\n",
        "embedding_dim = 128 # 単語埋め込み層の次元\n",
        "\n",
        "print('データのロード中...')\n",
        "(x_train, y_train), (x_test, y_test) =  tf.keras.datasets.imdb.load_data(num_words=max_words)\n",
        "print(len(x_train), 'train 列 (sequence)')\n",
        "print(len(x_test), 'test 列 (sequence)')"
      ],
      "execution_count": null,
      "outputs": [
        {
          "output_type": "stream",
          "name": "stdout",
          "text": [
            "データのロード中...\n",
            "25000 train 列 (sequence)\n",
            "25000 test 列 (sequence)\n"
          ]
        }
      ]
    },
    {
      "cell_type": "code",
      "source": [
        "# パディング処理\n",
        "x_train = tf.keras.utils.pad_sequences(x_train, maxlen=max_len)\n",
        "x_test = tf.keras.utils.pad_sequences(x_test, maxlen=max_len)\n",
        "print('x_train shape:', x_train.shape)\n",
        "print('x_test shape:', x_test.shape)"
      ],
      "metadata": {
        "colab": {
          "base_uri": "https://localhost:8080/"
        },
        "id": "0RnoNfPsLcmW",
        "outputId": "a0f20f44-11b8-44b6-df5f-388ed8d44f91"
      },
      "execution_count": null,
      "outputs": [
        {
          "output_type": "stream",
          "name": "stdout",
          "text": [
            "x_train shape: (25000, 500)\n",
            "x_test shape: (25000, 500)\n"
          ]
        }
      ]
    },
    {
      "cell_type": "code",
      "source": [
        "print(len(x_train[0]))\n",
        "print(x_train[0])"
      ],
      "metadata": {
        "id": "BBt3S0oNLm3_"
      },
      "execution_count": null,
      "outputs": []
    },
    {
      "cell_type": "markdown",
      "metadata": {
        "id": "yjHgkhTzvkUw"
      },
      "source": [
        "### RNNモデルの構築\n",
        "* SimpleRNNを用いてRNNモデルを構築します。\n",
        "* Embedding()は、単語のベクトル化をする単語の埋め込み層です。"
      ]
    },
    {
      "cell_type": "code",
      "metadata": {
        "id": "7bO5CiS28D5O"
      },
      "source": [
        "from keras.layers import SimpleRNN, Embedding, Dense\n",
        "from keras.models import Sequential\n",
        "\n",
        "embedding_dim=128\n",
        "model_rnn=Sequential()\n",
        "model_rnn.add(Embedding(max_words, embedding_dim, input_length=max_len))\n",
        "model_rnn.add(SimpleRNN(100))\n",
        "model_rnn.add(Dense(1, activation='sigmoid'))\n",
        "print(model_rnn.summary())"
      ],
      "execution_count": null,
      "outputs": []
    },
    {
      "cell_type": "code",
      "metadata": {
        "id": "PdOj2aK99zur",
        "colab": {
          "base_uri": "https://localhost:8080/"
        },
        "outputId": "8537cb84-fe03-4466-fe2b-17d9c5f574bd"
      },
      "source": [
        "model_rnn.compile(loss='binary_crossentropy',\n",
        "             optimizer='adam',\n",
        "             metrics=['acc'])\n",
        "\n",
        "batch_size = 128\n",
        "num_epochs = 3\n",
        "\n",
        "history = model_rnn.fit(x_train, y_train,\n",
        "              validation_split=0.2,\n",
        "              batch_size=batch_size, epochs=num_epochs)"
      ],
      "execution_count": null,
      "outputs": [
        {
          "output_type": "stream",
          "name": "stdout",
          "text": [
            "Epoch 1/3\n",
            "157/157 [==============================] - 99s 620ms/step - loss: 0.6175 - acc: 0.6370 - val_loss: 0.4473 - val_acc: 0.8062\n",
            "Epoch 2/3\n",
            "157/157 [==============================] - 105s 669ms/step - loss: 0.4133 - acc: 0.8181 - val_loss: 0.4735 - val_acc: 0.7982\n",
            "Epoch 3/3\n",
            "157/157 [==============================] - 106s 677ms/step - loss: 0.3548 - acc: 0.8548 - val_loss: 0.5935 - val_acc: 0.6850\n"
          ]
        }
      ]
    },
    {
      "cell_type": "markdown",
      "metadata": {
        "id": "QWxyCxidgN3r"
      },
      "source": [
        "モデルの評価"
      ]
    },
    {
      "cell_type": "code",
      "metadata": {
        "id": "6zIyhYR9ythO",
        "colab": {
          "base_uri": "https://localhost:8080/",
          "height": 887
        },
        "outputId": "bb9e62b2-3d61-4450-8926-31c2bcc41a9d"
      },
      "source": [
        "import matplotlib.pyplot as plt\n",
        "\n",
        "acc = history.history['acc']\n",
        "val_acc = history.history['val_acc']\n",
        "loss = history.history['loss']\n",
        "val_loss = history.history['val_loss']\n",
        "\n",
        "epochs = range(len(acc))\n",
        "\n",
        "plt.plot(epochs, acc, 'bo', label='Training acc')\n",
        "plt.plot(epochs, val_acc, 'b', label='Validation acc')\n",
        "plt.title('Training and validation accuracy')\n",
        "plt.legend()\n",
        "\n",
        "plt.figure()\n",
        "\n",
        "plt.plot(epochs, loss, 'bo', label='Training loss')\n",
        "plt.plot(epochs, val_loss, 'b', label='Validation loss')\n",
        "plt.title('Training and validation loss')\n",
        "plt.legend()\n",
        "\n",
        "plt.show()"
      ],
      "execution_count": null,
      "outputs": [
        {
          "output_type": "display_data",
          "data": {
            "text/plain": [
              "<Figure size 640x480 with 1 Axes>"
            ],
            "image/png": "[encoded data removed]"
          },
          "metadata": {}
        },
        {
          "output_type": "display_data",
          "data": {
            "text/plain": [
              "<Figure size 640x480 with 1 Axes>"
            ],
            "image/png": "[encoded data removed]"
          },
          "metadata": {}
        }
      ]
    },
    {
      "cell_type": "code",
      "metadata": {
        "id": "uhCThjUh-FdZ",
        "colab": {
          "base_uri": "https://localhost:8080/"
        },
        "outputId": "b547d412-dbbf-426c-86f2-4ebe90fea3f7"
      },
      "source": [
        "scores = model_rnn.evaluate(x_test, y_test, verbose=0)\n",
        "print('Test accuracy:', scores[1])"
      ],
      "execution_count": null,
      "outputs": [
        {
          "output_type": "stream",
          "name": "stdout",
          "text": [
            "Test accuracy: 0.6909199953079224\n"
          ]
        }
      ]
    },
    {
      "cell_type": "code",
      "source": [
        "pred0 = model_rnn.predict(x_test[0][np.newaxis])\n",
        "\n",
        "print('予測値: ', pred0)\n",
        "print('正解: ', y_test[0])"
      ],
      "metadata": {
        "colab": {
          "base_uri": "https://localhost:8080/"
        },
        "id": "kmG0bEmcRSzn",
        "outputId": "c7e4d0a0-1f90-4c92-b6ef-60aa3efa53b9"
      },
      "execution_count": null,
      "outputs": [
        {
          "output_type": "stream",
          "name": "stdout",
          "text": [
            "1/1 [==============================] - 0s 312ms/step\n",
            "予測値:  [[0.15840095]]\n",
            "正解:  0\n"
          ]
        }
      ]
    },
    {
      "cell_type": "markdown",
      "source": [
        "#### 3-4 確認例題\n",
        "* RNNモデルでepoch数を10に増やして実行してみましょう。分類精度や損失グラフも描画しましょう。(実行時間がかかるようならepoch数を少なくしても良いです。)\n",
        "* x_test[0]、x_test[1]、x_test[2]を予測し、epoch数が少ない場合と比較して、結果に変化があったかを確認してみましょう。"
      ],
      "metadata": {
        "id": "ZjhTPoucQ9MP"
      }
    },
    {
      "cell_type": "markdown",
      "metadata": {
        "id": "6kh_QDcXMtmO"
      },
      "source": [
        "### LSTM (Long short-term memory )\n",
        "* RNNの一種のニューラルネットワークです。\n",
        "* RNNでは、学習時に勾配消失が起きるため、うまく学習できないという問題があります。\n",
        "* LSTMでは、次のLSTMレイヤへ記憶を伝達するための記憶セルを別途設けることで、学習時の勾配消失の問題を防ぎます。\n",
        "\n",
        "<br>\n",
        "<img src='https://drive.google.com/uc?export=view&id=1mVrLvxJMOAYTUocarZmyYocJV-b8bvNU' width='70%'>\n",
        "\n"
      ]
    },
    {
      "cell_type": "markdown",
      "metadata": {
        "id": "iL7_mX_s07If"
      },
      "source": [
        "### LSTMモデルの構築\n",
        "* LSTMを用いてモデルを構築します。\n",
        "* 先ほど作成したモデルで、SimpleRNNをLSTMに置き換えているだけで構築できます。"
      ]
    },
    {
      "cell_type": "code",
      "metadata": {
        "id": "vn_MA3r569Tc",
        "colab": {
          "base_uri": "https://localhost:8080/"
        },
        "outputId": "3895fe35-f456-42b5-d1e7-ace29ccd41a6"
      },
      "source": [
        "from keras import Sequential\n",
        "from keras.layers import Embedding, LSTM, Dense, Dropout\n",
        "\n",
        "embedding_dim=128\n",
        "model_lstm=Sequential()\n",
        "model_lstm.add(Embedding(max_words, embedding_dim, input_length=max_len))\n",
        "model_lstm.add(LSTM(100))\n",
        "model_lstm.add(Dense(1, activation='sigmoid'))\n",
        "print(model_lstm.summary())"
      ],
      "execution_count": null,
      "outputs": [
        {
          "output_type": "stream",
          "name": "stdout",
          "text": [
            "Model: \"sequential_1\"\n",
            "_________________________________________________________________\n",
            " Layer (type)                Output Shape              Param #   \n",
            "=================================================================\n",
            " embedding_1 (Embedding)     (None, 500, 128)          1280000   \n",
            "                                                                 \n",
            " lstm (LSTM)                 (None, 100)               91600     \n",
            "                                                                 \n",
            " dense_1 (Dense)             (None, 1)                 101       \n",
            "                                                                 \n",
            "=================================================================\n",
            "Total params: 1,371,701\n",
            "Trainable params: 1,371,701\n",
            "Non-trainable params: 0\n",
            "_________________________________________________________________\n",
            "None\n"
          ]
        }
      ]
    },
    {
      "cell_type": "code",
      "metadata": {
        "id": "J0JsU5S17Gqj",
        "colab": {
          "base_uri": "https://localhost:8080/"
        },
        "outputId": "a6560892-1e1b-4826-8d92-143c6c1e8cd1"
      },
      "source": [
        "model_lstm.compile(loss='binary_crossentropy',\n",
        "             optimizer='adam',\n",
        "             metrics=['acc'])\n",
        "\n",
        "batch_size = 128\n",
        "num_epochs = 5\n",
        "\n",
        "history = model_lstm.fit(x_train, y_train,\n",
        "              validation_split=0.2,\n",
        "              batch_size=batch_size, epochs=num_epochs)"
      ],
      "execution_count": null,
      "outputs": [
        {
          "output_type": "stream",
          "name": "stdout",
          "text": [
            "Epoch 1/5\n",
            "157/157 [==============================] - 223s 1s/step - loss: 0.4949 - acc: 0.7492 - val_loss: 0.3304 - val_acc: 0.8638\n",
            "Epoch 2/5\n",
            "157/157 [==============================] - 218s 1s/step - loss: 0.2711 - acc: 0.8936 - val_loss: 0.3189 - val_acc: 0.8692\n",
            "Epoch 3/5\n",
            "157/157 [==============================] - 217s 1s/step - loss: 0.2356 - acc: 0.9103 - val_loss: 0.3759 - val_acc: 0.8436\n",
            "Epoch 4/5\n",
            "157/157 [==============================] - 218s 1s/step - loss: 0.1584 - acc: 0.9435 - val_loss: 0.3989 - val_acc: 0.8714\n",
            "Epoch 5/5\n",
            "157/157 [==============================] - 218s 1s/step - loss: 0.1232 - acc: 0.9569 - val_loss: 0.4048 - val_acc: 0.8632\n"
          ]
        }
      ]
    },
    {
      "cell_type": "code",
      "metadata": {
        "id": "IRPJnwYl4Is0",
        "colab": {
          "base_uri": "https://localhost:8080/",
          "height": 545
        },
        "outputId": "f929ecae-ff6f-4518-965b-ba4b21775b14"
      },
      "source": [
        "import matplotlib.pyplot as plt\n",
        "\n",
        "acc = history.history['acc']\n",
        "val_acc = history.history['val_acc']\n",
        "loss = history.history['loss']\n",
        "val_loss = history.history['val_loss']\n",
        "\n",
        "epochs = range(len(acc))\n",
        "\n",
        "plt.plot(epochs, acc, 'bo', label='Training acc')\n",
        "plt.plot(epochs, val_acc, 'b', label='Validation acc')\n",
        "plt.title('Training and validation accuracy')\n",
        "plt.legend()\n",
        "\n",
        "plt.figure()\n",
        "\n",
        "plt.plot(epochs, loss, 'bo', label='Training loss')\n",
        "plt.plot(epochs, val_loss, 'b', label='Validation loss')\n",
        "plt.title('Training and validation loss')\n",
        "plt.legend()\n",
        "\n",
        "plt.show()"
      ],
      "execution_count": null,
      "outputs": [
        {
          "output_type": "display_data",
          "data": {
            "image/png": "[encoded data removed]",
            "text/plain": [
              "<Figure size 432x288 with 1 Axes>"
            ]
          },
          "metadata": {
            "needs_background": "light"
          }
        },
        {
          "output_type": "display_data",
          "data": {
            "image/png": "[encoded data removed]",
            "text/plain": [
              "<Figure size 432x288 with 1 Axes>"
            ]
          },
          "metadata": {
            "needs_background": "light"
          }
        }
      ]
    },
    {
      "cell_type": "code",
      "metadata": {
        "id": "CIClYP847NZc",
        "colab": {
          "base_uri": "https://localhost:8080/"
        },
        "outputId": "9590c4d6-00ae-4e19-f2a3-752ad5cb86be"
      },
      "source": [
        "scores = model_lstm.evaluate(x_test, y_test, verbose=0)\n",
        "print('Test accuracy:', scores[1])"
      ],
      "execution_count": null,
      "outputs": [
        {
          "output_type": "stream",
          "name": "stdout",
          "text": [
            "Test accuracy: 0.8551200032234192\n"
          ]
        }
      ]
    },
    {
      "cell_type": "markdown",
      "source": [
        "#### 3-5 確認例題\n",
        "* LSTMモデルでepoch数を10に増やして実行してみましょう。分類精度や損失グラフも描画しましょう。(実行時間がかかるようならepoch数を少なくしても良いです。)\n",
        "* x_test[0]、x_test[1]、x_test[2]を予測し、epoch数が少ない場合と比較して、結果に変化があったかを確認してみましょう。"
      ],
      "metadata": {
        "id": "OIEgTI4vR0rs"
      }
    },
    {
      "cell_type": "markdown",
      "metadata": {
        "id": "p4kulnLA8GUP"
      },
      "source": [
        "### GRU\n",
        "* LSTMと同様に、RNNの一種のニューラルネットワークです。\n",
        "* LSTMよりもパラメータ数を少なくし、計算コストを抑えたモデルになっています。\n",
        "* LSTMのように記憶セルは用いませんが、学習時の勾配消失が起きないような構成となっています。\n",
        "\n",
        "<br>\n",
        "<img src='https://drive.google.com/uc?export=view&id=1xCFGPK8-KhbaGQYTPcKxN4xxHCO-C_Tp' width='90%'>\n"
      ]
    },
    {
      "cell_type": "code",
      "metadata": {
        "id": "Tc5waCVp8cOv",
        "colab": {
          "base_uri": "https://localhost:8080/"
        },
        "outputId": "3b2c0952-98de-45b7-c242-c56fcc79c98a"
      },
      "source": [
        "from keras.layers import GRU\n",
        "embedding_dim=128\n",
        "model_gru=Sequential()\n",
        "model_gru.add(Embedding(max_words, embedding_dim, input_length=max_len))\n",
        "model_gru.add(GRU(100))\n",
        "model_gru.add(Dense(1, activation='sigmoid'))\n",
        "print(model_gru.summary())"
      ],
      "execution_count": null,
      "outputs": [
        {
          "output_type": "stream",
          "name": "stdout",
          "text": [
            "Model: \"sequential_2\"\n",
            "_________________________________________________________________\n",
            " Layer (type)                Output Shape              Param #   \n",
            "=================================================================\n",
            " embedding_2 (Embedding)     (None, 500, 128)          1280000   \n",
            "                                                                 \n",
            " gru (GRU)                   (None, 100)               69000     \n",
            "                                                                 \n",
            " dense_2 (Dense)             (None, 1)                 101       \n",
            "                                                                 \n",
            "=================================================================\n",
            "Total params: 1,349,101\n",
            "Trainable params: 1,349,101\n",
            "Non-trainable params: 0\n",
            "_________________________________________________________________\n",
            "None\n"
          ]
        }
      ]
    },
    {
      "cell_type": "code",
      "metadata": {
        "id": "fFPPmOEP96t0",
        "colab": {
          "base_uri": "https://localhost:8080/"
        },
        "outputId": "27e0e931-ae6f-4e0f-cadc-82599b0beb06"
      },
      "source": [
        "model_gru.compile(loss='binary_crossentropy',\n",
        "             optimizer='adam',\n",
        "             metrics=['acc'])\n",
        "\n",
        "batch_size = 128\n",
        "num_epochs = 5\n",
        "\n",
        "history = model_gru.fit(x_train, y_train,\n",
        "              validation_split=0.2,\n",
        "              batch_size=batch_size, epochs=num_epochs)"
      ],
      "execution_count": null,
      "outputs": [
        {
          "output_type": "stream",
          "name": "stdout",
          "text": [
            "Epoch 1/5\n",
            "157/157 [==============================] - 209s 1s/step - loss: 0.4621 - acc: 0.7656 - val_loss: 0.3351 - val_acc: 0.8586\n",
            "Epoch 2/5\n",
            "157/157 [==============================] - 201s 1s/step - loss: 0.2512 - acc: 0.8992 - val_loss: 0.3074 - val_acc: 0.8748\n",
            "Epoch 3/5\n",
            "157/157 [==============================] - 203s 1s/step - loss: 0.1701 - acc: 0.9392 - val_loss: 0.3156 - val_acc: 0.8740\n",
            "Epoch 4/5\n",
            "157/157 [==============================] - 203s 1s/step - loss: 0.1424 - acc: 0.9481 - val_loss: 0.3385 - val_acc: 0.8722\n",
            "Epoch 5/5\n",
            "157/157 [==============================] - 203s 1s/step - loss: 0.0971 - acc: 0.9657 - val_loss: 0.4190 - val_acc: 0.8428\n"
          ]
        }
      ]
    },
    {
      "cell_type": "code",
      "metadata": {
        "id": "fTcdRLpv4hz6",
        "colab": {
          "base_uri": "https://localhost:8080/",
          "height": 545
        },
        "outputId": "8002080b-5331-45c5-a61f-77d5622a4476"
      },
      "source": [
        "import matplotlib.pyplot as plt\n",
        "\n",
        "acc = history.history['acc']\n",
        "val_acc = history.history['val_acc']\n",
        "loss = history.history['loss']\n",
        "val_loss = history.history['val_loss']\n",
        "\n",
        "epochs = range(len(acc))\n",
        "\n",
        "plt.plot(epochs, acc, 'bo', label='Training acc')\n",
        "plt.plot(epochs, val_acc, 'b', label='Validation acc')\n",
        "plt.title('Training and validation accuracy')\n",
        "plt.legend()\n",
        "\n",
        "plt.figure()\n",
        "\n",
        "plt.plot(epochs, loss, 'bo', label='Training loss')\n",
        "plt.plot(epochs, val_loss, 'b', label='Validation loss')\n",
        "plt.title('Training and validation loss')\n",
        "plt.legend()\n",
        "\n",
        "plt.show()"
      ],
      "execution_count": null,
      "outputs": [
        {
          "output_type": "display_data",
          "data": {
            "image/png": "[encoded data removed]",
            "text/plain": [
              "<Figure size 432x288 with 1 Axes>"
            ]
          },
          "metadata": {
            "needs_background": "light"
          }
        },
        {
          "output_type": "display_data",
          "data": {
            "image/png": "[encoded data removed]",
            "text/plain": [
              "<Figure size 432x288 with 1 Axes>"
            ]
          },
          "metadata": {
            "needs_background": "light"
          }
        }
      ]
    },
    {
      "cell_type": "code",
      "metadata": {
        "id": "AXE_rLsK-JwK",
        "colab": {
          "base_uri": "https://localhost:8080/"
        },
        "outputId": "67300ed0-4b25-4c1e-85ec-2f945ac1adf4"
      },
      "source": [
        "scores = model_gru.evaluate(x_test, y_test, verbose=0)\n",
        "print('Test accuracy:', scores[1])"
      ],
      "execution_count": null,
      "outputs": [
        {
          "output_type": "stream",
          "name": "stdout",
          "text": [
            "Test accuracy: 0.8332800269126892\n"
          ]
        }
      ]
    },
    {
      "cell_type": "markdown",
      "source": [
        "#### 3-6 確認例題\n",
        "* GRUモデルでepoch数を10に増やして実行してみましょう。分類精度や損失グラフも描画しましょう。(実行時間がかかるようならepoch数を少なくしても良いです。)\n",
        "* x_test[0]、x_test[1]、x_test[2]を予測し、epoch数が少ない場合と比較して、結果に変化があったかを確認してみましょう。"
      ],
      "metadata": {
        "id": "qbtglZmgR-DP"
      }
    },
    {
      "cell_type": "markdown",
      "metadata": {
        "id": "g32B24np9YgD"
      },
      "source": [
        "#### 3-7 確認例題\n",
        "* 一次元CNN、SimpleRNN、LSTM、GRUの4つのモデルについて、分類精度を比較し、考察してみましょう。\n",
        "* さらに、モデルのパラメータ数にも着目して比較し、考察してみましょう。\n"
      ]
    },
    {
      "cell_type": "markdown",
      "metadata": {
        "id": "gFnnFH5MfnXC"
      },
      "source": [
        "### 参考文献\n",
        "* https://www.kaggle.com/shivamb/beginners-guide-to-text-generation-using-lstms\n",
        "* Keras公式Webサイト, https://keras.io/examples/"
      ]
    }
  ]
}