{
  "cells": [
    {
      "cell_type": "markdown",
      "metadata": {
        "id": "6BGXi2WF0Hpl"
      },
      "source": [
        "# AI演習 第11回\n",
        "### ディープラーニングによる自然言語処理と時系列データ処理 (5)"
      ]
    },
    {
      "cell_type": "markdown",
      "metadata": {
        "id": "4WyrJRoHzjQM"
      },
      "source": [
        "[実行環境]\n",
        "Colaboratoryの実行環境は更新されるので確認しておきます。\n",
        "\n",
        "Python: 3.10.12<br>\n",
        "TensorFlow: 2.14.0<br>\n",
        "\n",
        "ランタイムのタイプは、GPUを指定するように注意してください。"
      ]
    },
    {
      "cell_type": "code",
      "source": [
        "!python -V"
      ],
      "metadata": {
        "colab": {
          "base_uri": "https://localhost:8080/"
        },
        "id": "0xYjKVJSrq5D",
        "outputId": "6530d76d-7517-4160-eba9-1e90b95ca8fb"
      },
      "execution_count": null,
      "outputs": [
        {
          "output_type": "stream",
          "name": "stdout",
          "text": [
            "Python 3.10.12\n"
          ]
        }
      ]
    },
    {
      "cell_type": "code",
      "execution_count": null,
      "metadata": {
        "colab": {
          "base_uri": "https://localhost:8080/"
        },
        "id": "O5jmSQp1zngl",
        "outputId": "bddd2601-363e-46bb-e304-13fb66f2b4db"
      },
      "outputs": [
        {
          "output_type": "stream",
          "name": "stdout",
          "text": [
            "2.14.0\n"
          ]
        }
      ],
      "source": [
        "import tensorflow as tf\n",
        "\n",
        "print(tf.__version__)"
      ]
    },
    {
      "cell_type": "markdown",
      "metadata": {
        "id": "RIQAxkwz1KET"
      },
      "source": [
        "# 時系列データと深層学習\n",
        "* ある現象の時間的な変化を観測して得られる値を対象として、観測時刻と観測値を対応付けたデータ列を時系列データと呼びます。\n",
        "* 例えば、天気などの気象データ、株価などの金融データ、人や物体などの動作データなどがあります。\n",
        "* 時系列データを対象とした深層学習には、RNNやLSTMのような，過去の情報を遡って学習できる深層学習モデルを利用します。\n"
      ]
    },
    {
      "cell_type": "markdown",
      "metadata": {
        "id": "nPeLFSNeZQbm"
      },
      "source": [
        "## LSTMによる気象予測\n",
        "* Kerasの公式サイトで公開されているコードを用いて、LSTMによる天気予測を事項してみます。\n",
        "* 気象データの学習には、ドイツのマックス・プランク研究所で観測されたデータを用いています。\n",
        "\n",
        "https://www.bgc-jena.mpg.de/wetter/"
      ]
    },
    {
      "cell_type": "code",
      "execution_count": null,
      "metadata": {
        "id": "bCcl5FFIZUZK"
      },
      "outputs": [],
      "source": [
        "import pandas as pd\n",
        "import matplotlib.pyplot as plt\n",
        "import tensorflow as tf\n",
        "from tensorflow import keras"
      ]
    },
    {
      "cell_type": "markdown",
      "metadata": {
        "id": "ztcTHfPXRT0V"
      },
      "source": [
        "### データの準備と確認"
      ]
    },
    {
      "cell_type": "code",
      "execution_count": null,
      "metadata": {
        "id": "KDIlGQZcZY7f"
      },
      "outputs": [],
      "source": [
        "from zipfile import ZipFile\n",
        "import os\n",
        "\n",
        "uri = \"https://storage.googleapis.com/tensorflow/tf-keras-datasets/jena_climate_2009_2016.csv.zip\"\n",
        "zip_path = keras.utils.get_file(origin=uri, fname=\"jena_climate_2009_2016.csv.zip\")\n",
        "zip_file = ZipFile(zip_path)\n",
        "zip_file.extractall()\n",
        "csv_path = \"jena_climate_2009_2016.csv\"\n",
        "\n",
        "df = pd.read_csv(csv_path)"
      ]
    },
    {
      "cell_type": "markdown",
      "source": [
        "8年間にわたって、下記の14種類の観測データを記録しています。\n",
        "\n",
        "\"Pressure\",\n",
        "\"Temperature\",\n",
        "\"Temperature in Kelvin\",\n",
        "\"Temperature (dew point)\",\n",
        "\"Relative Humidity\",\n",
        "\"Saturation vapor pressure\",\n",
        "\"Vapor pressure\",\n",
        "\"Vapor pressure deficit\",\n",
        "\"Specific humidity\",\n",
        "\"Water vapor concentration\",\n",
        "\"Airtight\",\n",
        "\"Wind speed\",\n",
        "\"Maximum wind speed\",\n",
        "\"Wind direction in degrees\""
      ],
      "metadata": {
        "id": "GC8OBPZz4jY9"
      }
    },
    {
      "cell_type": "code",
      "source": [
        "print(df.shape)"
      ],
      "metadata": {
        "id": "dqWwi3qD4QKX"
      },
      "execution_count": null,
      "outputs": []
    },
    {
      "cell_type": "code",
      "source": [
        "print(df)"
      ],
      "metadata": {
        "id": "x12IjEFluQo7"
      },
      "execution_count": null,
      "outputs": []
    },
    {
      "cell_type": "code",
      "source": [
        "titles = [\n",
        "    \"Pressure\",\n",
        "    \"Temperature\",\n",
        "    \"Temperature in Kelvin\",\n",
        "    \"Temperature (dew point)\",\n",
        "    \"Relative Humidity\",\n",
        "    \"Saturation vapor pressure\",\n",
        "    \"Vapor pressure\",\n",
        "    \"Vapor pressure deficit\",\n",
        "    \"Specific humidity\",\n",
        "    \"Water vapor concentration\",\n",
        "    \"Airtight\",\n",
        "    \"Wind speed\",\n",
        "    \"Maximum wind speed\",\n",
        "    \"Wind direction in degrees\",\n",
        "]\n",
        "\n",
        "feature_keys = [\n",
        "    \"p (mbar)\",\n",
        "    \"T (degC)\",\n",
        "    \"Tpot (K)\",\n",
        "    \"Tdew (degC)\",\n",
        "    \"rh (%)\",\n",
        "    \"VPmax (mbar)\",\n",
        "    \"VPact (mbar)\",\n",
        "    \"VPdef (mbar)\",\n",
        "    \"sh (g/kg)\",\n",
        "    \"H2OC (mmol/mol)\",\n",
        "    \"rho (g/m**3)\",\n",
        "    \"wv (m/s)\",\n",
        "    \"max. wv (m/s)\",\n",
        "    \"wd (deg)\",\n",
        "]\n",
        "\n",
        "colors = [\n",
        "    \"blue\",\n",
        "    \"orange\",\n",
        "    \"green\",\n",
        "    \"red\",\n",
        "    \"purple\",\n",
        "    \"brown\",\n",
        "    \"pink\",\n",
        "    \"gray\",\n",
        "    \"olive\",\n",
        "    \"cyan\",\n",
        "]\n",
        "\n",
        "date_time_key = \"Date Time\""
      ],
      "metadata": {
        "id": "VcKudpelueYZ"
      },
      "execution_count": null,
      "outputs": []
    },
    {
      "cell_type": "code",
      "source": [
        "print(df[feature_keys[0]])"
      ],
      "metadata": {
        "id": "H40caF3p67r3"
      },
      "execution_count": null,
      "outputs": []
    },
    {
      "cell_type": "markdown",
      "source": [
        "#### 確認例題 5-1\n",
        "\n",
        "\"Temperature\"のデータを表示してみましょう。"
      ],
      "metadata": {
        "id": "QDemr46-7YQZ"
      }
    },
    {
      "cell_type": "markdown",
      "source": [
        "### グラフの描画"
      ],
      "metadata": {
        "id": "TwI0xc2I5e6x"
      }
    },
    {
      "cell_type": "code",
      "source": [
        "data = df\n",
        "time_data = data[date_time_key]\n",
        "key = feature_keys[0]\n",
        "c = colors[0]\n",
        "t_data = data[key]\n",
        "t_data.index = time_data\n",
        "t_data.head()\n",
        "ax = t_data.plot(\n",
        "    color=c,\n",
        "    title=\"{} - {}\".format(titles[0], key),\n",
        "    figsize=(8, 3),\n",
        "    rot=25,\n",
        ")\n",
        "ax.legend([titles[0]])\n",
        "plt.tight_layout()"
      ],
      "metadata": {
        "id": "M7dTC14TuylZ"
      },
      "execution_count": null,
      "outputs": []
    },
    {
      "cell_type": "markdown",
      "source": [
        "#### 確認例題 5-2\n",
        "\n",
        "\"Temperature\"のデータをグラフで描画してみましょう。"
      ],
      "metadata": {
        "id": "9TWM3kdA5z1H"
      }
    },
    {
      "cell_type": "code",
      "source": [
        "def show_raw_visualization(data, i):\n",
        "    time_data = data[date_time_key]\n",
        "    key = feature_keys[i]\n",
        "    c = colors[i % (len(colors))]\n",
        "    t_data = data[key]\n",
        "    t_data.index = time_data\n",
        "    t_data.head()\n",
        "    ax = t_data.plot(\n",
        "        color=c,\n",
        "        title=\"{} - {}\".format(titles[i], key),\n",
        "        figsize=(8, 3),\n",
        "        rot=25,\n",
        "    )\n",
        "    ax.legend([titles[i]])\n",
        "    plt.tight_layout()"
      ],
      "metadata": {
        "id": "e2RFiYqi6Aou"
      },
      "execution_count": null,
      "outputs": []
    },
    {
      "cell_type": "markdown",
      "source": [
        "定義した関数show_raw_visualization()を使い、もう一度\"Pressure\"のデータのグラフを描画していみます。"
      ],
      "metadata": {
        "id": "WPqj58Og7ptO"
      }
    },
    {
      "cell_type": "code",
      "source": [
        "show_raw_visualization(df, 0)"
      ],
      "metadata": {
        "id": "Zzf3MArh6OFP"
      },
      "execution_count": null,
      "outputs": []
    },
    {
      "cell_type": "markdown",
      "source": [
        "#### 確認例題 5-3\n",
        "\n",
        "残りの\"Temperature in Kelvin\",\n",
        "\"Temperature (dew point)\",\n",
        "\"Relative Humidity\",\n",
        "\"Saturation vapor pressure\",\n",
        "\"Vapor pressure\",\n",
        "\"Vapor pressure deficit\",\n",
        "\"Specific humidity\",\n",
        "\"Water vapor concentration\",\n",
        "\"Airtight\",\n",
        "\"Wind speed\",\n",
        "\"Maximum wind speed\",\n",
        "\"Wind direction in degrees\"\n",
        "のデータについてグラフを描画してみましょう。"
      ],
      "metadata": {
        "id": "IhmcuBHC6khX"
      }
    },
    {
      "cell_type": "markdown",
      "source": [
        "### ヒートマップの描画\n",
        "\n",
        "各データの相関を調べて、ヒートマップで可視化してみます。"
      ],
      "metadata": {
        "id": "EYjPmuAz9DyT"
      }
    },
    {
      "cell_type": "markdown",
      "source": [
        "まず、corr()関数を使用して、相関を計算します。"
      ],
      "metadata": {
        "id": "GcOH6DhC9VuX"
      }
    },
    {
      "cell_type": "code",
      "source": [
        "data.corr()"
      ],
      "metadata": {
        "id": "N4CtTf6O9RFi"
      },
      "execution_count": null,
      "outputs": []
    },
    {
      "cell_type": "markdown",
      "source": [
        "次にヒートマップで可視化します。"
      ],
      "metadata": {
        "id": "aXL0iB9_9fJc"
      }
    },
    {
      "cell_type": "code",
      "execution_count": null,
      "metadata": {
        "id": "6cFddfDujPan"
      },
      "outputs": [],
      "source": [
        "plt.matshow(data.corr())\n",
        "plt.xticks(range(data.shape[1]), data.columns, fontsize=14, rotation=90)\n",
        "plt.gca().xaxis.tick_bottom()\n",
        "plt.yticks(range(data.shape[1]), data.columns, fontsize=14)\n",
        "\n",
        "cb = plt.colorbar()\n",
        "cb.ax.tick_params(labelsize=14)\n",
        "plt.title(\"Feature Correlation Heatmap\", fontsize=14)\n",
        "plt.show()\n"
      ]
    },
    {
      "cell_type": "markdown",
      "source": [
        "### LSTMでの学習"
      ],
      "metadata": {
        "id": "3itN0iFsJp0v"
      }
    },
    {
      "cell_type": "code",
      "execution_count": null,
      "metadata": {
        "id": "0fMxFsCQjTMJ"
      },
      "outputs": [],
      "source": [
        "split_fraction = 0.715\n",
        "train_split = int(split_fraction * int(df.shape[0]))\n",
        "step = 6\n",
        "\n",
        "past = 720\n",
        "future = 72\n",
        "learning_rate = 0.001\n",
        "batch_size = 256\n",
        "epochs = 10"
      ]
    },
    {
      "cell_type": "markdown",
      "source": [],
      "metadata": {
        "id": "CxjjxTwKLiwf"
      }
    },
    {
      "cell_type": "code",
      "source": [
        "print(\n",
        "    \"The selected parameters are:\",\n",
        "#    \", \".join([titles[i] for i in [0, 1, 5, 7, 8, 10, 11]]),\n",
        "    \", \".join([titles[i] for i in [0, 1, 5]]),\n",
        ")\n",
        "# selected_features = [feature_keys[i] for i in [0, 1, 5, 7, 8, 10, 11]]\n",
        "selected_features = [feature_keys[i] for i in [0, 1, 5]]"
      ],
      "metadata": {
        "colab": {
          "base_uri": "https://localhost:8080/"
        },
        "id": "CX1fR0f-KAMN",
        "outputId": "6516fc83-3aa0-41bb-bac5-b35652e7adbe"
      },
      "execution_count": null,
      "outputs": [
        {
          "output_type": "stream",
          "name": "stdout",
          "text": [
            "The selected parameters are: Pressure, Temperature, Saturation vapor pressure\n"
          ]
        }
      ]
    },
    {
      "cell_type": "code",
      "source": [
        "features = df[selected_features]\n",
        "features.index = df[date_time_key]\n",
        "features.head()"
      ],
      "metadata": {
        "id": "RWgmruC0KRc-"
      },
      "execution_count": null,
      "outputs": []
    },
    {
      "cell_type": "code",
      "source": [
        "features.shape"
      ],
      "metadata": {
        "id": "LBXMIDzvKnmL"
      },
      "execution_count": null,
      "outputs": []
    },
    {
      "cell_type": "markdown",
      "source": [
        "データを正規化します。"
      ],
      "metadata": {
        "id": "nJYPdKiZLg-A"
      }
    },
    {
      "cell_type": "code",
      "source": [
        "def normalize(data, train_split):\n",
        "    data_mean = data[:train_split].mean(axis=0)\n",
        "    data_std = data[:train_split].std(axis=0)\n",
        "    return (data - data_mean) / data_std"
      ],
      "metadata": {
        "id": "OKqGlu7iJ3fF"
      },
      "execution_count": null,
      "outputs": []
    },
    {
      "cell_type": "code",
      "source": [
        "features = normalize(features.values, train_split)\n",
        "features = pd.DataFrame(features)\n",
        "features.head()"
      ],
      "metadata": {
        "id": "av1gXwwyKVpc"
      },
      "execution_count": null,
      "outputs": []
    },
    {
      "cell_type": "markdown",
      "source": [
        "データを訓練用データと検証用データに分割します。"
      ],
      "metadata": {
        "id": "WREvmXdlLgTC"
      }
    },
    {
      "cell_type": "code",
      "execution_count": null,
      "metadata": {
        "id": "s7K5iET9jWHu"
      },
      "outputs": [],
      "source": [
        "train_data = features.loc[0 : train_split - 1]\n",
        "val_data = features.loc[train_split:]"
      ]
    },
    {
      "cell_type": "code",
      "source": [
        "print(train_data.shape)\n",
        "print(val_data.shape)"
      ],
      "metadata": {
        "id": "XeKshsmuLyFS"
      },
      "execution_count": null,
      "outputs": []
    },
    {
      "cell_type": "markdown",
      "source": [
        "訓練用データx_trainとy_trainを作成します。"
      ],
      "metadata": {
        "id": "gZ45DvqPNFi3"
      }
    },
    {
      "cell_type": "code",
      "execution_count": null,
      "metadata": {
        "id": "Rn19fOuNjYdV"
      },
      "outputs": [],
      "source": [
        "start = past + future\n",
        "end = start + train_split\n",
        "\n",
        "#x_train = train_data[[i for i in range(7)]].values\n",
        "x_train = train_data[[i for i in range(3)]].values\n",
        "y_train = features.iloc[start:end][[1]]\n",
        "\n",
        "sequence_length = int(past / step)"
      ]
    },
    {
      "cell_type": "code",
      "execution_count": null,
      "metadata": {
        "id": "Iwkk5J94jcur"
      },
      "outputs": [],
      "source": [
        "dataset_train = keras.preprocessing.timeseries_dataset_from_array(\n",
        "    x_train,\n",
        "    y_train,\n",
        "    sequence_length=sequence_length,\n",
        "    sampling_rate=step,\n",
        "    batch_size=batch_size,\n",
        ")"
      ]
    },
    {
      "cell_type": "markdown",
      "source": [
        "検証用データx_valとy_valを作成します。"
      ],
      "metadata": {
        "id": "v4WqTPl-Nafb"
      }
    },
    {
      "cell_type": "code",
      "execution_count": null,
      "metadata": {
        "id": "3_UAoSgXjd3S"
      },
      "outputs": [],
      "source": [
        "x_end = len(val_data) - past - future\n",
        "\n",
        "label_start = train_split + past + future\n",
        "\n",
        "# x_val = val_data.iloc[:x_end][[i for i in range(7)]].values\n",
        "x_val = val_data.iloc[:x_end][[i for i in range(3)]].values\n",
        "y_val = features.iloc[label_start:][[1]]\n",
        "\n",
        "dataset_val = keras.preprocessing.timeseries_dataset_from_array(\n",
        "    x_val,\n",
        "    y_val,\n",
        "    sequence_length=sequence_length,\n",
        "    sampling_rate=step,\n",
        "    batch_size=batch_size,\n",
        ")\n",
        "\n",
        "\n",
        "for batch in dataset_train.take(1):\n",
        "    inputs, targets = batch\n",
        "\n",
        "print(\"Input shape:\", inputs.numpy().shape)\n",
        "print(\"Target shape:\", targets.numpy().shape)"
      ]
    },
    {
      "cell_type": "markdown",
      "source": [
        "LSTMモデルを作成します。"
      ],
      "metadata": {
        "id": "qsdqf3raNgVU"
      }
    },
    {
      "cell_type": "code",
      "execution_count": null,
      "metadata": {
        "id": "vNSipaYtjgeH"
      },
      "outputs": [],
      "source": [
        "inputs = keras.layers.Input(shape=(inputs.shape[1], inputs.shape[2]))\n",
        "lstm_out = keras.layers.LSTM(32)(inputs)\n",
        "outputs = keras.layers.Dense(1)(lstm_out)\n",
        "\n",
        "model = keras.Model(inputs=inputs, outputs=outputs)\n",
        "model.compile(optimizer=keras.optimizers.Adam(learning_rate=learning_rate), loss=\"mse\")\n",
        "model.summary()"
      ]
    },
    {
      "cell_type": "code",
      "execution_count": null,
      "metadata": {
        "id": "W7sgwOmLjkdu"
      },
      "outputs": [],
      "source": [
        "history = model.fit(\n",
        "    dataset_train,\n",
        "    epochs=2,\n",
        "    validation_data=dataset_val,\n",
        ")"
      ]
    },
    {
      "cell_type": "markdown",
      "source": [
        "気温を予測してみます。"
      ],
      "metadata": {
        "id": "LxypnhaLQlR9"
      }
    },
    {
      "cell_type": "code",
      "source": [
        "sample_num = 5\n",
        "total_error = 0\n",
        "\n",
        "for x, y in dataset_val.take(sample_num):\n",
        "  pred = model.predict(x)[0]\n",
        "  print(y[0].numpy())\n",
        "  print(pred)\n",
        "  error = pred - y[0].numpy()\n",
        "  print(\"誤差:\", error)\n",
        "\n",
        "  total_error += error"
      ],
      "metadata": {
        "id": "1EP1nacXOaEC"
      },
      "execution_count": null,
      "outputs": []
    },
    {
      "cell_type": "markdown",
      "source": [
        "#### 確認例題 5-4\n",
        "\n",
        "予測誤差の平均を計算してみましょう。"
      ],
      "metadata": {
        "id": "DSDIWsMwTxpd"
      }
    },
    {
      "cell_type": "markdown",
      "source": [
        "グラフに描画します。"
      ],
      "metadata": {
        "id": "JnP_4lOURBgj"
      }
    },
    {
      "cell_type": "code",
      "execution_count": null,
      "metadata": {
        "id": "zvNuwzbhjpJF"
      },
      "outputs": [],
      "source": [
        "def show_plot(plot_data, delta, title):\n",
        "    labels = [\"History\", \"True Future\", \"Model Prediction\"]\n",
        "    marker = [\".-\", \"rx\", \"go\"]\n",
        "    time_steps = list(range(-(plot_data[0].shape[0]), 0))\n",
        "    if delta:\n",
        "        future = delta\n",
        "    else:\n",
        "        future = 0\n",
        "\n",
        "    plt.title(title)\n",
        "    for i, val in enumerate(plot_data):\n",
        "        if i:\n",
        "            plt.plot(future, plot_data[i], marker[i], markersize=10, label=labels[i])\n",
        "        else:\n",
        "            plt.plot(time_steps, plot_data[i].flatten(), marker[i], label=labels[i])\n",
        "    plt.legend()\n",
        "    plt.xlim([time_steps[0], (future + 5) * 2])\n",
        "    plt.xlabel(\"Time-Step\")\n",
        "    plt.show()\n",
        "    return"
      ]
    },
    {
      "cell_type": "code",
      "source": [
        "for x, y in dataset_val.take(5):\n",
        "    show_plot(\n",
        "        [x[0][:, 1].numpy(), y[0].numpy(), model.predict(x)[0]],\n",
        "        12,\n",
        "        \"Single Step Prediction\",\n",
        "    )"
      ],
      "metadata": {
        "id": "vSDMcG6bRAeR"
      },
      "execution_count": null,
      "outputs": []
    },
    {
      "cell_type": "markdown",
      "metadata": {
        "id": "clEvXo0lTDXk"
      },
      "source": [
        "#### 確認例題 5-5\n",
        "* 上記のコードでは、3つの属性\"Pressure\", \"Temperature\", \"Saturation vapor pressure\"を用いて、予測を行うモデルを構築しています。さらに、\"Vapor pressure deficit\"や\"Specific humidity\"などの他の属性を加えて予測してみましょう。\n",
        "* 同様に、5個ほどデータをサンプリングして、予測誤差の平均がどのように変化するかを確認してみましょう。\n",
        "* 属性のリスト:\n",
        " \"Pressure\",\n",
        "    \"Temperature\",\n",
        "    \"Temperature in Kelvin\",\n",
        "    \"Temperature (dew point)\",\n",
        "    \"Relative Humidity\",\n",
        "    \"Saturation vapor pressure\",\n",
        "    \"Vapor pressure\",\n",
        "    \"Vapor pressure deficit\",\n",
        "    \"Specific humidity\",\n",
        "    \"Water vapor concentration\",\n",
        "    \"Airtight\",\n",
        "    \"Wind speed\",\n",
        "    \"Maximum wind speed\",\n",
        "    \"Wind direction in degrees\",\n",
        "\n",
        "* なお、epoch数は10程度にしてみましょう。"
      ]
    },
    {
      "cell_type": "markdown",
      "metadata": {
        "id": "z0qzdmprdz46"
      },
      "source": [
        "## LSTMによる人間活動の判定モデル\n",
        "* 加速度センサーやジャイロセンサーから得られる人間行動データ(時系列)を学習し、活動の種類を判定するLSTMモデルを構築します。\n",
        "* 学習データには、カルフォルニア大学アーバイン校で公開されているUCI HARデータセットを用います。\n",
        "https://archive.ics.uci.edu/ml/datasets/human+activity+recognition+using+smartphones\n",
        "* 6種類の行動に分類しています: WALKING, WALKING_UPSTAIRS, WALKING_DOWNSTAIRS, SITTING, STANDING, LAYING\n",
        "* 実験の説明ビデオ https://www.youtube.com/watch?v=XOEN9W05_4A"
      ]
    },
    {
      "cell_type": "code",
      "execution_count": 1,
      "metadata": {
        "id": "j0vPw2v_d4eu"
      },
      "outputs": [],
      "source": [
        "# lstm model\n",
        "from numpy import mean\n",
        "from numpy import std\n",
        "from numpy import dstack\n",
        "from pandas import read_csv\n",
        "from tensorflow.keras.models import Sequential\n",
        "from tensorflow.keras.layers import Dense\n",
        "from tensorflow.keras.layers import Flatten\n",
        "from tensorflow.keras.layers import Dropout\n",
        "from tensorflow.keras.layers import LSTM\n",
        "from tensorflow.keras.utils import to_categorical\n",
        "from matplotlib import pyplot"
      ]
    },
    {
      "cell_type": "markdown",
      "metadata": {
        "id": "vJimqXUPW34o"
      },
      "source": [
        "### データの準備"
      ]
    },
    {
      "cell_type": "code",
      "execution_count": null,
      "metadata": {
        "id": "aTZcqYMgd95b"
      },
      "outputs": [],
      "source": [
        "!wget https://archive.ics.uci.edu/ml/machine-learning-databases/00240/UCI%20HAR%20Dataset.zip\n",
        "!unzip \"UCI HAR Dataset.zip\""
      ]
    },
    {
      "cell_type": "code",
      "execution_count": 36,
      "metadata": {
        "id": "UJADlKYgeGg-"
      },
      "outputs": [],
      "source": [
        "# load a list of files and return as a 3d numpy array\n",
        "def load_files(filenames, prefix=''):\n",
        "\tloaded = list()\n",
        "\tfor name in filenames:\n",
        "\t\tdata = read_csv(prefix + name, header=None, delim_whitespace=True)\n",
        "\t\tloaded.append(data.values)\n",
        "\t# stack group so that features are the 3rd dimension\n",
        "\tloaded = dstack(loaded)\n",
        "\treturn loaded\n",
        "\n",
        "# load a dataset group, such as train or test\n",
        "def load_dataset(group, prefix=''):\n",
        "\tfilepath = prefix + group + '/Inertial Signals/'\n",
        "\t# load all 9 files as a single array\n",
        "\tfilenames = list()\n",
        "\t# total acceleration\n",
        "\tfilenames += ['total_acc_x_'+group+'.txt', 'total_acc_y_'+group+'.txt', 'total_acc_z_'+group+'.txt']\n",
        "\t# body acceleration\n",
        "\tfilenames += ['body_acc_x_'+group+'.txt', 'body_acc_y_'+group+'.txt', 'body_acc_z_'+group+'.txt']\n",
        "\t# body gyroscope\n",
        "\tfilenames += ['body_gyro_x_'+group+'.txt', 'body_gyro_y_'+group+'.txt', 'body_gyro_z_'+group+'.txt']\n",
        "\t# load input data\n",
        "\tX = load_files(filenames, filepath)\n",
        "\t# load class output\n",
        "\ty = read_csv(prefix + group + '/y_'+group+'.txt', header=None, delim_whitespace=True)\n",
        "\treturn X, y"
      ]
    },
    {
      "cell_type": "code",
      "execution_count": 37,
      "metadata": {
        "id": "8v9E_-j3eWxx",
        "colab": {
          "base_uri": "https://localhost:8080/"
        },
        "outputId": "ce4eaf72-0bd8-4de3-9e71-872ef8782ada"
      },
      "outputs": [
        {
          "output_type": "stream",
          "name": "stdout",
          "text": [
            "(7352, 128, 9) (7352, 1)\n",
            "(2947, 128, 9) (2947, 1)\n",
            "(7352, 128, 9) (7352, 6) (2947, 128, 9) (2947, 6)\n"
          ]
        }
      ],
      "source": [
        "\ttrainX, trainy = load_dataset('train', 'UCI HAR Dataset/')\n",
        "\tprint(trainX.shape, trainy.shape)\n",
        "\t# load all test\n",
        "\ttestX, testy = load_dataset('test', 'UCI HAR Dataset/')\n",
        "\tprint(testX.shape, testy.shape)\n",
        "\n",
        "\ttrainy = trainy - 1\n",
        "\ttesty = testy - 1\n",
        "\t# one-hotベクトル\n",
        "\ttrainy = to_categorical(trainy)\n",
        "\ttesty = to_categorical(testy)\n",
        "\tprint(trainX.shape, trainy.shape, testX.shape, testy.shape)"
      ]
    },
    {
      "cell_type": "markdown",
      "source": [
        "行動時系列データとして3軸(x, y, z)の加速度だけを使って、行動を予測してみます。"
      ],
      "metadata": {
        "id": "_rxeoH8Aa0OF"
      }
    },
    {
      "cell_type": "code",
      "source": [
        "trainX_3 = trainX[:,:,0:3]\n",
        "n_features = trainX_3.shape[2]"
      ],
      "metadata": {
        "id": "gqel0TKwYoTO"
      },
      "execution_count": 38,
      "outputs": []
    },
    {
      "cell_type": "code",
      "source": [
        "print(trainX_3.shape)\n",
        "print(n_features)"
      ],
      "metadata": {
        "colab": {
          "base_uri": "https://localhost:8080/"
        },
        "id": "jwL8xMRaZaAY",
        "outputId": "e712969e-d479-4ec1-9961-67b7f8bdfec6"
      },
      "execution_count": 39,
      "outputs": [
        {
          "output_type": "stream",
          "name": "stdout",
          "text": [
            "(7352, 128, 3)\n",
            "3\n"
          ]
        }
      ]
    },
    {
      "cell_type": "code",
      "source": [
        "testX_3 = testX[:,:,0:3]"
      ],
      "metadata": {
        "id": "Se2i53r8aeG2"
      },
      "execution_count": 40,
      "outputs": []
    },
    {
      "cell_type": "markdown",
      "metadata": {
        "id": "rSOq2PolW9OK"
      },
      "source": [
        "### LSTMモデルの構築"
      ]
    },
    {
      "cell_type": "code",
      "execution_count": 41,
      "metadata": {
        "id": "ZpAKTkt2gi7e"
      },
      "outputs": [],
      "source": [
        "n_timesteps, n_features, n_outputs = trainX_3.shape[1], trainX_3.shape[2], trainy.shape[1]\n",
        "model = Sequential()\n",
        "model.add(LSTM(100, input_shape=(n_timesteps,n_features)))\n",
        "model.add(Dropout(0.5))\n",
        "model.add(Dense(100, activation='relu'))\n",
        "model.add(Dense(n_outputs, activation='softmax'))\n",
        "model.compile(loss='categorical_crossentropy', optimizer='adam', metrics=['accuracy'])"
      ]
    },
    {
      "cell_type": "markdown",
      "metadata": {
        "id": "tqr2VjK1XEvI"
      },
      "source": [
        "### 学習と評価"
      ]
    },
    {
      "cell_type": "code",
      "source": [
        "hitsotry = model.fit(trainX_3, trainy, epochs=15, batch_size=64, verbose=0)"
      ],
      "metadata": {
        "id": "V8ed_lF4aVrj"
      },
      "execution_count": 42,
      "outputs": []
    },
    {
      "cell_type": "code",
      "execution_count": null,
      "metadata": {
        "id": "QlK4pMiqwPnW"
      },
      "outputs": [],
      "source": [
        "_, accuracy = model.evaluate(testX_3, testy, batch_size=64, verbose=0)\n",
        "\n",
        "print(accuracy)"
      ]
    },
    {
      "cell_type": "markdown",
      "metadata": {
        "id": "xgTlO2Wpaw5P"
      },
      "source": [
        "#### 確認例題 5-6\n",
        "エポック数を5, 10, 15, 20, 25, 30のように変化させ、予測精度がどのように変化するかを確認してみましょう。"
      ]
    },
    {
      "cell_type": "markdown",
      "source": [
        "#### 確認例題 5-7\n",
        "\n",
        "* 9つ全ての行動時系列データを使って、予測精度がどのように変化するかを確認してみましょう。\n",
        "* エポック数は同様に5, 10, 15, 20, 25, 30のように変化させてください。"
      ],
      "metadata": {
        "id": "JjXLXXsrbN1u"
      }
    },
    {
      "cell_type": "markdown",
      "metadata": {
        "id": "9ygCNSOphvhv"
      },
      "source": [
        "# レポート課題\n",
        "\n",
        "1. **課題提出用にcolaboratory上で実行するためのページを作成**し、下記の確認例題について実行結果を掲載してください。(**説明文や図など、指定した課題に関係ない内容は削除**してください。)\n",
        "\n",
        " * 確認例題 1-10 (week7)\n",
        " * 確認例題 4-7 (week10) ※3-7となっていますが誤植です。\n",
        " * 確認例題 5-5 (week11)\n",
        "\n",
        "2. 講義の感想も、同じページ上に記述して下さい。\n",
        "\n",
        "3. 提出方法と期限\n",
        " * ColaboratoryのページのURLを記載して、manabaより提出してください。\n",
        " * 提出期限: 12/15(金)"
      ]
    },
    {
      "cell_type": "markdown",
      "metadata": {
        "id": "rMK1SPj4zebm"
      },
      "source": [
        "# 参考文献\n",
        "* Keras公式サイト, https://keras.io/examples/"
      ]
    }
  ],
  "metadata": {
    "accelerator": "GPU",
    "colab": {
      "collapsed_sections": [
        "clEvXo0lTDXk"
      ],
      "provenance": []
    },
    "kernelspec": {
      "display_name": "Python 3",
      "name": "python3"
    }
  },
  "nbformat": 4,
  "nbformat_minor": 0
}