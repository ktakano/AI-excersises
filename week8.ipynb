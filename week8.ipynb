{
  "cells": [
    {
      "cell_type": "markdown",
      "metadata": {
        "id": "6BGXi2WF0Hpl"
      },
      "source": [
        "# AI演習 第8回\n",
        "### ディープラーニングによる自然言語処理と時系列データ処理 (3) "
      ]
    },
    {
      "cell_type": "markdown",
      "metadata": {
        "id": "4WyrJRoHzjQM"
      },
      "source": [
        "[実行環境]\n",
        "Colaboratoryの実行環境は更新されるので確認しておきます。\n",
        "\n",
        "Python: 3.7.15<br>\n",
        "TensorFlow: 2.9.2<br>\n",
        "Keras: 2.9.0\n",
        "\n",
        "ランタイムのタイプは、GPUを指定するように注意してください。"
      ]
    },
    {
      "cell_type": "code",
      "execution_count": null,
      "metadata": {
        "colab": {
          "base_uri": "https://localhost:8080/"
        },
        "id": "O5jmSQp1zngl",
        "outputId": "4d338548-0460-42f0-d75a-8ae3c1237f2b"
      },
      "outputs": [
        {
          "name": "stdout",
          "output_type": "stream",
          "text": [
            "2.9.2\n",
            "2.9.0\n"
          ]
        }
      ],
      "source": [
        "import tensorflow as tf\n",
        "\n",
        "print(tf.__version__)\n",
        "print(tf.keras.__version__)"
      ]
    },
    {
      "cell_type": "markdown",
      "source": [
        "# ニューラル機械翻訳\n",
        "\n",
        "* ニューラルネットワークを用いて実現する翻訳機能\n",
        "* 2014年にRNNを利用した系列変換モデル(sequence-to-sequence model)が考案され、実用化された。\n",
        "* 2017年にTransformerが考案され、機械翻訳の性能向上に貢献している。\n",
        "\n"
      ],
      "metadata": {
        "id": "5xYMARaF5KR-"
      }
    },
    {
      "cell_type": "markdown",
      "source": [
        "# RNNを利用した系列変換モデルによる機械翻訳\n",
        "\n",
        "* 翻訳の対象となる文章を系列データとして入力し、翻訳結果の文章を系列データとして出力する。\n",
        "\n",
        "<img src='https://drive.google.com/uc?export=view&id=1U4jwaSgp2akrDfTv3aKvNQ4DPXLXK2GE' width='70%'>\n",
        "\n",
        "* 系列変換モデルは、(1)入力となる系列データをエンコードし、(2)エンコードした結果をデコードして系列データを出力するため、エンコード・デコードモデルと呼ばれることがある。\n",
        "* エンコードした結果を、意味ベクトルと呼ぶ。\n",
        "* 意味ベクトルは固定長であるため、入力系列データの長さが大きくなると、学習が困難となる。\n",
        "\n",
        "<img src='https://drive.google.com/uc?export=view&id=1ssHPPADGjdM7xcsvJF5dFy6yuI6iQVEo' width='70%'>"
      ],
      "metadata": {
        "id": "NImfWVfbx9sE"
      }
    },
    {
      "cell_type": "markdown",
      "metadata": {
        "id": "dNMvPOBP_H6Q"
      },
      "source": [
        "# Attention (注視機構)\n",
        "* Bahdanau, Cho, Bengioらが、ニューラル機械翻訳に導入(2014年)\n",
        "* 入力データに対して着目したい特徴に注視(attention)して強調する仕組み\n",
        "\n"
      ]
    },
    {
      "cell_type": "markdown",
      "source": [
        "## Self-attention\n",
        "\n",
        "* 系列データ内で着目したい情報を強調するように、元の系列データを調整する"
      ],
      "metadata": {
        "id": "EFFEbG8cCe-g"
      }
    },
    {
      "cell_type": "code",
      "execution_count": null,
      "metadata": {
        "id": "9fXwiiks3RLw"
      },
      "outputs": [],
      "source": [
        "!wget http://mattmahoney.net/dc/text8.zip\n",
        "!unzip text8.zip"
      ]
    },
    {
      "cell_type": "code",
      "execution_count": null,
      "metadata": {
        "id": "uTqrq3lG3Zs-"
      },
      "outputs": [],
      "source": [
        "from gensim.models.word2vec import Word2Vec, Text8Corpus\n",
        " \n",
        "sentences = Text8Corpus('text8')\n",
        "model = Word2Vec(sentences, size=100)\n",
        "\n",
        "model.save('model.bin')"
      ]
    },
    {
      "cell_type": "code",
      "execution_count": null,
      "metadata": {
        "id": "5k0iJ8Jh3cCK"
      },
      "outputs": [],
      "source": [
        "model = Word2Vec.load('model.bin')"
      ]
    },
    {
      "cell_type": "code",
      "execution_count": null,
      "metadata": {
        "id": "w1v0lS-H4Ti-"
      },
      "outputs": [],
      "source": [
        "text = \"I book a room at the hotel.\""
      ]
    },
    {
      "cell_type": "code",
      "execution_count": null,
      "metadata": {
        "id": "wGbaS7xY8kML"
      },
      "outputs": [],
      "source": [
        "text = text.lower() # 小文字にする\n",
        "text = text.replace('.', ' .') # ピリオドを分割\n",
        "words = text.split(' ') # 空白を区切りにして単語を分割"
      ]
    },
    {
      "cell_type": "code",
      "execution_count": null,
      "metadata": {
        "id": "vNyDgAY78uyA"
      },
      "outputs": [],
      "source": [
        "import numpy as np\n",
        "\n",
        "# Self-attentionの重み行列の作成\n",
        "a = np.array([])\n",
        "for w1 in words:\n",
        "  for w2 in words:\n",
        "    try:\n",
        "      score = model.wv.similarity(w1, w2)\n",
        "    except:\n",
        "      score = 0\n",
        "\n",
        "    #print(w1, w2, score)\n",
        "    a = np.append(a, score)"
      ]
    },
    {
      "cell_type": "code",
      "execution_count": null,
      "metadata": {
        "id": "sVUflJoB6fFa"
      },
      "outputs": [],
      "source": [
        "from matplotlib import pyplot as plt\n",
        "import seaborn as sns\n",
        "\n",
        "length = len(words)\n",
        "\n",
        "attention_matrix = a.reshape(length, length)\n",
        "#feature_names = [\"0\", \"1\", \"2\", \"3\"]\n",
        "feature_names = words\n",
        "# Self-attentionの重みのヒートマップを描く\n",
        "sns.heatmap(attention_matrix, annot=True,\n",
        "            xticklabels=feature_names,\n",
        "            yticklabels=feature_names)\n",
        "\n",
        "# グラフを表示する\n",
        "plt.show()"
      ]
    },
    {
      "cell_type": "markdown",
      "source": [
        "## Self-attentionによるベクトル生成の例\n",
        "\n",
        "Self-attentionの重みを利用して、\"book\"の単語ベクトルを調整する。"
      ],
      "metadata": {
        "id": "Z356BgeTGS2Y"
      }
    },
    {
      "cell_type": "code",
      "source": [
        "attention_weight = attention_matrix[1] # bookのself-attentionの重み\n",
        "print(attention_weight)"
      ],
      "metadata": {
        "colab": {
          "base_uri": "https://localhost:8080/"
        },
        "id": "arB3x0o6GIId",
        "outputId": "ecc43543-4d08-4cb0-a0ac-94cd7d84a85a"
      },
      "execution_count": null,
      "outputs": [
        {
          "output_type": "stream",
          "name": "stdout",
          "text": [
            "[0.13122362 1.         0.05116783 0.18556051 0.054107   0.01275886\n",
            " 0.39316773 0.        ]\n"
          ]
        }
      ]
    },
    {
      "cell_type": "code",
      "source": [
        "book_attention_vec = np.zeros(model.wv[\"book\"].size)\n",
        "\n",
        "for i, t in enumerate(words):\n",
        "  try:\n",
        "    book_attention_vec += attention_weight[i] * model.wv[t]\n",
        "  except:\n",
        "    book_attention_vec = book_attention_vec\n",
        "\n",
        "print (\"元のbookベクトル:\", model.wv[\"book\"])\n",
        "print (\"Self-attention後のbookベクトル\", book_attention_vec)"
      ],
      "metadata": {
        "id": "NCoPdFViG9UY"
      },
      "execution_count": null,
      "outputs": []
    },
    {
      "cell_type": "markdown",
      "source": [
        "### 確認例題 3-1\n",
        "(1)次の英文について、self-attentionの重みのヒートマップを描画してください。\n",
        "\n",
        "I cut orages with a knife.\n",
        "\n",
        "(2)さらに、\"cut\"の単語ベクトルについて、self-attentionによる重みを用いて調整した単語ベクトルを生成してください。\n",
        "\n"
      ],
      "metadata": {
        "id": "IBw2e8sOPbnK"
      }
    },
    {
      "cell_type": "markdown",
      "source": [
        "# RNN機械翻訳におけるattention\n",
        "\n",
        "* 入力系列データの各セルの出力を結合したものを意味ベクトル列とする。\n",
        "* デコーダのセルの入力に対して、意味ベクトルのどの部分に着目（注視）しているかを考慮して、コンテキストベクトルを生成する。\n",
        "* 入力系列データが長くなっても、精度が良い。\n",
        "\n",
        "<img src='https://drive.google.com/uc?export=view&id=1U4zc0A0bt3-7po1QS4aa5Eum5nvUfqOa' width='70%'>"
      ],
      "metadata": {
        "id": "IyMmiHN2CU8g"
      }
    },
    {
      "cell_type": "markdown",
      "source": [
        "## コンテキストベクトルの計算方法\n",
        "\n",
        "* デコーダのセルiの出力h'iに対して、意味ベクトル列の各意味ベクトル[h1, h2, …, hn]との内積を計算 → [a1, a2, …, an]\n",
        "*[a1, a2, …, an]を合計が1となるように正規化 (softmaxを計算) → [a’1, a’2, …, a’n]\n",
        "*意味ベクトル列の各意味ベクトルの重み付き和を計算 → コンテキストベクトルci\n",
        "\n",
        "\n",
        "<img src='https://drive.google.com/uc?export=view&id=1ibCk1eq0k8LVp_Bx_Z0GEGHn2MSM-Alx' width='70%'>"
      ],
      "metadata": {
        "id": "B9CBxDkzKod0"
      }
    },
    {
      "cell_type": "markdown",
      "source": [
        "## Attentionを用いたRNN系列変換モデルの構成\n",
        "\n",
        "<img src='https://drive.google.com/uc?export=view&id=1SCu2_Ni9A4OK1E7UYW8BKx2tew0C2Igi' width='70%'>"
      ],
      "metadata": {
        "id": "vASNKAomMBeR"
      }
    },
    {
      "cell_type": "markdown",
      "metadata": {
        "id": "s49voOvohoc4"
      },
      "source": [
        "# Transformer\n",
        "\n",
        "* Vaswaniらが、2017年に提案\n",
        "* 機械翻訳モデルとして提案されたが、広く自然言語処理や画像処理にも利用されている\n",
        "* 英-独翻訳で28.4のBLEUスコア\n",
        " * BLEUスコア: 機械翻訳の精度を評価するためのスコア\n",
        "* RNNのような系列構造を持たず、並列計算による高速化が可能\n",
        "* BERTやGPT-nなどの深層学習モデルもとになっている\n",
        "* 画像処理への適用例としては、Vision Transformer (ViT)がある。\n"
      ]
    },
    {
      "cell_type": "markdown",
      "source": [
        "## Transformerの構成\n",
        "\n",
        "<img src='https://drive.google.com/uc?export=view&id=1UoTp8e9Y1NCCsr7-m7QlvQBwWRCFgfNt' width='50%'>\n",
        "\n",
        "* Multi-head attention: query, key, valueを入力としたアテンション機構。入力データを分割して、複数の構成にしたものをMulti-headと呼んでいる。\n",
        "* Masked multi-head attention: 後続の単語を参照しないようにするアテンション機構\n",
        "* Positional encoding: 単語の出現位置についての埋め込み情報 (Vaswaniらは、sin関数、cos関数を用いた計算方法を提案)"
      ],
      "metadata": {
        "id": "aahUXhlGMvpX"
      }
    },
    {
      "cell_type": "markdown",
      "source": [
        "## Scaled Dot-Product Attention\n",
        "\n",
        "* Query、Key、ValueによるAttention機構\n",
        "* ベクトルの大きさで正規化される（scaledされる）\n",
        "* Positional Encodeingを用いて、単語の位置情報を加算する\n",
        "\n",
        "<img src='https://drive.google.com/uc?export=view&id=1w1Wqzmli6PkzPBXR3tpc02pT5WF3LpxZ' width='50%'>"
      ],
      "metadata": {
        "id": "mcZ6_A-AgDBD"
      }
    },
    {
      "cell_type": "markdown",
      "source": [
        "## Multi-head attention\n",
        "\n",
        "* 入力データを分割して、複数のscaled dot-product attentionで並列処理\n",
        "* 出力は、各attentionの出力(ベクトル形式)を横方向に連結(concat)\n",
        "\n",
        "<img src='https://drive.google.com/uc?export=view&id=1cpMJTclA31kwMsLZN_Jv19cvXjp8ETEN' width='30%'>\n",
        "\n",
        "\n"
      ],
      "metadata": {
        "id": "wkfVKpgBhKxJ"
      }
    },
    {
      "cell_type": "markdown",
      "source": [
        "## Transformerエンコーダによる文章分類\n",
        "\n",
        "Transformerエンコーダを用いて、IMDBデータセットの映画レビュー文章を分類する。"
      ],
      "metadata": {
        "id": "r2HfScUYN6IM"
      }
    },
    {
      "cell_type": "code",
      "execution_count": null,
      "metadata": {
        "id": "hHtrgk4khoBe"
      },
      "outputs": [],
      "source": [
        "import tensorflow as tf\n",
        "from tensorflow import keras\n",
        "from tensorflow.keras import layers\n",
        "\n",
        "class TransformerEncoder(layers.Layer):\n",
        "    def __init__(self, embed_dim, dense_dim, num_heads, **kwargs):\n",
        "        super().__init__(**kwargs)\n",
        "        self.embed_dim = embed_dim\n",
        "        self.dense_dim = dense_dim\n",
        "        self.num_heads = num_heads\n",
        "        self.attention = layers.MultiHeadAttention(\n",
        "            num_heads=num_heads, key_dim=embed_dim)\n",
        "        self.dense_proj = keras.Sequential(\n",
        "            [layers.Dense(dense_dim, activation=\"relu\"),\n",
        "             layers.Dense(embed_dim),]\n",
        "        )\n",
        "        self.layernorm_1 = layers.LayerNormalization()\n",
        "        self.layernorm_2 = layers.LayerNormalization()\n",
        "\n",
        "    def call(self, inputs, mask=None):\n",
        "        if mask is not None:\n",
        "            mask = mask[:, tf.newaxis, :]\n",
        "        attention_output = self.attention(\n",
        "            inputs, inputs, attention_mask=mask)\n",
        "        proj_input = self.layernorm_1(inputs + attention_output)\n",
        "        proj_output = self.dense_proj(proj_input)\n",
        "        return self.layernorm_2(proj_input + proj_output)\n",
        "\n",
        "    def get_config(self):\n",
        "        config = super().get_config()\n",
        "        config.update({\n",
        "            \"embed_dim\": self.embed_dim,\n",
        "            \"num_heads\": self.num_heads,\n",
        "            \"dense_dim\": self.dense_dim,\n",
        "        })\n",
        "        return config"
      ]
    },
    {
      "cell_type": "code",
      "execution_count": null,
      "metadata": {
        "id": "4DRm4E2Whufo"
      },
      "outputs": [],
      "source": [
        "vocab_size = 20000 # 単語数\n",
        "embed_dim = 256 # 単語埋め込み層の次元\n",
        "num_heads = 2\n",
        "dense_dim = 32\n",
        "\n",
        "inputs = keras.Input(shape=(None,), dtype=\"int64\")\n",
        "x = layers.Embedding(vocab_size, embed_dim)(inputs)\n",
        "x = TransformerEncoder(embed_dim, dense_dim, num_heads)(x)\n",
        "x = layers.GlobalMaxPooling1D()(x)\n",
        "x = layers.Dropout(0.5)(x)\n",
        "outputs = layers.Dense(1, activation=\"sigmoid\")(x)\n",
        "model = keras.Model(inputs, outputs)\n",
        "model.compile(optimizer=\"rmsprop\",\n",
        "              loss=\"binary_crossentropy\",\n",
        "              metrics=[\"accuracy\"])\n",
        "model.summary()"
      ]
    },
    {
      "cell_type": "code",
      "execution_count": null,
      "metadata": {
        "id": "Y-nTFpZwnLwm"
      },
      "outputs": [],
      "source": [
        "!curl -O https://ai.stanford.edu/~amaas/data/sentiment/aclImdb_v1.tar.gz\n",
        "!tar -xf aclImdb_v1.tar.gz\n",
        "!rm -r aclImdb/train/unsup"
      ]
    },
    {
      "cell_type": "code",
      "execution_count": null,
      "metadata": {
        "id": "DkicmeUYncJM"
      },
      "outputs": [],
      "source": [
        "import os, pathlib, shutil, random\n",
        "from tensorflow import keras\n",
        "batch_size = 32\n",
        "base_dir = pathlib.Path(\"aclImdb\")\n",
        "val_dir = base_dir / \"val\"\n",
        "train_dir = base_dir / \"train\"\n",
        "for category in (\"neg\", \"pos\"):\n",
        "    os.makedirs(val_dir / category)\n",
        "    files = os.listdir(train_dir / category)\n",
        "    random.Random(1337).shuffle(files)\n",
        "    num_val_samples = int(0.2 * len(files))\n",
        "    val_files = files[-num_val_samples:]\n",
        "    for fname in val_files:\n",
        "        shutil.move(train_dir / category / fname,\n",
        "                    val_dir / category / fname)\n",
        "\n",
        "train_ds = keras.utils.text_dataset_from_directory(\n",
        "    \"aclImdb/train\", batch_size=batch_size\n",
        ")\n",
        "val_ds = keras.utils.text_dataset_from_directory(\n",
        "    \"aclImdb/val\", batch_size=batch_size\n",
        ")\n",
        "test_ds = keras.utils.text_dataset_from_directory(\n",
        "    \"aclImdb/test\", batch_size=batch_size\n",
        ")\n",
        "text_only_train_ds = train_ds.map(lambda x, y: x)"
      ]
    },
    {
      "cell_type": "code",
      "execution_count": null,
      "metadata": {
        "id": "rv2efUOInXUI"
      },
      "outputs": [],
      "source": [
        "from tensorflow.keras import layers\n",
        "\n",
        "max_length = 600\n",
        "max_tokens = 20000\n",
        "text_vectorization = layers.TextVectorization(\n",
        "    max_tokens=max_tokens,\n",
        "    output_mode=\"int\",\n",
        "    output_sequence_length=max_length,\n",
        ")\n",
        "text_vectorization.adapt(text_only_train_ds)\n",
        "\n",
        "int_train_ds = train_ds.map(\n",
        "    lambda x, y: (text_vectorization(x), y),\n",
        "    num_parallel_calls=4)\n",
        "int_val_ds = val_ds.map(\n",
        "    lambda x, y: (text_vectorization(x), y),\n",
        "    num_parallel_calls=4)\n",
        "int_test_ds = test_ds.map(\n",
        "    lambda x, y: (text_vectorization(x), y),\n",
        "    num_parallel_calls=4)"
      ]
    },
    {
      "cell_type": "code",
      "source": [
        "for item in int_train_ds:\n",
        "  print(item)"
      ],
      "metadata": {
        "id": "BZcDANRrv-YB"
      },
      "execution_count": null,
      "outputs": []
    },
    {
      "cell_type": "code",
      "execution_count": null,
      "metadata": {
        "id": "Wi0b9CcYkNDA"
      },
      "outputs": [],
      "source": [
        "callbacks = [\n",
        "    keras.callbacks.ModelCheckpoint(\"transformer_encoder.keras\",\n",
        "                                    save_best_only=True)\n",
        "]\n",
        "model.fit(int_train_ds, validation_data=int_val_ds, epochs=3, callbacks=callbacks)\n",
        "model = keras.models.load_model(\n",
        "    \"transformer_encoder.keras\",\n",
        "    custom_objects={\"TransformerEncoder\": TransformerEncoder})\n",
        "print(f\"Test acc: {model.evaluate(int_test_ds)[1]:.3f}\")"
      ]
    },
    {
      "cell_type": "markdown",
      "source": [
        "#### 3-2 確認例題\n",
        "* Epoch数を増やして分類精度が向上するか確認しましょう。\n",
        "* さらに、2-1 確認例題で確認した一次元CNN、SimpleRNN、LSTM、GRUに加えて、TransformerEncoderを含めた5つのモデルについて、分類精度を比較し、考察してみましょう。また、各モデルのパラメータ数についても比較してみましょう。"
      ],
      "metadata": {
        "id": "q2UJKn_ALzUZ"
      }
    },
    {
      "cell_type": "markdown",
      "metadata": {
        "id": "XuFp2jhKzWSM"
      },
      "source": [
        "# BERT (Bidirectional Encoder Representations from Transformers)\n",
        "\n",
        "* 双方向のエンコード表現学習を実現する深層ニューラルネットワーク\n",
        "\n",
        "* 文脈理解の向上\n",
        " * 2019 brazil traveler to usa need a visa <br>\n",
        "   ブラジルへのアメリカ人旅行者 x <br>\n",
        "   アメリカへのブラジル人旅行者 o <br>\n",
        "\n",
        "* 他のモデルへの転移学習が容易\n",
        " * 転移学習: 学習済のNNモデルを，他のNNモデルに埋め込んで利用する学習方法．少ない学習データで，認識精度の高いNNモデルが実現できる．\n",
        "* ラベルが付与されていないデータセットからも学習可能（教師なし学習）\n",
        "\n",
        "* Transformer: Attentionを用いて時系列データを処理する深層学習モデル\n",
        "* Attention: 出力シーケンスの生成時に入力シーケンスのどこに注視（attention）するかを判断する仕組み\n",
        "\n",
        "<br>\n",
        "<img src='https://drive.google.com/uc?export=view&id=1J-JGdA0-yJsEbfF35goLmJSsKPCUUS-E' width='100%'>"
      ]
    },
    {
      "cell_type": "markdown",
      "metadata": {
        "id": "78gR8mrPzMNI"
      },
      "source": [
        "### BERTの事前学習\n",
        "* BERTは事前学習により構築したモデルを、さらに転移学習（ファインチューニング）することで様々自然言語処理タスクに適用することができる。\n",
        "* 事前学習は、単語のマスクによる単語推定学習と2つの文章に対する隣接推定学習により実施される。\n",
        "\n",
        "[例]\n",
        "初期の学習による推定:<br>\n",
        "{'input_text': 'i have watched this [mask] and it was awesome',<br>\n",
        " 'predicted mask token': 'this',<br>\n",
        " 'prediction': 'i have watched this this and it was awesome',<br>\n",
        " 'probability': 0.086307295}\n",
        "\n",
        "\n",
        "中盤の学習による推定:<br>\n",
        "{'input_text': 'i have watched this [mask] and it was awesome',<br>\n",
        " 'predicted mask token': 'movie',<br>\n",
        " 'prediction': 'i have watched this movie and it was awesome',<br>\n",
        " 'probability': 0.4759983}"
      ]
    },
    {
      "cell_type": "markdown",
      "metadata": {
        "id": "q1y3Tqky4wLw"
      },
      "source": [
        "### BERTによる文書ベクトルの出力例\n",
        "* BERTを用いて、単語の分散表現を抽出することができます。文書を単語の集合とみなすと、文書の分散表現も得ることができます。\n",
        "* ここでは、文書の分散表現を文書ベクトルと呼ぶことにします。\n",
        "* 文書ベクトル間の類似度を計算することで、似ている文書同士を分類したり、単語ベクトルと文書ベクトルの類似度の計算による文書検索が実現できるようになります。（第6回講義のベクトル空間モデルも参照して下さい。）\n",
        "\n",
        "\n",
        "<br>\n",
        "<img src='https://drive.google.com/uc?export=view&id=1HgE6BVMiPAks6J88iYPtcnIk4Uk5kJ5a' width='70%'>"
      ]
    },
    {
      "cell_type": "markdown",
      "metadata": {
        "id": "J6i5nPnOTWHa"
      },
      "source": [
        "### BERT日本語事前学習モデルの利用\n",
        "上記の文書ベクトルの出力例をコードで動かしてみます。\n",
        "BERT日本語事前学習モデルを利用しています。\n",
        "\n",
        "ここでは、BERT日本語事前学習モデルとして、京都大学で構築した 「Japanese_L-12_H-768_A-12_E-30_BPE_WWM_transformers」を利用します。\n",
        "このモデルは、入力テキストを形態素解析し、形態素をsubwordに分割したものを基本単位とし、日本語テキストのみ(Wikipediaを利用)で事前学習ししています。\n",
        "\n",
        "[京都大学のウェブサイト]<br>\n",
        "http://nlp.ist.i.kyoto-u.ac.jp/index.php?BERT%E6%97%A5%E6%9C%AC%E8%AA%9EPretrained%E3%83%A2%E3%83%87%E3%83%AB"
      ]
    },
    {
      "cell_type": "markdown",
      "metadata": {
        "id": "2q1M--WRSLfg"
      },
      "source": [
        "#### Jumanの導入\n",
        "Juman等、京都大学で開発されたライブラリをインストールします。\n",
        "\n",
        "Juman: 形態素解析を行うライブラリ<br>\n",
        "KNP: 日本語文の構文・格・照応解析を行うライブラリ<br>\n",
        "pyknp: JUMANとKNPをつなぐライブラリ<br>"
      ]
    },
    {
      "cell_type": "code",
      "execution_count": null,
      "metadata": {
        "colab": {
          "base_uri": "https://localhost:8080/"
        },
        "id": "sj8L5ucVSCYx",
        "outputId": "70f57dd7-5440-47c6-9fc8-35e824fd0703"
      },
      "outputs": [
        {
          "output_type": "stream",
          "name": "stdout",
          "text": [
            "Looking in indexes: https://pypi.org/simple, https://us-python.pkg.dev/colab-wheels/public/simple/\n",
            "Requirement already satisfied: pyknp in /usr/local/lib/python3.7/dist-packages (0.6.1)\n",
            "Requirement already satisfied: six in /usr/local/lib/python3.7/dist-packages (from pyknp) (1.15.0)\n"
          ]
        }
      ],
      "source": [
        "!pip install pyknp"
      ]
    },
    {
      "cell_type": "code",
      "execution_count": null,
      "metadata": {
        "id": "4B8TR_0dSE77"
      },
      "outputs": [],
      "source": [
        "!wget https://github.com/ku-nlp/jumanpp/releases/download/v2.0.0-rc3/jumanpp-2.0.0-rc3.tar.xz\n",
        "!sudo apt install cmake\n",
        "!tar xJvf jumanpp-2.0.0-rc3.tar.xz"
      ]
    },
    {
      "cell_type": "code",
      "execution_count": null,
      "metadata": {
        "id": "QmaELMisSS_j"
      },
      "outputs": [],
      "source": [
        "!mkdir ./jumanpp-2.0.0-rc3/bld\n",
        "!cd ./jumanpp-2.0.0-rc3/bld; cmake ..; sudo make install"
      ]
    },
    {
      "cell_type": "markdown",
      "metadata": {
        "id": "EBoi7y_kaV8w"
      },
      "source": [
        "#### BERT事前学習モデルなどの準備\n",
        "京都大学のウェブサイトからファイルをダウンロードします。"
      ]
    },
    {
      "cell_type": "code",
      "execution_count": null,
      "metadata": {
        "id": "G_wwUZk8Sw3C"
      },
      "outputs": [],
      "source": [
        "!wget -O Japanese_L-12_H-768_A-12_E-30_BPE_WWM_transformers.zip http://nlp.ist.i.kyoto-u.ac.jp/DLcounter/lime.cgi?down=http://nlp.ist.i.kyoto-u.ac.jp/nl-resource/JapaneseBertPretrainedModel/Japanese_L-12_H-768_A-12_E-30_BPE_WWM_transformers.zip&name=Japanese_L-12_H-768_A-12_E-30_BPE_WWM_transformers.zip \n",
        "!unzip Japanese_L-12_H-768_A-12_E-30_BPE_WWM_transformers.zip"
      ]
    },
    {
      "cell_type": "code",
      "execution_count": null,
      "metadata": {
        "id": "0wUQOwGxXkPQ"
      },
      "outputs": [],
      "source": [
        "#!pip install transformers==2.5.1\n",
        "!pip install transformers==3.4.0\n",
        "#!pip install transformers"
      ]
    },
    {
      "cell_type": "code",
      "execution_count": null,
      "metadata": {
        "colab": {
          "base_uri": "https://localhost:8080/"
        },
        "id": "btKEwNxQXx0g",
        "outputId": "9e1e3096-b731-4ae0-b5eb-df4906f5ba79"
      },
      "outputs": [
        {
          "output_type": "stream",
          "name": "stdout",
          "text": [
            "aclImdb\n",
            "aclImdb_v1.tar.gz\n",
            "Japanese_L-12_H-768_A-12_E-30_BPE_WWM_transformers\n",
            "Japanese_L-12_H-768_A-12_E-30_BPE_WWM_transformers.zip\n",
            "jumanpp-2.0.0-rc3\n",
            "jumanpp-2.0.0-rc3.tar.xz\n",
            "jumanpp-2.0.0-rc3.tar.xz.1\n",
            "model.bin\n",
            "sample_data\n",
            "text8\n",
            "text8.zip\n",
            "transformer_encoder.keras\n"
          ]
        }
      ],
      "source": [
        "!ls"
      ]
    },
    {
      "cell_type": "markdown",
      "metadata": {
        "id": "T-20atE-auB2"
      },
      "source": [
        "#### BERT事前モデルの読み込み"
      ]
    },
    {
      "cell_type": "code",
      "execution_count": null,
      "metadata": {
        "id": "ElvDBynRRixC"
      },
      "outputs": [],
      "source": [
        "# -*- coding: utf-8 -*-\n",
        "import torch\n",
        "from pyknp import Juman\n",
        "from transformers import BertTokenizer, BertModel\n",
        "\n",
        "text = \"今日の授業は大変役に立った。\"\n",
        "bert_model_path = \"./Japanese_L-12_H-768_A-12_E-30_BPE_WWM_transformers\"\n",
        "\n",
        "# BERT pre_trained model load\n",
        "bert_model = BertModel.from_pretrained(bert_model_path)\n",
        "\n",
        "# for Tokenizer\n",
        "vocab_file_path = bert_model_path + \"/vocab.txt\"\n",
        "bert_tokenizer = BertTokenizer(vocab_file_path, do_lower_case=False, do_basic_tokenize=False)"
      ]
    },
    {
      "cell_type": "markdown",
      "metadata": {
        "id": "kKaFv5FCanCw"
      },
      "source": [
        "#### 文書ベクトルの抽出\n",
        "文章をJumanで品詞分解し、トークンIDの列を取得します。トークンIDの列をBERTに入力し、文書ベクトルを抽出します。"
      ]
    },
    {
      "cell_type": "code",
      "execution_count": null,
      "metadata": {
        "colab": {
          "base_uri": "https://localhost:8080/"
        },
        "id": "P_s50Lr_RoMQ",
        "outputId": "5a387909-e62a-4c03-9ae1-07efebb54a11"
      },
      "outputs": [
        {
          "output_type": "stream",
          "name": "stdout",
          "text": [
            "JUMAN tokens:  ['今日', 'の', '授業', 'は', '大変', '役', 'に', '立った', '。']\n"
          ]
        }
      ],
      "source": [
        "juman = Juman()\n",
        "result = juman.analysis(text)\n",
        "tokens = [mrph.midasi for mrph in result.mrph_list()]\n",
        "print(\"JUMAN tokens: \", tokens)"
      ]
    },
    {
      "cell_type": "code",
      "execution_count": null,
      "metadata": {
        "colab": {
          "base_uri": "https://localhost:8080/"
        },
        "id": "KzNU8vDiRvaw",
        "outputId": "999e67ca-264f-4fe5-e2ff-4f8e9f762c9e"
      },
      "outputs": [
        {
          "output_type": "stream",
          "name": "stdout",
          "text": [
            "BERT tokens:  ['[CLS]', '今日', 'の', '授業', 'は', '大変', '役', 'に', '立った', '。', '[SEP]']\n",
            "BERT token IDs:  [2, 2281, 5, 4728, 9, 8116, 352, 8, 7894, 7, 3]\n",
            "\n",
            "\n",
            "[Document vector]\n",
            "tensor([[ 1.1900, -0.4614, -0.2400,  ...,  0.4808,  0.5996, -0.3095],\n",
            "        [-0.2990, -0.4036,  0.1444,  ..., -0.3426, -0.0406, -0.0778],\n",
            "        [-0.4311,  0.1442, -0.6416,  ...,  0.8710,  0.5044, -0.3810],\n",
            "        ...,\n",
            "        [ 0.0531,  0.4762,  0.9298,  ...,  0.5106, -0.0382,  0.3643],\n",
            "        [ 0.4351, -0.3449,  0.1678,  ...,  0.5556,  0.5860,  0.4861],\n",
            "        [ 0.3368, -0.2108,  0.2384,  ...,  0.4516,  0.9999,  0.4485]],\n",
            "       grad_fn=<SelectBackward0>)\n",
            "\n",
            " (size:  torch.Size([11, 768]) )\n"
          ]
        }
      ],
      "source": [
        "bert_tokens = bert_tokenizer.tokenize(\" \".join([\"[CLS]\"] + tokens + [\"[SEP]\"]))\n",
        "print(\"BERT tokens: \", bert_tokens)\n",
        "\n",
        "token_ids = bert_tokenizer.convert_tokens_to_ids(bert_tokens)\n",
        "print(\"BERT token IDs: \", token_ids)\n",
        "\n",
        "print(\"\\n\")\n",
        "print(\"[Document vector]\")\n",
        "tokens_tensor = torch.tensor(token_ids).unsqueeze(0)\n",
        "outputs,_ = bert_model(tokens_tensor)\n",
        "print(outputs[0])\n",
        "print(\"\\n (size: \", outputs[0].size(), \")\")"
      ]
    },
    {
      "cell_type": "markdown",
      "metadata": {
        "id": "FDeJQVfrwpmf"
      },
      "source": [
        "#### 確認例題 3-3\n",
        "\n",
        "3個の文章を用意し、文書ベクトルを生成してみましょう。\n",
        "\n",
        "\n"
      ]
    },
    {
      "cell_type": "markdown",
      "source": [
        "#### 確認例題 3-4\n",
        "さらに、各文章間の類似度をベクトル空間モデルを適用して計算してみましょう。（やり方は確認例題1-2を参考にして下さい。）"
      ],
      "metadata": {
        "id": "ZJp1w-nVcS-w"
      }
    },
    {
      "cell_type": "markdown",
      "metadata": {
        "id": "RIQAxkwz1KET"
      },
      "source": [
        "# 時系列データと深層学習\n",
        "* ある現象の時間的な変化を観測して得られる値を対象として、観測時刻と観測値を対応付けたデータ列を時系列データと呼びます。\n",
        "* 例えば、天気などの気象データ、株価などの金融データ、人や物体などの動作データなどがあります。\n",
        "* 時系列データを対象とした深層学習には、RNNやLSTMのような，過去の情報を遡って学習できる深層学習モデルを利用します。\n"
      ]
    },
    {
      "cell_type": "markdown",
      "metadata": {
        "id": "nPeLFSNeZQbm"
      },
      "source": [
        "## LSTMによる気象予測\n",
        "* Kerasの公式サイトで公開されているコードを用いて、LSTMによる天気予測を事項してみます。\n",
        "* 気象データの学習には、ドイツのマックス・プランク研究所で観測されたデータを用いています。\n",
        "\n",
        "https://www.bgc-jena.mpg.de/wetter/"
      ]
    },
    {
      "cell_type": "code",
      "execution_count": null,
      "metadata": {
        "id": "bCcl5FFIZUZK"
      },
      "outputs": [],
      "source": [
        "import pandas as pd\n",
        "import matplotlib.pyplot as plt\n",
        "import tensorflow as tf\n",
        "from tensorflow import keras"
      ]
    },
    {
      "cell_type": "markdown",
      "metadata": {
        "id": "ztcTHfPXRT0V"
      },
      "source": [
        "### データの準備と確認"
      ]
    },
    {
      "cell_type": "code",
      "execution_count": null,
      "metadata": {
        "colab": {
          "base_uri": "https://localhost:8080/"
        },
        "id": "KDIlGQZcZY7f",
        "outputId": "b4493bce-f887-4ea6-da14-fd1bbb71fcf1"
      },
      "outputs": [
        {
          "output_type": "stream",
          "name": "stdout",
          "text": [
            "Downloading data from https://storage.googleapis.com/tensorflow/tf-keras-datasets/jena_climate_2009_2016.csv.zip\n",
            "13568290/13568290 [==============================] - 2s 0us/step\n"
          ]
        }
      ],
      "source": [
        "from zipfile import ZipFile\n",
        "import os\n",
        "\n",
        "uri = \"https://storage.googleapis.com/tensorflow/tf-keras-datasets/jena_climate_2009_2016.csv.zip\"\n",
        "zip_path = keras.utils.get_file(origin=uri, fname=\"jena_climate_2009_2016.csv.zip\")\n",
        "zip_file = ZipFile(zip_path)\n",
        "zip_file.extractall()\n",
        "csv_path = \"jena_climate_2009_2016.csv\"\n",
        "\n",
        "df = pd.read_csv(csv_path)"
      ]
    },
    {
      "cell_type": "code",
      "execution_count": null,
      "metadata": {
        "id": "yqtUNl0MZiEt"
      },
      "outputs": [],
      "source": [
        "titles = [\n",
        "    \"Pressure\",\n",
        "    \"Temperature\",\n",
        "    \"Temperature in Kelvin\",\n",
        "    \"Temperature (dew point)\",\n",
        "    \"Relative Humidity\",\n",
        "    \"Saturation vapor pressure\",\n",
        "    \"Vapor pressure\",\n",
        "    \"Vapor pressure deficit\",\n",
        "    \"Specific humidity\",\n",
        "    \"Water vapor concentration\",\n",
        "    \"Airtight\",\n",
        "    \"Wind speed\",\n",
        "    \"Maximum wind speed\",\n",
        "    \"Wind direction in degrees\",\n",
        "]\n",
        "\n",
        "feature_keys = [\n",
        "    \"p (mbar)\",\n",
        "    \"T (degC)\",\n",
        "    \"Tpot (K)\",\n",
        "    \"Tdew (degC)\",\n",
        "    \"rh (%)\",\n",
        "    \"VPmax (mbar)\",\n",
        "    \"VPact (mbar)\",\n",
        "    \"VPdef (mbar)\",\n",
        "    \"sh (g/kg)\",\n",
        "    \"H2OC (mmol/mol)\",\n",
        "    \"rho (g/m**3)\",\n",
        "    \"wv (m/s)\",\n",
        "    \"max. wv (m/s)\",\n",
        "    \"wd (deg)\",\n",
        "]\n",
        "\n",
        "colors = [\n",
        "    \"blue\",\n",
        "    \"orange\",\n",
        "    \"green\",\n",
        "    \"red\",\n",
        "    \"purple\",\n",
        "    \"brown\",\n",
        "    \"pink\",\n",
        "    \"gray\",\n",
        "    \"olive\",\n",
        "    \"cyan\",\n",
        "]\n",
        "\n",
        "date_time_key = \"Date Time\"\n",
        "\n",
        "\n",
        "def show_raw_visualization(data):\n",
        "    time_data = data[date_time_key]\n",
        "    fig, axes = plt.subplots(\n",
        "        nrows=7, ncols=2, figsize=(15, 20), dpi=80, facecolor=\"w\", edgecolor=\"k\"\n",
        "    )\n",
        "    for i in range(len(feature_keys)):\n",
        "        key = feature_keys[i]\n",
        "        c = colors[i % (len(colors))]\n",
        "        t_data = data[key]\n",
        "        t_data.index = time_data\n",
        "        t_data.head()\n",
        "        ax = t_data.plot(\n",
        "            ax=axes[i // 2, i % 2],\n",
        "            color=c,\n",
        "            title=\"{} - {}\".format(titles[i], key),\n",
        "            rot=25,\n",
        "        )\n",
        "        ax.legend([titles[i]])\n",
        "    plt.tight_layout()\n",
        "\n",
        "\n",
        "show_raw_visualization(df)"
      ]
    },
    {
      "cell_type": "code",
      "execution_count": null,
      "metadata": {
        "colab": {
          "base_uri": "https://localhost:8080/",
          "height": 370
        },
        "id": "6cFddfDujPan",
        "outputId": "9e9f568b-1876-4a46-c6db-6c37364b6b36"
      },
      "outputs": [
        {
          "output_type": "display_data",
          "data": {
            "text/plain": [
              "<Figure size 288x288 with 2 Axes>"
            ],
            "image/png": "[encoded data removed]"
          },
          "metadata": {
            "needs_background": "light"
          }
        }
      ],
      "source": [
        "def show_heatmap(data):\n",
        "    plt.matshow(data.corr())\n",
        "    plt.xticks(range(data.shape[1]), data.columns, fontsize=14, rotation=90)\n",
        "    plt.gca().xaxis.tick_bottom()\n",
        "    plt.yticks(range(data.shape[1]), data.columns, fontsize=14)\n",
        "\n",
        "    cb = plt.colorbar()\n",
        "    cb.ax.tick_params(labelsize=14)\n",
        "    plt.title(\"Feature Correlation Heatmap\", fontsize=14)\n",
        "    plt.show()\n",
        "\n",
        "\n",
        "show_heatmap(df)"
      ]
    },
    {
      "cell_type": "code",
      "execution_count": null,
      "metadata": {
        "id": "0fMxFsCQjTMJ"
      },
      "outputs": [],
      "source": [
        "split_fraction = 0.715\n",
        "train_split = int(split_fraction * int(df.shape[0]))\n",
        "step = 6\n",
        "\n",
        "past = 720\n",
        "future = 72\n",
        "learning_rate = 0.001\n",
        "batch_size = 256\n",
        "epochs = 10\n",
        "\n",
        "\n",
        "def normalize(data, train_split):\n",
        "    data_mean = data[:train_split].mean(axis=0)\n",
        "    data_std = data[:train_split].std(axis=0)\n",
        "    return (data - data_mean) / data_std"
      ]
    },
    {
      "cell_type": "code",
      "execution_count": null,
      "metadata": {
        "colab": {
          "base_uri": "https://localhost:8080/"
        },
        "id": "s7K5iET9jWHu",
        "outputId": "9bc3b413-b60e-4b5b-fa86-1c496ccb9dbb"
      },
      "outputs": [
        {
          "output_type": "stream",
          "name": "stdout",
          "text": [
            "The selected parameters are: Pressure, Temperature, Saturation vapor pressure\n"
          ]
        }
      ],
      "source": [
        "print(\n",
        "    \"The selected parameters are:\",\n",
        "#    \", \".join([titles[i] for i in [0, 1, 5, 7, 8, 10, 11]]),\n",
        "    \", \".join([titles[i] for i in [0, 1, 5]]),\n",
        ")\n",
        "# selected_features = [feature_keys[i] for i in [0, 1, 5, 7, 8, 10, 11]]\n",
        "selected_features = [feature_keys[i] for i in [0, 1, 5]]\n",
        "features = df[selected_features]\n",
        "features.index = df[date_time_key]\n",
        "features.head()\n",
        "\n",
        "features = normalize(features.values, train_split)\n",
        "features = pd.DataFrame(features)\n",
        "features.head()\n",
        "\n",
        "train_data = features.loc[0 : train_split - 1]\n",
        "val_data = features.loc[train_split:]"
      ]
    },
    {
      "cell_type": "code",
      "execution_count": null,
      "metadata": {
        "id": "Rn19fOuNjYdV"
      },
      "outputs": [],
      "source": [
        "start = past + future\n",
        "end = start + train_split\n",
        "\n",
        "#x_train = train_data[[i for i in range(7)]].values\n",
        "x_train = train_data[[i for i in range(3)]].values\n",
        "y_train = features.iloc[start:end][[1]]\n",
        "\n",
        "sequence_length = int(past / step)"
      ]
    },
    {
      "cell_type": "code",
      "execution_count": null,
      "metadata": {
        "id": "Iwkk5J94jcur"
      },
      "outputs": [],
      "source": [
        "dataset_train = keras.preprocessing.timeseries_dataset_from_array(\n",
        "    x_train,\n",
        "    y_train,\n",
        "    sequence_length=sequence_length,\n",
        "    sampling_rate=step,\n",
        "    batch_size=batch_size,\n",
        ")"
      ]
    },
    {
      "cell_type": "code",
      "execution_count": null,
      "metadata": {
        "colab": {
          "base_uri": "https://localhost:8080/"
        },
        "id": "3_UAoSgXjd3S",
        "outputId": "9dc607e4-1286-4aed-c825-a9f91cc11f1e"
      },
      "outputs": [
        {
          "output_type": "stream",
          "name": "stdout",
          "text": [
            "Input shape: (256, 120, 3)\n",
            "Target shape: (256, 1)\n"
          ]
        }
      ],
      "source": [
        "x_end = len(val_data) - past - future\n",
        "\n",
        "label_start = train_split + past + future\n",
        "\n",
        "# x_val = val_data.iloc[:x_end][[i for i in range(7)]].values\n",
        "x_val = val_data.iloc[:x_end][[i for i in range(3)]].values\n",
        "y_val = features.iloc[label_start:][[1]]\n",
        "\n",
        "dataset_val = keras.preprocessing.timeseries_dataset_from_array(\n",
        "    x_val,\n",
        "    y_val,\n",
        "    sequence_length=sequence_length,\n",
        "    sampling_rate=step,\n",
        "    batch_size=batch_size,\n",
        ")\n",
        "\n",
        "\n",
        "for batch in dataset_train.take(1):\n",
        "    inputs, targets = batch\n",
        "\n",
        "print(\"Input shape:\", inputs.numpy().shape)\n",
        "print(\"Target shape:\", targets.numpy().shape)"
      ]
    },
    {
      "cell_type": "code",
      "execution_count": null,
      "metadata": {
        "id": "vNSipaYtjgeH"
      },
      "outputs": [],
      "source": [
        "inputs = keras.layers.Input(shape=(inputs.shape[1], inputs.shape[2]))\n",
        "lstm_out = keras.layers.LSTM(32)(inputs)\n",
        "outputs = keras.layers.Dense(1)(lstm_out)\n",
        "\n",
        "model = keras.Model(inputs=inputs, outputs=outputs)\n",
        "model.compile(optimizer=keras.optimizers.Adam(learning_rate=learning_rate), loss=\"mse\")\n",
        "model.summary()"
      ]
    },
    {
      "cell_type": "code",
      "execution_count": null,
      "metadata": {
        "id": "W7sgwOmLjkdu"
      },
      "outputs": [],
      "source": [
        "path_checkpoint = \"model_checkpoint.h5\"\n",
        "es_callback = keras.callbacks.EarlyStopping(monitor=\"val_loss\", min_delta=0, patience=5)\n",
        "\n",
        "modelckpt_callback = keras.callbacks.ModelCheckpoint(\n",
        "    monitor=\"val_loss\",\n",
        "    filepath=path_checkpoint,\n",
        "    verbose=1,\n",
        "    save_weights_only=True,\n",
        "    save_best_only=True,\n",
        ")\n",
        "\n",
        "history = model.fit(\n",
        "    dataset_train,\n",
        "    epochs=2,\n",
        "    validation_data=dataset_val,\n",
        "    callbacks=[es_callback, modelckpt_callback],\n",
        ")"
      ]
    },
    {
      "cell_type": "code",
      "execution_count": null,
      "metadata": {
        "id": "sem4dhnMjmAr"
      },
      "outputs": [],
      "source": [
        "def visualize_loss(history, title):\n",
        "    loss = history.history[\"loss\"]\n",
        "    val_loss = history.history[\"val_loss\"]\n",
        "    epochs = range(len(loss))\n",
        "    plt.figure()\n",
        "    plt.plot(epochs, loss, \"b\", label=\"Training loss\")\n",
        "    plt.plot(epochs, val_loss, \"r\", label=\"Validation loss\")\n",
        "    plt.title(title)\n",
        "    plt.xlabel(\"Epochs\")\n",
        "    plt.ylabel(\"Loss\")\n",
        "    plt.legend()\n",
        "    plt.show()\n",
        "\n",
        "\n",
        "visualize_loss(history, \"Training and Validation Loss\")"
      ]
    },
    {
      "cell_type": "code",
      "execution_count": null,
      "metadata": {
        "id": "zvNuwzbhjpJF"
      },
      "outputs": [],
      "source": [
        "def show_plot(plot_data, delta, title):\n",
        "    labels = [\"History\", \"True Future\", \"Model Prediction\"]\n",
        "    marker = [\".-\", \"rx\", \"go\"]\n",
        "    time_steps = list(range(-(plot_data[0].shape[0]), 0))\n",
        "    if delta:\n",
        "        future = delta\n",
        "    else:\n",
        "        future = 0\n",
        "\n",
        "    plt.title(title)\n",
        "    for i, val in enumerate(plot_data):\n",
        "        if i:\n",
        "            plt.plot(future, plot_data[i], marker[i], markersize=10, label=labels[i])\n",
        "        else:\n",
        "            plt.plot(time_steps, plot_data[i].flatten(), marker[i], label=labels[i])\n",
        "    plt.legend()\n",
        "    plt.xlim([time_steps[0], (future + 5) * 2])\n",
        "    plt.xlabel(\"Time-Step\")\n",
        "    plt.show()\n",
        "    return\n",
        "\n",
        "\n",
        "for x, y in dataset_val.take(5):\n",
        "    show_plot(\n",
        "        [x[0][:, 1].numpy(), y[0].numpy(), model.predict(x)[0]],\n",
        "        12,\n",
        "        \"Single Step Prediction\",\n",
        "    )"
      ]
    },
    {
      "cell_type": "markdown",
      "metadata": {
        "id": "clEvXo0lTDXk"
      },
      "source": [
        "### 確認例題3-5\n",
        "* 上記のコードでは、3つの属性\"Pressure\", \"Temperature\", \"Saturation vapor pressure\"を用いて、予測を行うモデルを構築しています。さらに、\"Vapor pressure deficit\"や\"Specific humidity\"などの他の属性を加えて予測を行うと、予測精度がどのように変化するかを確認してみましょう。\n",
        "* 属性のリスト:\n",
        " \"Pressure\",\n",
        "    \"Temperature\",\n",
        "    \"Temperature in Kelvin\",\n",
        "    \"Temperature (dew point)\",\n",
        "    \"Relative Humidity\",\n",
        "    \"Saturation vapor pressure\",\n",
        "    \"Vapor pressure\",\n",
        "    \"Vapor pressure deficit\",\n",
        "    \"Specific humidity\",\n",
        "    \"Water vapor concentration\",\n",
        "    \"Airtight\",\n",
        "    \"Wind speed\",\n",
        "    \"Maximum wind speed\",\n",
        "    \"Wind direction in degrees\",\n",
        "\n",
        "* なお、epoch数は10程度にしてみましょう。"
      ]
    },
    {
      "cell_type": "markdown",
      "metadata": {
        "id": "z0qzdmprdz46"
      },
      "source": [
        "## LSTMによる人間活動の判定モデル\n",
        "* 加速度センサーやジャイロセンサーから得られる人間行動データを学習し、活動の種類を判定するLSTMモデルを構築します。\n",
        "* 学習データには、カルフォルニア大学アーバイン校で公開されているUCI HARデータセットを用います。\n",
        "https://archive.ics.uci.edu/ml/datasets/human+activity+recognition+using+smartphones"
      ]
    },
    {
      "cell_type": "code",
      "execution_count": null,
      "metadata": {
        "id": "j0vPw2v_d4eu"
      },
      "outputs": [],
      "source": [
        "# lstm model\n",
        "from numpy import mean\n",
        "from numpy import std\n",
        "from numpy import dstack\n",
        "from pandas import read_csv\n",
        "from tensorflow.keras.models import Sequential\n",
        "from tensorflow.keras.layers import Dense\n",
        "from tensorflow.keras.layers import Flatten\n",
        "from tensorflow.keras.layers import Dropout\n",
        "from tensorflow.keras.layers import LSTM\n",
        "from tensorflow.keras.utils import to_categorical\n",
        "from matplotlib import pyplot"
      ]
    },
    {
      "cell_type": "markdown",
      "metadata": {
        "id": "vJimqXUPW34o"
      },
      "source": [
        "#### データの準備"
      ]
    },
    {
      "cell_type": "code",
      "execution_count": null,
      "metadata": {
        "id": "aTZcqYMgd95b"
      },
      "outputs": [],
      "source": [
        "!wget https://archive.ics.uci.edu/ml/machine-learning-databases/00240/UCI%20HAR%20Dataset.zip\n",
        "!unzip \"UCI HAR Dataset.zip\""
      ]
    },
    {
      "cell_type": "code",
      "execution_count": null,
      "metadata": {
        "id": "UJADlKYgeGg-"
      },
      "outputs": [],
      "source": [
        "# load a list of files and return as a 3d numpy array\n",
        "def load_files(filenames, prefix=''):\n",
        "\tloaded = list()\n",
        "\tfor name in filenames:\n",
        "\t\tdata = read_csv(prefix + name, header=None, delim_whitespace=True)\n",
        "\t\tloaded.append(data.values)\n",
        "\t# stack group so that features are the 3rd dimension\n",
        "\tloaded = dstack(loaded)\n",
        "\treturn loaded\n",
        "\n",
        "# load a dataset group, such as train or test\n",
        "def load_dataset(group, prefix=''):\n",
        "\tfilepath = prefix + group + '/Inertial Signals/'\n",
        "\t# load all 9 files as a single array\n",
        "\tfilenames = list()\n",
        "\t# total acceleration\n",
        "\tfilenames += ['total_acc_x_'+group+'.txt', 'total_acc_y_'+group+'.txt', 'total_acc_z_'+group+'.txt']\n",
        "\t# body acceleration\n",
        "\tfilenames += ['body_acc_x_'+group+'.txt', 'body_acc_y_'+group+'.txt', 'body_acc_z_'+group+'.txt']\n",
        "\t# body gyroscope\n",
        "\tfilenames += ['body_gyro_x_'+group+'.txt', 'body_gyro_y_'+group+'.txt', 'body_gyro_z_'+group+'.txt']\n",
        "\t# load input data\n",
        "\tX = load_files(filenames, filepath)\n",
        "\t# load class output\n",
        "\ty = read_csv(prefix + group + '/y_'+group+'.txt', header=None, delim_whitespace=True)\n",
        "\treturn X, y"
      ]
    },
    {
      "cell_type": "code",
      "execution_count": null,
      "metadata": {
        "id": "8v9E_-j3eWxx"
      },
      "outputs": [],
      "source": [
        "\ttrainX, trainy = load_dataset('train', 'UCI HAR Dataset/')\n",
        "\tprint(trainX.shape, trainy.shape)\n",
        "\t# load all test\n",
        "\ttestX, testy = load_dataset('test', 'UCI HAR Dataset/')\n",
        "\tprint(testX.shape, testy.shape)\n",
        "\t\n",
        "\ttrainy = trainy - 1\n",
        "\ttesty = testy - 1\n",
        "\t# one-hotベクトル\n",
        "\ttrainy = to_categorical(trainy)\n",
        "\ttesty = to_categorical(testy)\n",
        "\tprint(trainX.shape, trainy.shape, testX.shape, testy.shape)"
      ]
    },
    {
      "cell_type": "markdown",
      "metadata": {
        "id": "rSOq2PolW9OK"
      },
      "source": [
        "#### LSTMモデルの構築"
      ]
    },
    {
      "cell_type": "code",
      "execution_count": null,
      "metadata": {
        "id": "ZpAKTkt2gi7e"
      },
      "outputs": [],
      "source": [
        "n_timesteps, n_features, n_outputs = trainX.shape[1], trainX.shape[2], trainy.shape[1]\n",
        "model = Sequential()\n",
        "model.add(LSTM(100, input_shape=(n_timesteps,n_features)))\n",
        "model.add(Dropout(0.5))\n",
        "model.add(Dense(100, activation='relu'))\n",
        "model.add(Dense(n_outputs, activation='softmax'))\n",
        "model.compile(loss='categorical_crossentropy', optimizer='adam', metrics=['accuracy'])\n"
      ]
    },
    {
      "cell_type": "markdown",
      "metadata": {
        "id": "tqr2VjK1XEvI"
      },
      "source": [
        "#### 学習と評価"
      ]
    },
    {
      "cell_type": "code",
      "execution_count": null,
      "metadata": {
        "colab": {
          "base_uri": "https://localhost:8080/"
        },
        "id": "QlK4pMiqwPnW",
        "outputId": "c73294ff-76c1-4047-add4-8c6391117ce4"
      },
      "outputs": [
        {
          "output_type": "stream",
          "name": "stdout",
          "text": [
            "0.9009161591529846\n"
          ]
        }
      ],
      "source": [
        "model.fit(trainX, trainy, epochs=15, batch_size=64, verbose=0)\n",
        "_, accuracy = model.evaluate(testX, testy, batch_size=64, verbose=0)\n",
        "\n",
        "print(accuracy)"
      ]
    },
    {
      "cell_type": "markdown",
      "metadata": {
        "id": "xgTlO2Wpaw5P"
      },
      "source": [
        "#### 確認例題3-6\n",
        "エポック数を5, 10, 15, 20, 25, 30のように変化させ、認識精度がどのように変化するかを確認してみましょう。"
      ]
    },
    {
      "cell_type": "markdown",
      "metadata": {
        "id": "9ygCNSOphvhv"
      },
      "source": [
        "# レポート課題\n",
        "\n",
        "1. **課題提出用にcolaboratory上で実行するためのページを作成**し、下記の確認例題について実行結果を掲載してください。(**説明文や図など、指定した課題に関係ない内容は削除**してください。)\n",
        "\n",
        " * 確認例題1-2 (week6)\n",
        " * 確認例題3-1 (week8) \n",
        " * 確認例題3-2 (week8) ※ この課題は確認例題2-1を含みます。\n",
        " * 確認例題3-3 (week8)\n",
        " * 確認例題3-5 (week8)\n",
        "\n",
        "2. 講義の感想も、同じページ上に記述して下さい。\n",
        "\n",
        "3. 提出方法と期限\n",
        " * ColaboratoryのページのURLを記載して、manabaより提出してください。\n",
        " * 提出期限: 11/25(金)"
      ]
    },
    {
      "cell_type": "markdown",
      "metadata": {
        "id": "rMK1SPj4zebm"
      },
      "source": [
        "# 参考文献\n",
        "* Jacob Devlin, Ming-Wei Chang, Kenton Lee, Kristina Toutanova, BERT: Pre-training of Deep Bidirectional Transformers for Language Understanding, https://arxiv.org/abs/1810.04805v1, 2018.\n",
        "* Keras公式サイト, https://keras.io/examples/"
      ]
    }
  ],
  "metadata": {
    "accelerator": "GPU",
    "colab": {
      "collapsed_sections": [
        "kKaFv5FCanCw",
        "ztcTHfPXRT0V",
        "clEvXo0lTDXk",
        "vJimqXUPW34o",
        "rSOq2PolW9OK",
        "tqr2VjK1XEvI",
        "xgTlO2Wpaw5P"
      ],
      "provenance": []
    },
    "kernelspec": {
      "display_name": "Python 3",
      "name": "python3"
    }
  },
  "nbformat": 4,
  "nbformat_minor": 0
}